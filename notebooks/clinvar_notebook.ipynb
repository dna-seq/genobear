{
 "cells": [
  {
   "cell_type": "markdown",
   "id": "27fe0aa7",
   "metadata": {},
   "source": [
    "# Genobear exploration notebook\n",
    "\n"
   ]
  },
  {
   "cell_type": "code",
   "execution_count": 5,
   "id": "9c24ed84",
   "metadata": {},
   "outputs": [
    {
     "data": {
      "text/plain": [
       "polars.config.Config"
      ]
     },
     "execution_count": 5,
     "metadata": {},
     "output_type": "execute_result"
    }
   ],
   "source": [
    "import os\n",
    "import polars as pl\n",
    "import polars_bio as pb\n",
    "from pathlib import Path\n",
    "from pycomfort import files\n",
    "import polars_bio as pb\n",
    "# Configure Polars to show more rows and columns\n",
    "pl.Config.set_tbl_rows(-1)  # Show all rows (or use a large number like 1000)\n",
    "pl.Config.set_tbl_cols(-1)  # Show all columns (or use a large number like 50)\n",
    "pl.Config.set_tbl_width_chars(1000)  # Increase table width to prevent column truncation\n",
    "pl.Config.set_fmt_str_lengths(1000)  # Show longer string values without truncation\n",
    "\n",
    "\n",
    "\n",
    "\n",
    "\n"
   ]
  },
  {
   "cell_type": "code",
   "execution_count": 6,
   "id": "ea9d9f4b",
   "metadata": {},
   "outputs": [],
   "source": [
    "from pycomfort.logging import to_nice_stdout, to_nice_file\n",
    "to_nice_stdout()"
   ]
  },
  {
   "cell_type": "code",
   "execution_count": 7,
   "id": "ec4f631b",
   "metadata": {},
   "outputs": [
    {
     "name": "stdout",
     "output_type": "stream",
     "text": [
      "/home/antonkulaga/.cache/genobear\n",
      "genobear\n",
      "\tensembl_vcf\n",
      "\t\thomo_sapiens-chr1.vcf.gz\n",
      "\t\thomo_sapiens-chr5.vcf.gz\n",
      "\t\t20f9321d22b6bf386b0a23d2499243e195aff8e21d1654a53c0da8019c8a8b7a\n",
      "\t\thomo_sapiens-chr6.vcf.gz\n",
      "\t\t0416f6134bd5c84286ebd4fffe845a4d6768e6f86f069a0773eff784aa4c084d\n",
      "\t\t765b8fa0647d27df66fbfa8c859f77d0c565bbb9e7ab15760b7e0e0e84a59638\n",
      "\t\tdca203f561595c9b659bd8b85a57c4b23e1ff6d02bced4cdc786b77fd31c299c\n",
      "\t\t2e23a05fd1d65acd59d1d9342e201e0f96aef41d030ba274858a733a3b89af45\n",
      "\t\t955092064d2abb285773b06afeba9f4c5433ef6c7e44d484c8a2d8ec76f5a89c\n",
      "\t\t8b12c9270181eff64730438982c27e1abf94bc8cc306d81afecba3bcdb3f2756\n",
      "\t\tb29bc733eeeefd2f16b04d3b2b388f708d012d2da8b2e8548843c1a7fe09e6dd\n",
      "\t\t3e6b27d87ef73d02741a7a31dfadc5500c625cf849e15b27fb2eddf0e593a4d7\n",
      "\t\thomo_sapiens-chr9.vcf.gz\n",
      "\t\ta98b26f48b8ae5cff08d83198727e25ddf71e9f74999d8b7cc68ae23fad793d1\n",
      "\t\tb6f04df9d2463af48af3ed7a076f31c747bfb76d926eea0e99f8e5fb99aee2de\n",
      "\t\thomo_sapiens-chr10.vcf.gz\n",
      "\t\ta1e660f1b6f8881723856fb15da4edc90431fc4da7788f10ace8a998b8c4f1df\n",
      "\t\thomo_sapiens-chr21.vcf.gz\n",
      "\t\t5fc199031ab98e57f415aa9bcb5740eb7334ed7365a0da72e44ff8b124fc7449\n",
      "\t\t685a2f8f3e41bc3782d359c16431508be8430f9d9ecef023ac1df2ba34e5f9d7\n",
      "\t\ta70e19f5693abcbf0b72ea5af221c8a038655e4807b7b6810ad37a4764318df2\n",
      "\t\thomo_sapiens-chr4.vcf.gz\n",
      "\t\t5b966915ba0e3827996869f03b4618e6f278af900af91d8d70afcc571e725dcc\n",
      "\t\thomo_sapiens-chr17.vcf.gz\n",
      "\t\t26dfe358b5f64aea425b5338ae317d484e32f262a08112709364e693faacfff1\n",
      "\t\thomo_sapiens-chr14.vcf.gz\n",
      "\t\thomo_sapiens-chr2.vcf.gz\n",
      "\t\thomo_sapiens-chr19.vcf.gz\n",
      "\t\thomo_sapiens-chr22.vcf.gz\n",
      "\t\thomo_sapiens-chr8.vcf.gz\n",
      "\t\thomo_sapiens-chr20.vcf.gz\n",
      "\t\thomo_sapiens-chr16.vcf.gz\n",
      "\t\tc57b22848598d8852c32b677bc5e7a0f2e38f96b80ec6d21b53b14302f7d2bb7\n",
      "\t\t0c30a73e6f464f62a5ff04eaa5c4899b1bded084163bab70d7b28c538d478335\n",
      "\t\t1dd5263e68ef09c17aecad303b7d8b8c924590ad8fb0ed8a4eb0c40e9bad9ca8\n",
      "\t\t2491340ace46c4a9b3ab6b3d2b9a3132612aa4b5a226f527b2c5305ec4b103f5\n",
      "\t\tbdc6dfcff61193ed6c868d0c1c9f65df8668827d81fe16f335b0fdd4ef600a45\n",
      "\t\thomo_sapiens-chrX.vcf.gz\n",
      "\t\t97cf0fab0d97a98f4eec6c34a3b769ef5de682c5d20ab1654a01b8b0351f622b\n",
      "\t\t321ea42b5fb07231dd7c3c7ff22766ce79b484289982106002b426781268501b\n",
      "\t\thomo_sapiens-chr7.vcf.gz\n",
      "\t\thomo_sapiens-chrY.vcf.gz\n",
      "\t\tcache\n",
      "\t\thomo_sapiens-chr15.vcf.gz\n",
      "\t\thomo_sapiens-chr11.vcf.gz\n",
      "\t\thomo_sapiens-chrMT.vcf.gz\n",
      "\t\thomo_sapiens-chr18.vcf.gz\n",
      "\t\thomo_sapiens-chr13.vcf.gz\n",
      "\t\thomo_sapiens-chr12.vcf.gz\n",
      "\t\thomo_sapiens-chr3.vcf.gz\n",
      "\t\t0833c226e7ce27f2dcfdf5fe14e82f0d4822548f10084d932a5174429ab32ebc\n",
      "\tclinvar\n",
      "\t\tGRCh38\n",
      "\t.fsspec_cache\n",
      "\t\t20f9321d22b6bf386b0a23d2499243e195aff8e21d1654a53c0da8019c8a8b7a\n",
      "\t\t0416f6134bd5c84286ebd4fffe845a4d6768e6f86f069a0773eff784aa4c084d\n",
      "\t\t765b8fa0647d27df66fbfa8c859f77d0c565bbb9e7ab15760b7e0e0e84a59638\n",
      "\t\tdca203f561595c9b659bd8b85a57c4b23e1ff6d02bced4cdc786b77fd31c299c\n",
      "\t\t2e23a05fd1d65acd59d1d9342e201e0f96aef41d030ba274858a733a3b89af45\n",
      "\t\t955092064d2abb285773b06afeba9f4c5433ef6c7e44d484c8a2d8ec76f5a89c\n",
      "\t\t8b12c9270181eff64730438982c27e1abf94bc8cc306d81afecba3bcdb3f2756\n",
      "\t\tb29bc733eeeefd2f16b04d3b2b388f708d012d2da8b2e8548843c1a7fe09e6dd\n",
      "\t\t3e6b27d87ef73d02741a7a31dfadc5500c625cf849e15b27fb2eddf0e593a4d7\n",
      "\t\ta98b26f48b8ae5cff08d83198727e25ddf71e9f74999d8b7cc68ae23fad793d1\n",
      "\t\tb6f04df9d2463af48af3ed7a076f31c747bfb76d926eea0e99f8e5fb99aee2de\n",
      "\t\tc1532e95aff03762d0f1d262033880a9a0ee5dbf0ab5fbbeab59739f82bebc06\n",
      "\t\ta1e660f1b6f8881723856fb15da4edc90431fc4da7788f10ace8a998b8c4f1df\n",
      "\t\t5fc199031ab98e57f415aa9bcb5740eb7334ed7365a0da72e44ff8b124fc7449\n",
      "\t\t685a2f8f3e41bc3782d359c16431508be8430f9d9ecef023ac1df2ba34e5f9d7\n",
      "\t\ta70e19f5693abcbf0b72ea5af221c8a038655e4807b7b6810ad37a4764318df2\n",
      "\t\t5b966915ba0e3827996869f03b4618e6f278af900af91d8d70afcc571e725dcc\n",
      "\t\t26dfe358b5f64aea425b5338ae317d484e32f262a08112709364e693faacfff1\n",
      "\t\tc57b22848598d8852c32b677bc5e7a0f2e38f96b80ec6d21b53b14302f7d2bb7\n",
      "\t\t0c30a73e6f464f62a5ff04eaa5c4899b1bded084163bab70d7b28c538d478335\n",
      "\t\t1dd5263e68ef09c17aecad303b7d8b8c924590ad8fb0ed8a4eb0c40e9bad9ca8\n",
      "\t\t2491340ace46c4a9b3ab6b3d2b9a3132612aa4b5a226f527b2c5305ec4b103f5\n",
      "\t\tbdc6dfcff61193ed6c868d0c1c9f65df8668827d81fe16f335b0fdd4ef600a45\n",
      "\t\t97cf0fab0d97a98f4eec6c34a3b769ef5de682c5d20ab1654a01b8b0351f622b\n",
      "\t\t321ea42b5fb07231dd7c3c7ff22766ce79b484289982106002b426781268501b\n",
      "\t\tcache\n",
      "\t\t0833c226e7ce27f2dcfdf5fe14e82f0d4822548f10084d932a5174429ab32ebc\n",
      "\tensembl_variations\n",
      "\t\thomo_sapiens-chr1.vcf.gz.csi\n",
      "\t\thomo_sapiens-chr18.vcf.gz.csi\n",
      "\t\thomo_sapiens-chr1.vcf.gz\n",
      "\t\thomo_sapiens-chr5.vcf.gz\n",
      "\t\thomo_sapiens-chr2.parquet\n",
      "\t\thomo_sapiens-chr6.vcf.gz\n",
      "\t\thomo_sapiens-chr9.parquet\n",
      "\t\thomo_sapiens-chrY.vcf.gz.csi\n",
      "\t\thomo_sapiens-chrMT.vcf.gz.csi\n",
      "\t\thomo_sapiens-chr20.vcf.gz.csi\n",
      "\t\thomo_sapiens-chr15.vcf.gz.csi\n",
      "\t\thomo_sapiens-chr17.parquet\n",
      "\t\thomo_sapiens-chr9.vcf.gz\n",
      "\t\thomo_sapiens-chr4.vcf.gz.csi\n",
      "\t\thomo_sapiens-chr10.vcf.gz\n",
      "\t\thomo_sapiens-chr14.vcf.gz.csi\n",
      "\t\thomo_sapiens-chr21.parquet\n",
      "\t\thomo_sapiens-chr8.parquet\n",
      "\t\thomo_sapiens-chrY.parquet\n",
      "\t\thomo_sapiens-chr5.vcf.gz.csi\n",
      "\t\thomo_sapiens-chr20.parquet\n",
      "\t\thomo_sapiens-chr19.parquet\n",
      "\t\thomo_sapiens-chr21.vcf.gz\n",
      "\t\thomo_sapiens-chr4.parquet\n",
      "\t\thomo_sapiens-chr14.parquet\n",
      "\t\thomo_sapiens-chr16.vcf.gz.csi\n",
      "\t\thomo_sapiens-chr3.parquet\n",
      "\t\thomo_sapiens-chr7.vcf.gz.csi\n",
      "\t\thomo_sapiens-chr13.parquet\n",
      "\t\thomo_sapiens-chr4.vcf.gz\n",
      "\t\thomo_sapiens-chr3.vcf.gz.csi\n",
      "\t\thomo_sapiens-chrX.parquet\n",
      "\t\thomo_sapiens-chr22.vcf.gz.csi\n",
      "\t\thomo_sapiens-chr17.vcf.gz\n",
      "\t\thomo_sapiens-chr6.parquet\n",
      "\t\thomo_sapiens-chr5.parquet\n",
      "\t\thomo_sapiens-chr6.vcf.gz.csi\n",
      "\t\thomo_sapiens-chr14.vcf.gz\n",
      "\t\thomo_sapiens-chr2.vcf.gz\n",
      "\t\thomo_sapiens-chr19.vcf.gz\n",
      "\t\thomo_sapiens-chr22.parquet\n",
      "\t\thomo_sapiens-chr1.parquet\n",
      "\t\thomo_sapiens-chr22.vcf.gz\n",
      "\t\thomo_sapiens-chrMT.parquet\n",
      "\t\thomo_sapiens-chr8.vcf.gz\n",
      "\t\thomo_sapiens-chr20.vcf.gz\n",
      "\t\thomo_sapiens-chr16.vcf.gz\n",
      "\t\thomo_sapiens-chrX.vcf.gz.csi\n",
      "\t\thomo_sapiens-chr17.vcf.gz.csi\n",
      "\t\thomo_sapiens-chrX.vcf.gz\n",
      "\t\thomo_sapiens-chr12.vcf.gz.csi\n",
      "\t\thomo_sapiens-chr21.vcf.gz.csi\n",
      "\t\thomo_sapiens-chr7.vcf.gz\n",
      "\t\thomo_sapiens-chrY.vcf.gz\n",
      "\t\thomo_sapiens-chr15.parquet\n",
      "\t\thomo_sapiens-chr15.vcf.gz\n",
      "\t\thomo_sapiens-chr11.vcf.gz\n",
      "\t\thomo_sapiens-chr16.parquet\n",
      "\t\thomo_sapiens-chrMT.vcf.gz\n",
      "\t\thomo_sapiens-chr18.vcf.gz\n",
      "\t\thomo_sapiens-chr13.vcf.gz\n",
      "\t\thomo_sapiens-chr11.vcf.gz.csi\n",
      "\t\thomo_sapiens-chr7.parquet\n",
      "\t\thomo_sapiens-chr13.vcf.gz.csi\n",
      "\t\thomo_sapiens-chr12.vcf.gz\n",
      "\t\thomo_sapiens-chr19.vcf.gz.csi\n",
      "\t\thomo_sapiens-chr3.vcf.gz\n",
      "\t\thomo_sapiens-chr9.vcf.gz.csi\n",
      "\t\thomo_sapiens-chr12.parquet\n",
      "\t\thomo_sapiens-chr10.vcf.gz.csi\n",
      "\t\thomo_sapiens-chr18.parquet\n",
      "\t\thomo_sapiens-chr8.vcf.gz.csi\n",
      "\t\thomo_sapiens-chr2.vcf.gz.csi\n",
      "\t\thomo_sapiens-chr11.parquet\n",
      "\t\thomo_sapiens-chr10.parquet\n"
     ]
    }
   ],
   "source": [
    "from platformdirs import user_cache_dir\n",
    "from pycomfort.files import tprint\n",
    "cache_dir = Path(user_cache_dir(appname=\"genobear\"))\n",
    "print(cache_dir.absolute().resolve())\n",
    "tprint(cache_dir)"
   ]
  },
  {
   "cell_type": "code",
   "execution_count": 16,
   "id": "b74c7d4f",
   "metadata": {},
   "outputs": [
    {
     "data": {
      "text/plain": [
       "[PosixPath('/home/antonkulaga/.cache/genobear/ensembl_variations/homo_sapiens-chr2.parquet'),\n",
       " PosixPath('/home/antonkulaga/.cache/genobear/ensembl_variations/homo_sapiens-chr9.parquet'),\n",
       " PosixPath('/home/antonkulaga/.cache/genobear/ensembl_variations/homo_sapiens-chr17.parquet'),\n",
       " PosixPath('/home/antonkulaga/.cache/genobear/ensembl_variations/homo_sapiens-chr21.parquet'),\n",
       " PosixPath('/home/antonkulaga/.cache/genobear/ensembl_variations/homo_sapiens-chr8.parquet'),\n",
       " PosixPath('/home/antonkulaga/.cache/genobear/ensembl_variations/homo_sapiens-chrY.parquet'),\n",
       " PosixPath('/home/antonkulaga/.cache/genobear/ensembl_variations/homo_sapiens-chr20.parquet'),\n",
       " PosixPath('/home/antonkulaga/.cache/genobear/ensembl_variations/homo_sapiens-chr19.parquet'),\n",
       " PosixPath('/home/antonkulaga/.cache/genobear/ensembl_variations/homo_sapiens-chr4.parquet'),\n",
       " PosixPath('/home/antonkulaga/.cache/genobear/ensembl_variations/homo_sapiens-chr14.parquet'),\n",
       " PosixPath('/home/antonkulaga/.cache/genobear/ensembl_variations/homo_sapiens-chr3.parquet'),\n",
       " PosixPath('/home/antonkulaga/.cache/genobear/ensembl_variations/homo_sapiens-chr13.parquet'),\n",
       " PosixPath('/home/antonkulaga/.cache/genobear/ensembl_variations/homo_sapiens-chrX.parquet'),\n",
       " PosixPath('/home/antonkulaga/.cache/genobear/ensembl_variations/homo_sapiens-chr6.parquet'),\n",
       " PosixPath('/home/antonkulaga/.cache/genobear/ensembl_variations/homo_sapiens-chr5.parquet'),\n",
       " PosixPath('/home/antonkulaga/.cache/genobear/ensembl_variations/homo_sapiens-chr22.parquet'),\n",
       " PosixPath('/home/antonkulaga/.cache/genobear/ensembl_variations/homo_sapiens-chr1.parquet'),\n",
       " PosixPath('/home/antonkulaga/.cache/genobear/ensembl_variations/homo_sapiens-chrMT.parquet'),\n",
       " PosixPath('/home/antonkulaga/.cache/genobear/ensembl_variations/homo_sapiens-chr15.parquet'),\n",
       " PosixPath('/home/antonkulaga/.cache/genobear/ensembl_variations/homo_sapiens-chr16.parquet'),\n",
       " PosixPath('/home/antonkulaga/.cache/genobear/ensembl_variations/homo_sapiens-chr7.parquet'),\n",
       " PosixPath('/home/antonkulaga/.cache/genobear/ensembl_variations/homo_sapiens-chr12.parquet'),\n",
       " PosixPath('/home/antonkulaga/.cache/genobear/ensembl_variations/homo_sapiens-chr18.parquet'),\n",
       " PosixPath('/home/antonkulaga/.cache/genobear/ensembl_variations/homo_sapiens-chr11.parquet'),\n",
       " PosixPath('/home/antonkulaga/.cache/genobear/ensembl_variations/homo_sapiens-chr10.parquet')]"
      ]
     },
     "execution_count": 16,
     "metadata": {},
     "output_type": "execute_result"
    }
   ],
   "source": [
    "from pycomfort.files import with_ext\n",
    "\n",
    "\n",
    "genobear = Path.home() / \".cache\" / \"genobear\"\n",
    "ensembl = genobear / \"ensembl_variations\"\n",
    "with_ext(ensembl, \"parquet\").to_list()"
   ]
  },
  {
   "cell_type": "code",
   "execution_count": null,
   "id": "0ba8c19f",
   "metadata": {},
   "outputs": [
    {
     "data": {
      "text/plain": [
       "[PosixPath('/home/antonkulaga/.cache/genobear/ensembl_variations/homo_sapiens-chr1.parquet')]"
      ]
     },
     "execution_count": 22,
     "metadata": {},
     "output_type": "execute_result"
    }
   ],
   "source": [
    "from pycomfort.files import children\n",
    "\n",
    "\n",
    "first = children(ensembl).filter(lambda f: \"chr1.parquet\" in f.name)"
   ]
  },
  {
   "cell_type": "markdown",
   "id": "8c77ef10",
   "metadata": {},
   "source": [
    "Ensembl test\n",
    "============"
   ]
  },
  {
   "cell_type": "code",
   "execution_count": null,
   "id": "d4790a8f",
   "metadata": {},
   "outputs": [
    {
     "name": "stderr",
     "output_type": "stream",
     "text": [
      "\n",
      "thread '<unnamed>' panicked at /root/.cargo/git/checkouts/datafusion-bio-formats-f4a7f32bff6627c2/f62b38b/datafusion/bio-format-core/src/object_storage.rs:129:64:\n",
      "called `Result::unwrap()` on an `Err` value: Os { code: 2, kind: NotFound, message: \"No such file or directory\" }\n",
      "note: run with `RUST_BACKTRACE=1` environment variable to display a backtrace\n"
     ]
    },
    {
     "ename": "PanicException",
     "evalue": "called `Result::unwrap()` on an `Err` value: Os { code: 2, kind: NotFound, message: \"No such file or directory\" }",
     "output_type": "error",
     "traceback": [
      "\u001b[31m---------------------------------------------------------------------------\u001b[39m",
      "\u001b[31mPanicException\u001b[39m                            Traceback (most recent call last)",
      "\u001b[36mCell\u001b[39m\u001b[36m \u001b[39m\u001b[32mIn[4]\u001b[39m\u001b[32m, line 2\u001b[39m\n\u001b[32m      1\u001b[39m \u001b[38;5;28;01mimport\u001b[39;00m\u001b[38;5;250m \u001b[39m\u001b[34;01mpolars_bio\u001b[39;00m\u001b[38;5;250m \u001b[39m\u001b[38;5;28;01mas\u001b[39;00m\u001b[38;5;250m \u001b[39m\u001b[34;01mpb\u001b[39;00m\n\u001b[32m----> \u001b[39m\u001b[32m2\u001b[39m chr1 = \u001b[43mpb\u001b[49m\u001b[43m.\u001b[49m\u001b[43mscan_vcf\u001b[49m\u001b[43m(\u001b[49m\u001b[33;43m\"\u001b[39;49m\u001b[33;43m/home/antonkulaga/.cache/genobear/ensembl_variations/homo_sapiens-chr1.vcf.gz\u001b[39;49m\u001b[33;43m\"\u001b[39;49m\u001b[43m)\u001b[49m\n\u001b[32m      3\u001b[39m chr1.collect().count()\n",
      "\u001b[36mFile \u001b[39m\u001b[32m~/sources/genobear/.venv/lib/python3.13/site-packages/polars_bio/io.py:290\u001b[39m, in \u001b[36mIOOperations.scan_vcf\u001b[39m\u001b[34m(path, info_fields, thread_num, chunk_size, concurrent_fetches, allow_anonymous, enable_request_payer, max_retries, timeout, compression_type, projection_pushdown)\u001b[39m\n\u001b[32m    288\u001b[39m all_info_fields = \u001b[38;5;28;01mNone\u001b[39;00m\n\u001b[32m    289\u001b[39m \u001b[38;5;28;01mtry\u001b[39;00m:\n\u001b[32m--> \u001b[39m\u001b[32m290\u001b[39m     vcf_schema_df = \u001b[43mIOOperations\u001b[49m\u001b[43m.\u001b[49m\u001b[43mdescribe_vcf\u001b[49m\u001b[43m(\u001b[49m\n\u001b[32m    291\u001b[39m \u001b[43m        \u001b[49m\u001b[43mpath\u001b[49m\u001b[43m,\u001b[49m\n\u001b[32m    292\u001b[39m \u001b[43m        \u001b[49m\u001b[43mallow_anonymous\u001b[49m\u001b[43m=\u001b[49m\u001b[43mallow_anonymous\u001b[49m\u001b[43m,\u001b[49m\n\u001b[32m    293\u001b[39m \u001b[43m        \u001b[49m\u001b[43menable_request_payer\u001b[49m\u001b[43m=\u001b[49m\u001b[43menable_request_payer\u001b[49m\u001b[43m,\u001b[49m\n\u001b[32m    294\u001b[39m \u001b[43m        \u001b[49m\u001b[43mcompression_type\u001b[49m\u001b[43m=\u001b[49m\u001b[43mcompression_type\u001b[49m\u001b[43m,\u001b[49m\n\u001b[32m    295\u001b[39m \u001b[43m    \u001b[49m\u001b[43m)\u001b[49m\n\u001b[32m    296\u001b[39m     \u001b[38;5;66;03m# Use column name 'name' not 'id' based on the schema output\u001b[39;00m\n\u001b[32m    297\u001b[39m     all_info_fields = vcf_schema_df.select(\u001b[33m\"\u001b[39m\u001b[33mname\u001b[39m\u001b[33m\"\u001b[39m).to_series().to_list()\n",
      "\u001b[36mFile \u001b[39m\u001b[32m~/sources/genobear/.venv/lib/python3.13/site-packages/polars_bio/io.py:757\u001b[39m, in \u001b[36mIOOperations.describe_vcf\u001b[39m\u001b[34m(path, allow_anonymous, enable_request_payer, compression_type)\u001b[39m\n\u001b[32m    739\u001b[39m \u001b[38;5;250m\u001b[39m\u001b[33;03m\"\"\"\u001b[39;00m\n\u001b[32m    740\u001b[39m \u001b[33;03mDescribe VCF INFO schema.\u001b[39;00m\n\u001b[32m    741\u001b[39m \n\u001b[32m   (...)\u001b[39m\u001b[32m    746\u001b[39m \u001b[33;03m    compression_type: The compression type of the VCF file. If not specified, it will be detected automatically..\u001b[39;00m\n\u001b[32m    747\u001b[39m \u001b[33;03m\"\"\"\u001b[39;00m\n\u001b[32m    748\u001b[39m object_storage_options = PyObjectStorageOptions(\n\u001b[32m    749\u001b[39m     allow_anonymous=allow_anonymous,\n\u001b[32m    750\u001b[39m     enable_request_payer=enable_request_payer,\n\u001b[32m   (...)\u001b[39m\u001b[32m    755\u001b[39m     compression_type=compression_type,\n\u001b[32m    756\u001b[39m )\n\u001b[32m--> \u001b[39m\u001b[32m757\u001b[39m \u001b[38;5;28;01mreturn\u001b[39;00m \u001b[43mpy_describe_vcf\u001b[49m\u001b[43m(\u001b[49m\u001b[43mctx\u001b[49m\u001b[43m,\u001b[49m\u001b[43m \u001b[49m\u001b[43mpath\u001b[49m\u001b[43m,\u001b[49m\u001b[43m \u001b[49m\u001b[43mobject_storage_options\u001b[49m\u001b[43m)\u001b[49m.to_polars()\n",
      "\u001b[31mPanicException\u001b[39m: called `Result::unwrap()` on an `Err` value: Os { code: 2, kind: NotFound, message: \"No such file or directory\" }"
     ]
    }
   ],
   "source": [
    "import polars_bio as pb\n",
    "chr1 = pb.scan_vcf(\"/home/antonkulaga/.cache/genobear/ensembl_variations\")\n",
    "chr1.collect().count()"
   ]
  },
  {
   "cell_type": "markdown",
   "id": "ab275576",
   "metadata": {},
   "source": [
    "# ClinVar Data Processing\n",
    "\n",
    "## ClinVarDownloader Class Overview\n",
    "\n",
    "The `ClinVarDownloader` class is a specialized downloader for ClinVar VCF files that inherits from `MultiVCFDownloader`. This inheritance provides several powerful capabilities:\n",
    "\n",
    "### Inheritance Hierarchy\n",
    "- **BaseModel** (Pydantic) - Provides data validation and serialization\n",
    "- **ParquetPostprocessorMixin** - Adds variant splitting and parquet processing capabilities  \n",
    "- **MultiVCFDownloader** - Handles concurrent downloads, caching, and parquet conversion\n",
    "- **ClinVarDownloader** - Adds ClinVar-specific configuration and URL handling\n",
    "\n",
    "### Key Features from MultiVCFDownloader\n",
    "- **Automatic parquet conversion**: VCF files are converted to parquet for faster processing\n",
    "- **Variant splitting**: Handles multi-allelic variants by splitting them into separate rows\n",
    "- **Concurrent downloads**: Uses ThreadPoolExecutor for parallel file downloads\n",
    "- **Intelligent caching**: Uses pooch for robust file caching and hash verification\n",
    "- **LazyFrame integration**: Returns polars LazyFrames for memory-efficient data processing\n",
    "\n",
    "### ClinVar-Specific Configuration\n",
    "- **Assembly support**: Supports both GRCh37 and GRCh38 assemblies\n",
    "- **Automatic URL construction**: Builds NCBI FTP URLs based on assembly version\n",
    "- **Standardized file structure**: Uses consistent naming for VCF, index, and hash files\n",
    "- **Cache organization**: Files are cached in `clinvar/{assembly}/` subdirectories\n",
    "\n",
    "### Usage Pattern\n",
    "The class automatically handles the complex URL mapping required by MultiVCFDownloader, converting single ClinVar file references into the multi-file format expected by the parent class."
   ]
  },
  {
   "cell_type": "code",
   "execution_count": 1,
   "id": "9d87b0c2",
   "metadata": {},
   "outputs": [
    {
     "ename": "NameError",
     "evalue": "name 'pl' is not defined",
     "output_type": "error",
     "traceback": [
      "\u001b[31m---------------------------------------------------------------------------\u001b[39m",
      "\u001b[31mNameError\u001b[39m                                 Traceback (most recent call last)",
      "\u001b[36mCell\u001b[39m\u001b[36m \u001b[39m\u001b[32mIn[1]\u001b[39m\u001b[32m, line 1\u001b[39m\n\u001b[32m----> \u001b[39m\u001b[32m1\u001b[39m df = \u001b[43mpl\u001b[49m.scan_parquet(\u001b[33m\"\u001b[39m\u001b[33m/home/antonkulaga/.cache/genobear/ensembl_vcf/homo_sapiens-chr12.parquet\u001b[39m\u001b[33m\"\u001b[39m)\n\u001b[32m      2\u001b[39m df.head().collect()\n",
      "\u001b[31mNameError\u001b[39m: name 'pl' is not defined"
     ]
    }
   ],
   "source": [
    "df = pl.scan_parquet(\"/home/antonkulaga/.cache/genobear/ensembl_vcf/homo_sapiens-chr12.parquet\")\n",
    "df.head().collect()"
   ]
  },
  {
   "cell_type": "code",
   "execution_count": 22,
   "id": "cc5ea32a",
   "metadata": {},
   "outputs": [
    {
     "data": {
      "text/html": [
       "<div><style>\n",
       ".dataframe > thead > tr,\n",
       ".dataframe > tbody > tr {\n",
       "  text-align: right;\n",
       "  white-space: pre-wrap;\n",
       "}\n",
       "</style>\n",
       "<small>shape: (5, 8)</small><table border=\"1\" class=\"dataframe\"><thead><tr><th>chrom</th><th>start</th><th>end</th><th>id</th><th>ref</th><th>alt</th><th>qual</th><th>filter</th></tr><tr><td>str</td><td>u32</td><td>u32</td><td>str</td><td>str</td><td>str</td><td>f64</td><td>str</td></tr></thead><tbody><tr><td>&quot;4&quot;</td><td>10000</td><td>10000</td><td>&quot;rs1560073237&quot;</td><td>&quot;N&quot;</td><td>&quot;NG&quot;</td><td>null</td><td>&quot;&quot;</td></tr><tr><td>&quot;4&quot;</td><td>10001</td><td>10001</td><td>&quot;rs1581341342&quot;</td><td>&quot;A&quot;</td><td>&quot;C&quot;</td><td>null</td><td>&quot;&quot;</td></tr><tr><td>&quot;4&quot;</td><td>10002</td><td>10002</td><td>&quot;rs1560073246&quot;</td><td>&quot;C&quot;</td><td>&quot;CC&quot;</td><td>null</td><td>&quot;&quot;</td></tr><tr><td>&quot;4&quot;</td><td>10002</td><td>10002</td><td>&quot;rs1581341346&quot;</td><td>&quot;C&quot;</td><td>&quot;A&quot;</td><td>null</td><td>&quot;&quot;</td></tr><tr><td>&quot;4&quot;</td><td>10004</td><td>10004</td><td>&quot;rs1581341351&quot;</td><td>&quot;C&quot;</td><td>&quot;T&quot;</td><td>null</td><td>&quot;&quot;</td></tr></tbody></table></div>"
      ],
      "text/plain": [
       "shape: (5, 8)\n",
       "┌───────┬───────┬───────┬──────────────┬─────┬─────┬──────┬────────┐\n",
       "│ chrom ┆ start ┆ end   ┆ id           ┆ ref ┆ alt ┆ qual ┆ filter │\n",
       "│ ---   ┆ ---   ┆ ---   ┆ ---          ┆ --- ┆ --- ┆ ---  ┆ ---    │\n",
       "│ str   ┆ u32   ┆ u32   ┆ str          ┆ str ┆ str ┆ f64  ┆ str    │\n",
       "╞═══════╪═══════╪═══════╪══════════════╪═════╪═════╪══════╪════════╡\n",
       "│ 4     ┆ 10000 ┆ 10000 ┆ rs1560073237 ┆ N   ┆ NG  ┆ null ┆        │\n",
       "│ 4     ┆ 10001 ┆ 10001 ┆ rs1581341342 ┆ A   ┆ C   ┆ null ┆        │\n",
       "│ 4     ┆ 10002 ┆ 10002 ┆ rs1560073246 ┆ C   ┆ CC  ┆ null ┆        │\n",
       "│ 4     ┆ 10002 ┆ 10002 ┆ rs1581341346 ┆ C   ┆ A   ┆ null ┆        │\n",
       "│ 4     ┆ 10004 ┆ 10004 ┆ rs1581341351 ┆ C   ┆ T   ┆ null ┆        │\n",
       "└───────┴───────┴───────┴──────────────┴─────┴─────┴──────┴────────┘"
      ]
     },
     "execution_count": 22,
     "metadata": {},
     "output_type": "execute_result"
    }
   ],
   "source": [
    "pl.scan_parquet(\"/home/antonkulaga/.cache/genobear/ensembl_variations/homo_sapiens-chr4.vcf.parquet\").head().collect()"
   ]
  },
  {
   "cell_type": "code",
   "execution_count": 21,
   "id": "e73bff93",
   "metadata": {},
   "outputs": [
    {
     "name": "stdout",
     "output_type": "stream",
     "text": [
      "ffa61ecb-8961-44e9-b0d9-a4fd320dda6c\n",
      "└── read_vcf_file/1 ⇒ started 2025-09-03 16:14:01Z\n",
      "    ├── file_path: /home/antonkulaga/.cache/genobear/ensembl_variations/homo_sapiens-chr1.vcf.gz\n",
      "    └── save_parquet: auto\n",
      "\n",
      "ffa61ecb-8961-44e9-b0d9-a4fd320dda6c\n",
      "└── <unnamed>\n",
      "    └── info/2 2025-09-03 16:14:01Z\n",
      "        ├── parquet_path: /home/antonkulaga/.cache/genobear/ensembl_variations/homo_sapiens-chr1.vcf.parquet\n",
      "        └── step: reading_vcf\n",
      "\n",
      "ffa61ecb-8961-44e9-b0d9-a4fd320dda6c\n",
      "└── <unnamed>\n",
      "    └── get_info_fields/3/1 ⇒ started 2025-09-03 16:14:01Z\n",
      "        └── vcf_path: /home/antonkulaga/.cache/genobear/ensembl_variations/homo_sapiens-chr1.vcf.gz\n",
      "\n",
      "ffa61ecb-8961-44e9-b0d9-a4fd320dda6c\n",
      "└── <unnamed>\n",
      "    └── <unnamed>\n",
      "        └── info/3/2 2025-09-03 16:14:01Z\n",
      "            ├── count: 0\n",
      "            ├── fields: \n",
      "            └── step: info_fields_extracted\n",
      "\n",
      "ffa61ecb-8961-44e9-b0d9-a4fd320dda6c\n",
      "└── <unnamed>\n",
      "    └── <unnamed>\n",
      "        └── get_info_fields/3/3 ⇒ succeeded 2025-09-03 16:14:01Z\n",
      "\n",
      "ffa61ecb-8961-44e9-b0d9-a4fd320dda6c\n",
      "└── <unnamed>\n",
      "    └── info/4 2025-09-03 16:14:01Z\n",
      "        ├── result_type: LazyFrame\n",
      "        ├── rows: unknown\n",
      "        └── step: vcf_read_complete\n",
      "\n",
      "ffa61ecb-8961-44e9-b0d9-a4fd320dda6c\n",
      "└── <unnamed>\n",
      "    └── save_parquet/5/1 ⇒ started 2025-09-03 16:14:01Z\n",
      "        └── parquet_path: /home/antonkulaga/.cache/genobear/ensembl_variations/homo_sapiens-chr1.vcf.parquet\n",
      "\n"
     ]
    },
    {
     "name": "stderr",
     "output_type": "stream",
     "text": [
      "86821100rows [00:46, 1875726.67rows/s]\n"
     ]
    },
    {
     "name": "stdout",
     "output_type": "stream",
     "text": [
      "ffa61ecb-8961-44e9-b0d9-a4fd320dda6c\n",
      "└── <unnamed>\n",
      "    └── <unnamed>\n",
      "        └── info/5/2 2025-09-03 16:14:58Z\n",
      "            ├── parquet_path: /home/antonkulaga/.cache/genobear/ensembl_variations/homo_sapiens-chr1.vcf.parquet\n",
      "            └── step: parquet_saved\n",
      "\n",
      "ffa61ecb-8961-44e9-b0d9-a4fd320dda6c\n",
      "└── <unnamed>\n",
      "    └── <unnamed>\n",
      "        └── save_parquet/5/3 ⇒ succeeded 2025-09-03 16:14:58Z\n",
      "\n",
      "ffa61ecb-8961-44e9-b0d9-a4fd320dda6c\n",
      "└── <unnamed>\n",
      "    └── read_vcf_file/6 ⇒ succeeded 2025-09-03 16:14:58Z\n",
      "\n"
     ]
    },
    {
     "data": {
      "text/html": [
       "<div><style>\n",
       ".dataframe > thead > tr,\n",
       ".dataframe > tbody > tr {\n",
       "  text-align: right;\n",
       "  white-space: pre-wrap;\n",
       "}\n",
       "</style>\n",
       "<small>shape: (5, 8)</small><table border=\"1\" class=\"dataframe\"><thead><tr><th>chrom</th><th>start</th><th>end</th><th>id</th><th>ref</th><th>alt</th><th>qual</th><th>filter</th></tr><tr><td>str</td><td>u32</td><td>u32</td><td>str</td><td>str</td><td>str</td><td>f64</td><td>str</td></tr></thead><tbody><tr><td>&quot;1&quot;</td><td>10001</td><td>10001</td><td>&quot;rs1570391677&quot;</td><td>&quot;T&quot;</td><td>&quot;A|C&quot;</td><td>null</td><td>&quot;&quot;</td></tr><tr><td>&quot;1&quot;</td><td>10002</td><td>10002</td><td>&quot;rs1570391692&quot;</td><td>&quot;A&quot;</td><td>&quot;C&quot;</td><td>null</td><td>&quot;&quot;</td></tr><tr><td>&quot;1&quot;</td><td>10003</td><td>10003</td><td>&quot;rs1570391694&quot;</td><td>&quot;A&quot;</td><td>&quot;C&quot;</td><td>null</td><td>&quot;&quot;</td></tr><tr><td>&quot;1&quot;</td><td>10007</td><td>10007</td><td>&quot;rs1639538116&quot;</td><td>&quot;T&quot;</td><td>&quot;C|G&quot;</td><td>null</td><td>&quot;&quot;</td></tr><tr><td>&quot;1&quot;</td><td>10008</td><td>10008</td><td>&quot;rs1570391698&quot;</td><td>&quot;A&quot;</td><td>&quot;C|G|T&quot;</td><td>null</td><td>&quot;&quot;</td></tr></tbody></table></div>"
      ],
      "text/plain": [
       "shape: (5, 8)\n",
       "┌───────┬───────┬───────┬──────────────┬─────┬───────┬──────┬────────┐\n",
       "│ chrom ┆ start ┆ end   ┆ id           ┆ ref ┆ alt   ┆ qual ┆ filter │\n",
       "│ ---   ┆ ---   ┆ ---   ┆ ---          ┆ --- ┆ ---   ┆ ---  ┆ ---    │\n",
       "│ str   ┆ u32   ┆ u32   ┆ str          ┆ str ┆ str   ┆ f64  ┆ str    │\n",
       "╞═══════╪═══════╪═══════╪══════════════╪═════╪═══════╪══════╪════════╡\n",
       "│ 1     ┆ 10001 ┆ 10001 ┆ rs1570391677 ┆ T   ┆ A|C   ┆ null ┆        │\n",
       "│ 1     ┆ 10002 ┆ 10002 ┆ rs1570391692 ┆ A   ┆ C     ┆ null ┆        │\n",
       "│ 1     ┆ 10003 ┆ 10003 ┆ rs1570391694 ┆ A   ┆ C     ┆ null ┆        │\n",
       "│ 1     ┆ 10007 ┆ 10007 ┆ rs1639538116 ┆ T   ┆ C|G   ┆ null ┆        │\n",
       "│ 1     ┆ 10008 ┆ 10008 ┆ rs1570391698 ┆ A   ┆ C|G|T ┆ null ┆        │\n",
       "└───────┴───────┴───────┴──────────────┴─────┴───────┴──────┴────────┘"
      ]
     },
     "execution_count": 21,
     "metadata": {},
     "output_type": "execute_result"
    }
   ],
   "source": [
    "import genobear as gb\n",
    "gb.read_vcf_file(\"/home/antonkulaga/.cache/genobear/ensembl_variations/homo_sapiens-chr1.vcf.gz\").head().collect()"
   ]
  },
  {
   "cell_type": "code",
   "execution_count": 8,
   "id": "8ab47599",
   "metadata": {},
   "outputs": [
    {
     "name": "stdout",
     "output_type": "stream",
     "text": [
      "1d27cb5a-9f8e-48d9-bb85-e5c564adf6e4\n",
      "└── multi_vcf_download/1 ⇒ started 2025-09-03 15:00:38Z\n",
      "    └── num_files: 1\n",
      "\n",
      "1d27cb5a-9f8e-48d9-bb85-e5c564adf6e4\n",
      "└── <unnamed>\n",
      "    └── parallel_downloads/2/1 ⇒ started 2025-09-03 15:00:38Z\n",
      "        ├── tasks: 2\n",
      "        └── workers: 8\n",
      "\n",
      "6f9791a2-1d31-4679-9559-7e8c93ce4d68\n",
      "└── download_single_file/1 ⇒ started 2025-09-03 15:00:38Z\n",
      "    ├── file_type: vcf\n",
      "    ├── filename: clinvar.vcf.gz\n",
      "    ├── identifier: clinvar\n",
      "    └── url: https://ftp.ncbi.nlm.nih.gov/pub/clinvar/vcf_GRCh38/clinvar.vcf.gz\n",
      "\n",
      "dc7112dd-1686-454a-93ac-8491ab82ea38\n",
      "└── download_single_file/1 ⇒ started 2025-09-03 15:00:38Z\n",
      "    ├── file_type: index\n",
      "    ├── filename: clinvar.vcf.gz.tbi\n",
      "    ├── identifier: clinvar\n",
      "    └── url: https://ftp.ncbi.nlm.nih.gov/pub/clinvar/vcf_GRCh38/clinvar.vcf.gz.tbi\n",
      "\n"
     ]
    },
    {
     "name": "stderr",
     "output_type": "stream",
     "text": [
      "Downloading data from 'https://ftp.ncbi.nlm.nih.gov/pub/clinvar/vcf_GRCh38/clinvar.vcf.gz' to file '/home/antonkulaga/.cache/genobear/clinvar/GRCh38/clinvar.vcf.gz'.\n",
      "Downloading data from 'https://ftp.ncbi.nlm.nih.gov/pub/clinvar/vcf_GRCh38/clinvar.vcf.gz.tbi' to file '/home/antonkulaga/.cache/genobear/clinvar/GRCh38/clinvar.vcf.gz.tbi'.\n",
      "100%|████████████████████████████████████████| 564k/564k [00:00<00:00, 908MB/s]\n",
      "SHA256 hash of downloaded file: 62030753ecc55905890b1c44c64918c319a5e09e7b20c45853c42d15c1878fb5\n",
      "Use this value as the 'known_hash' argument of 'pooch.retrieve' to ensure that the file hasn't changed if it is downloaded again in the future.\n"
     ]
    },
    {
     "name": "stdout",
     "output_type": "stream",
     "text": [
      "dc7112dd-1686-454a-93ac-8491ab82ea38\n",
      "└── <unnamed>\n",
      "    └── info/2 2025-09-03 15:00:39Z\n",
      "        ├── path: /home/antonkulaga/.cache/genobear/clinvar/GRCh38/clinvar.vcf.gz.tbi\n",
      "        └── status: completed\n",
      "\n",
      "dc7112dd-1686-454a-93ac-8491ab82ea38\n",
      "└── <unnamed>\n",
      "    └── download_single_file/3 ⇒ succeeded 2025-09-03 15:00:39Z\n",
      "\n"
     ]
    },
    {
     "name": "stderr",
     "output_type": "stream",
     "text": [
      "100%|████████████████████████████████████████| 169M/169M [00:00<00:00, 307GB/s]\n",
      "SHA256 hash of downloaded file: 9a60cd19904af97367845ae800a4c9fc1fe029f9e1952a9868aacaf41da5d6e7\n",
      "Use this value as the 'known_hash' argument of 'pooch.retrieve' to ensure that the file hasn't changed if it is downloaded again in the future.\n"
     ]
    },
    {
     "name": "stdout",
     "output_type": "stream",
     "text": [
      "6f9791a2-1d31-4679-9559-7e8c93ce4d68\n",
      "└── <unnamed>\n",
      "    └── info/2 2025-09-03 15:00:55Z\n",
      "        ├── path: /home/antonkulaga/.cache/genobear/clinvar/GRCh38/clinvar.vcf.gz\n",
      "        └── status: completed\n",
      "\n",
      "6f9791a2-1d31-4679-9559-7e8c93ce4d68\n",
      "└── <unnamed>\n",
      "    └── download_single_file/3 ⇒ succeeded 2025-09-03 15:00:55Z\n",
      "\n",
      "1d27cb5a-9f8e-48d9-bb85-e5c564adf6e4\n",
      "└── <unnamed>\n",
      "    └── <unnamed>\n",
      "        └── parallel_downloads/2/2 ⇒ succeeded 2025-09-03 15:00:55Z\n",
      "\n",
      "1d27cb5a-9f8e-48d9-bb85-e5c564adf6e4\n",
      "└── <unnamed>\n",
      "    └── convert_all_to_parquet/3/1 ⇒ started 2025-09-03 15:00:55Z\n",
      "        └── num_files: 1\n",
      "\n",
      "1d27cb5a-9f8e-48d9-bb85-e5c564adf6e4\n",
      "└── <unnamed>\n",
      "    └── <unnamed>\n",
      "        └── convert_single_vcf_to_parquet/3/2/1 ⇒ started 2025-09-03 15:00:55Z\n",
      "            ├── identifier: clinvar\n",
      "            └── vcf_path: /home/antonkulaga/.cache/genobear/clinvar/GRCh38/clinvar.vcf.gz\n",
      "\n",
      "1d27cb5a-9f8e-48d9-bb85-e5c564adf6e4\n",
      "└── <unnamed>\n",
      "    └── <unnamed>\n",
      "        └── <unnamed>\n",
      "            └── vcf_to_parquet/3/2/2/1 ⇒ started 2025-09-03 15:00:55Z\n",
      "                ├── overwrite: False\n",
      "                ├── parquet_path: None\n",
      "                └── vcf_path: /home/antonkulaga/.cache/genobear/clinvar/GRCh38/clinvar.vcf.gz\n",
      "\n",
      "1d27cb5a-9f8e-48d9-bb85-e5c564adf6e4\n",
      "└── <unnamed>\n",
      "    └── <unnamed>\n",
      "        └── <unnamed>\n",
      "            └── <unnamed>\n",
      "                └── info/3/2/2/2 2025-09-03 15:00:55Z\n",
      "                    ├── output_path: /home/antonkulaga/.cache/genobear/clinvar/GRCh38/clinvar.vcf.parquet\n",
      "                    └── step: output_path_determined\n",
      "\n",
      "1d27cb5a-9f8e-48d9-bb85-e5c564adf6e4\n",
      "└── <unnamed>\n",
      "    └── <unnamed>\n",
      "        └── <unnamed>\n",
      "            └── <unnamed>\n",
      "                └── read_vcf_file/3/2/2/3/1 ⇒ started 2025-09-03 15:00:55Z\n",
      "                    ├── file_path: /home/antonkulaga/.cache/genobear/clinvar/GRCh38/clinvar.vcf.gz\n",
      "                    └── save_parquet: /home/antonkulaga/.cache/genobear/clinvar/GRCh38/clinvar.vcf.parquet\n",
      "\n",
      "1d27cb5a-9f8e-48d9-bb85-e5c564adf6e4\n",
      "└── <unnamed>\n",
      "    └── <unnamed>\n",
      "        └── <unnamed>\n",
      "            └── <unnamed>\n",
      "                └── <unnamed>\n",
      "                    └── info/3/2/2/3/2 2025-09-03 15:00:55Z\n",
      "                        ├── parquet_path: /home/antonkulaga/.cache/genobear/clinvar/GRCh38/clinvar.vcf.parquet\n",
      "                        └── step: reading_vcf\n",
      "\n",
      "1d27cb5a-9f8e-48d9-bb85-e5c564adf6e4\n",
      "└── <unnamed>\n",
      "    └── <unnamed>\n",
      "        └── <unnamed>\n",
      "            └── <unnamed>\n",
      "                └── <unnamed>\n",
      "                    └── get_info_fields/3/2/2/3/3/1 ⇒ started 2025-09-03 15:00:55Z\n",
      "                        └── vcf_path: /home/antonkulaga/.cache/genobear/clinvar/GRCh38/clinvar.vcf.gz\n",
      "\n",
      "1d27cb5a-9f8e-48d9-bb85-e5c564adf6e4\n",
      "└── <unnamed>\n",
      "    └── <unnamed>\n",
      "        └── <unnamed>\n",
      "            └── <unnamed>\n",
      "                └── <unnamed>\n",
      "                    └── <unnamed>\n",
      "                        └── info/3/2/2/3/3/2 2025-09-03 15:00:55Z\n",
      "                            ├── count: 0\n",
      "                            ├── fields: \n",
      "                            └── step: info_fields_extracted\n",
      "\n",
      "1d27cb5a-9f8e-48d9-bb85-e5c564adf6e4\n",
      "└── <unnamed>\n",
      "    └── <unnamed>\n",
      "        └── <unnamed>\n",
      "            └── <unnamed>\n",
      "                └── <unnamed>\n",
      "                    └── <unnamed>\n",
      "                        └── get_info_fields/3/2/2/3/3/3 ⇒ succeeded 2025-09-03 15:00:55Z\n",
      "\n",
      "1d27cb5a-9f8e-48d9-bb85-e5c564adf6e4\n",
      "└── <unnamed>\n",
      "    └── <unnamed>\n",
      "        └── <unnamed>\n",
      "            └── <unnamed>\n",
      "                └── <unnamed>\n",
      "                    └── info/3/2/2/3/4 2025-09-03 15:00:55Z\n",
      "                        ├── result_type: LazyFrame\n",
      "                        ├── rows: unknown\n",
      "                        └── step: vcf_read_complete\n",
      "\n",
      "1d27cb5a-9f8e-48d9-bb85-e5c564adf6e4\n",
      "└── <unnamed>\n",
      "    └── <unnamed>\n",
      "        └── <unnamed>\n",
      "            └── <unnamed>\n",
      "                └── <unnamed>\n",
      "                    └── save_parquet/3/2/2/3/5/1 ⇒ started 2025-09-03 15:00:55Z\n",
      "                        └── parquet_path: /home/antonkulaga/.cache/genobear/clinvar/GRCh38/clinvar.vcf.parquet\n",
      "\n"
     ]
    },
    {
     "name": "stderr",
     "output_type": "stream",
     "text": [
      "/home/antonkulaga/sources/genobear/src/genobear/io.py:81: PerformanceWarning: Determining the column names of a LazyFrame requires resolving its schema, which is a potentially expensive operation. Use `LazyFrame.collect_schema().names()` to get the column names without this warning.\n",
      "  if hasattr(df, 'columns'):\n",
      "/home/antonkulaga/sources/genobear/src/genobear/io.py:83: PerformanceWarning: Determining the column names of a LazyFrame requires resolving its schema, which is a potentially expensive operation. Use `LazyFrame.collect_schema().names()` to get the column names without this warning.\n",
      "  info_fields = [col[5:] for col in df.columns if col.startswith('info.')]\n",
      "3678878rows [00:02, 1770907.65rows/s]\n"
     ]
    },
    {
     "name": "stdout",
     "output_type": "stream",
     "text": [
      "1d27cb5a-9f8e-48d9-bb85-e5c564adf6e4\n",
      "└── <unnamed>\n",
      "    └── <unnamed>\n",
      "        └── <unnamed>\n",
      "            └── <unnamed>\n",
      "                └── <unnamed>\n",
      "                    └── <unnamed>\n",
      "                        └── info/3/2/2/3/5/2 2025-09-03 15:00:58Z\n",
      "                            ├── parquet_path: /home/antonkulaga/.cache/genobear/clinvar/GRCh38/clinvar.vcf.parquet\n",
      "                            └── step: parquet_saved\n",
      "\n",
      "1d27cb5a-9f8e-48d9-bb85-e5c564adf6e4\n",
      "└── <unnamed>\n",
      "    └── <unnamed>\n",
      "        └── <unnamed>\n",
      "            └── <unnamed>\n",
      "                └── <unnamed>\n",
      "                    └── <unnamed>\n",
      "                        └── save_parquet/3/2/2/3/5/3 ⇒ succeeded 2025-09-03 15:00:58Z\n",
      "\n",
      "1d27cb5a-9f8e-48d9-bb85-e5c564adf6e4\n",
      "└── <unnamed>\n",
      "    └── <unnamed>\n",
      "        └── <unnamed>\n",
      "            └── <unnamed>\n",
      "                └── <unnamed>\n",
      "                    └── read_vcf_file/3/2/2/3/6 ⇒ succeeded 2025-09-03 15:00:58Z\n",
      "\n",
      "1d27cb5a-9f8e-48d9-bb85-e5c564adf6e4\n",
      "└── <unnamed>\n",
      "    └── <unnamed>\n",
      "        └── <unnamed>\n",
      "            └── <unnamed>\n",
      "                └── info/3/2/2/4 2025-09-03 15:00:58Z\n",
      "                    ├── output_path: /home/antonkulaga/.cache/genobear/clinvar/GRCh38/clinvar.vcf.parquet\n",
      "                    └── step: conversion_complete\n",
      "\n",
      "1d27cb5a-9f8e-48d9-bb85-e5c564adf6e4\n",
      "└── <unnamed>\n",
      "    └── <unnamed>\n",
      "        └── <unnamed>\n",
      "            └── <unnamed>\n",
      "                └── vcf_to_parquet/3/2/2/5 ⇒ succeeded 2025-09-03 15:00:58Z\n",
      "\n",
      "1d27cb5a-9f8e-48d9-bb85-e5c564adf6e4\n",
      "└── <unnamed>\n",
      "    └── <unnamed>\n",
      "        └── <unnamed>\n",
      "            └── info/3/2/3 2025-09-03 15:00:58Z\n",
      "                ├── parquet_path: /home/antonkulaga/.cache/genobear/clinvar/GRCh38/clinvar.vcf.parquet\n",
      "                └── status: completed\n",
      "\n",
      "1d27cb5a-9f8e-48d9-bb85-e5c564adf6e4\n",
      "└── <unnamed>\n",
      "    └── <unnamed>\n",
      "        └── <unnamed>\n",
      "            └── convert_single_vcf_to_parquet/3/2/4 ⇒ succeeded 2025-09-03 15:00:58Z\n",
      "\n",
      "1d27cb5a-9f8e-48d9-bb85-e5c564adf6e4\n",
      "└── <unnamed>\n",
      "    └── <unnamed>\n",
      "        └── convert_all_to_parquet/3/3 ⇒ succeeded 2025-09-03 15:00:58Z\n",
      "\n",
      "1d27cb5a-9f8e-48d9-bb85-e5c564adf6e4\n",
      "└── <unnamed>\n",
      "    └── info/4 2025-09-03 15:00:58Z\n",
      "        ├── cache_directory: /home/antonkulaga/.cache/genobear/clinvar/GRCh38\n",
      "        ├── identifiers: \n",
      "        │   └── 0: clinvar\n",
      "        ├── index_files: 1\n",
      "        ├── parquet_files: 1\n",
      "        ├── skipped_downloads: 0\n",
      "        ├── successful_downloads: 1\n",
      "        ├── summary: Multi-VCF download operation completed successfully\n",
      "        ├── total_execution_time: 0:20.112\n",
      "        ├── total_identifiers: 1\n",
      "        ├── total_parquet_size: 38.0 MB\n",
      "        ├── total_vcf_size: 161.5 MB\n",
      "        └── vcf_files: 1\n",
      "\n",
      "1d27cb5a-9f8e-48d9-bb85-e5c564adf6e4\n",
      "└── <unnamed>\n",
      "    └── multi_vcf_download/5 ⇒ succeeded 2025-09-03 15:00:58Z\n",
      "        ├── cache_dir: /home/antonkulaga/.cache/genobear/clinvar/GRCh38\n",
      "        ├── execution_time: 0:20.112\n",
      "        ├── files_processed: 1\n",
      "        ├── parquet_count: 1\n",
      "        └── vcf_count: 1\n",
      "\n",
      "ClinVar VCF downloaded to: /home/antonkulaga/.cache/genobear/clinvar/GRCh38/clinvar.vcf.gz\n",
      "ClinVar index downloaded to: /home/antonkulaga/.cache/genobear/clinvar/GRCh38/clinvar.vcf.gz.tbi\n",
      "ClinVar parquet converted to: /home/antonkulaga/.cache/genobear/clinvar/GRCh38/clinvar.vcf.parquet\n",
      "ClinVar data shape: (3678878, 8)\n"
     ]
    },
    {
     "data": {
      "text/html": [
       "<div><style>\n",
       ".dataframe > thead > tr,\n",
       ".dataframe > tbody > tr {\n",
       "  text-align: right;\n",
       "  white-space: pre-wrap;\n",
       "}\n",
       "</style>\n",
       "<small>shape: (5, 8)</small><table border=\"1\" class=\"dataframe\"><thead><tr><th>chrom</th><th>start</th><th>end</th><th>id</th><th>ref</th><th>alt</th><th>qual</th><th>filter</th></tr><tr><td>str</td><td>u32</td><td>u32</td><td>str</td><td>str</td><td>str</td><td>f64</td><td>str</td></tr></thead><tbody><tr><td>&quot;1&quot;</td><td>66926</td><td>66927</td><td>&quot;3385321&quot;</td><td>&quot;AG&quot;</td><td>&quot;A&quot;</td><td>null</td><td>&quot;&quot;</td></tr><tr><td>&quot;1&quot;</td><td>69134</td><td>69134</td><td>&quot;2205837&quot;</td><td>&quot;A&quot;</td><td>&quot;G&quot;</td><td>null</td><td>&quot;&quot;</td></tr><tr><td>&quot;1&quot;</td><td>69308</td><td>69308</td><td>&quot;3925305&quot;</td><td>&quot;A&quot;</td><td>&quot;G&quot;</td><td>null</td><td>&quot;&quot;</td></tr><tr><td>&quot;1&quot;</td><td>69314</td><td>69314</td><td>&quot;3205580&quot;</td><td>&quot;T&quot;</td><td>&quot;G&quot;</td><td>null</td><td>&quot;&quot;</td></tr><tr><td>&quot;1&quot;</td><td>69404</td><td>69404</td><td>&quot;3925306&quot;</td><td>&quot;T&quot;</td><td>&quot;C&quot;</td><td>null</td><td>&quot;&quot;</td></tr></tbody></table></div>"
      ],
      "text/plain": [
       "shape: (5, 8)\n",
       "┌───────┬───────┬───────┬─────────┬─────┬─────┬──────┬────────┐\n",
       "│ chrom ┆ start ┆ end   ┆ id      ┆ ref ┆ alt ┆ qual ┆ filter │\n",
       "│ ---   ┆ ---   ┆ ---   ┆ ---     ┆ --- ┆ --- ┆ ---  ┆ ---    │\n",
       "│ str   ┆ u32   ┆ u32   ┆ str     ┆ str ┆ str ┆ f64  ┆ str    │\n",
       "╞═══════╪═══════╪═══════╪═════════╪═════╪═════╪══════╪════════╡\n",
       "│ 1     ┆ 66926 ┆ 66927 ┆ 3385321 ┆ AG  ┆ A   ┆ null ┆        │\n",
       "│ 1     ┆ 69134 ┆ 69134 ┆ 2205837 ┆ A   ┆ G   ┆ null ┆        │\n",
       "│ 1     ┆ 69308 ┆ 69308 ┆ 3925305 ┆ A   ┆ G   ┆ null ┆        │\n",
       "│ 1     ┆ 69314 ┆ 69314 ┆ 3205580 ┆ T   ┆ G   ┆ null ┆        │\n",
       "│ 1     ┆ 69404 ┆ 69404 ┆ 3925306 ┆ T   ┆ C   ┆ null ┆        │\n",
       "└───────┴───────┴───────┴─────────┴─────┴─────┴──────┴────────┘"
      ]
     },
     "execution_count": 8,
     "metadata": {},
     "output_type": "execute_result"
    }
   ],
   "source": [
    "from genobear.downloaders.clinvar_downloader import ClinVarDownloader\n",
    "from genobear.downloaders.multi_vcf_downloader import DownloadResult\n",
    "\n",
    "# Initialize ClinVar downloader for GRCh38 assembly\n",
    "clinvar_downloader = ClinVarDownloader(assembly='GRCh38')\n",
    "\n",
    "# Download and convert ClinVar VCF data to parquet\n",
    "download_results = clinvar_downloader.download_all()\n",
    "\n",
    "# Get the download result for ClinVar\n",
    "clinvar_result: DownloadResult = download_results['clinvar']\n",
    "\n",
    "print(f\"ClinVar VCF downloaded to: {clinvar_result.vcf}\")\n",
    "print(f\"ClinVar index downloaded to: {clinvar_result.index}\")\n",
    "print(f\"ClinVar parquet converted to: {clinvar_result.parquet}\")\n",
    "\n",
    "# Access the lazy frame for efficient processing\n",
    "clinvar_lazy = clinvar_result.get_lazy_frame()\n",
    "\n",
    "# Show basic info about the ClinVar dataset\n",
    "print(f\"ClinVar data shape: {clinvar_lazy.collect().shape}\")\n",
    "clinvar_lazy.head().collect()"
   ]
  },
  {
   "cell_type": "code",
   "execution_count": 16,
   "id": "256a1772",
   "metadata": {},
   "outputs": [
    {
     "data": {
      "text/html": [
       "<div><style>\n",
       ".dataframe > thead > tr,\n",
       ".dataframe > tbody > tr {\n",
       "  text-align: right;\n",
       "  white-space: pre-wrap;\n",
       "}\n",
       "</style>\n",
       "<small>shape: (5, 8)</small><table border=\"1\" class=\"dataframe\"><thead><tr><th>chrom</th><th>start</th><th>end</th><th>id</th><th>ref</th><th>alt</th><th>qual</th><th>filter</th></tr><tr><td>str</td><td>u32</td><td>u32</td><td>str</td><td>str</td><td>str</td><td>f64</td><td>str</td></tr></thead><tbody><tr><td>&quot;1&quot;</td><td>66926</td><td>66927</td><td>&quot;3385321&quot;</td><td>&quot;AG&quot;</td><td>&quot;A&quot;</td><td>null</td><td>&quot;&quot;</td></tr><tr><td>&quot;1&quot;</td><td>69134</td><td>69134</td><td>&quot;2205837&quot;</td><td>&quot;A&quot;</td><td>&quot;G&quot;</td><td>null</td><td>&quot;&quot;</td></tr><tr><td>&quot;1&quot;</td><td>69308</td><td>69308</td><td>&quot;3925305&quot;</td><td>&quot;A&quot;</td><td>&quot;G&quot;</td><td>null</td><td>&quot;&quot;</td></tr><tr><td>&quot;1&quot;</td><td>69314</td><td>69314</td><td>&quot;3205580&quot;</td><td>&quot;T&quot;</td><td>&quot;G&quot;</td><td>null</td><td>&quot;&quot;</td></tr><tr><td>&quot;1&quot;</td><td>69404</td><td>69404</td><td>&quot;3925306&quot;</td><td>&quot;T&quot;</td><td>&quot;C&quot;</td><td>null</td><td>&quot;&quot;</td></tr></tbody></table></div>"
      ],
      "text/plain": [
       "shape: (5, 8)\n",
       "┌───────┬───────┬───────┬─────────┬─────┬─────┬──────┬────────┐\n",
       "│ chrom ┆ start ┆ end   ┆ id      ┆ ref ┆ alt ┆ qual ┆ filter │\n",
       "│ ---   ┆ ---   ┆ ---   ┆ ---     ┆ --- ┆ --- ┆ ---  ┆ ---    │\n",
       "│ str   ┆ u32   ┆ u32   ┆ str     ┆ str ┆ str ┆ f64  ┆ str    │\n",
       "╞═══════╪═══════╪═══════╪═════════╪═════╪═════╪══════╪════════╡\n",
       "│ 1     ┆ 66926 ┆ 66927 ┆ 3385321 ┆ AG  ┆ A   ┆ null ┆        │\n",
       "│ 1     ┆ 69134 ┆ 69134 ┆ 2205837 ┆ A   ┆ G   ┆ null ┆        │\n",
       "│ 1     ┆ 69308 ┆ 69308 ┆ 3925305 ┆ A   ┆ G   ┆ null ┆        │\n",
       "│ 1     ┆ 69314 ┆ 69314 ┆ 3205580 ┆ T   ┆ G   ┆ null ┆        │\n",
       "│ 1     ┆ 69404 ┆ 69404 ┆ 3925306 ┆ T   ┆ C   ┆ null ┆        │\n",
       "└───────┴───────┴───────┴─────────┴─────┴─────┴──────┴────────┘"
      ]
     },
     "execution_count": 16,
     "metadata": {},
     "output_type": "execute_result"
    }
   ],
   "source": [
    "pl.scan_parquet(clinvar_result.parquet).head().collect()"
   ]
  },
  {
   "cell_type": "code",
   "execution_count": 17,
   "id": "815b7eee",
   "metadata": {},
   "outputs": [
    {
     "data": {
      "text/html": [
       "<div><style>\n",
       ".dataframe > thead > tr,\n",
       ".dataframe > tbody > tr {\n",
       "  text-align: right;\n",
       "  white-space: pre-wrap;\n",
       "}\n",
       "</style>\n",
       "<small>shape: (39, 3)</small><table border=\"1\" class=\"dataframe\"><thead><tr><th>name</th><th>type</th><th>description</th></tr><tr><td>str</td><td>str</td><td>str</td></tr></thead><tbody><tr><td>&quot;AF_ESP&quot;</td><td>&quot;Float&quot;</td><td>&quot;allele frequencies from GO-ESP&quot;</td></tr><tr><td>&quot;AF_EXAC&quot;</td><td>&quot;Float&quot;</td><td>&quot;allele frequencies from ExAC&quot;</td></tr><tr><td>&quot;AF_TGP&quot;</td><td>&quot;Float&quot;</td><td>&quot;allele frequencies from TGP&quot;</td></tr><tr><td>&quot;ALLELEID&quot;</td><td>&quot;Integer&quot;</td><td>&quot;the ClinVar Allele ID&quot;</td></tr><tr><td>&quot;CLNDN&quot;</td><td>&quot;String&quot;</td><td>&quot;ClinVar&#x27;s preferred disease name for the concept specified by disease identifiers in CLNDISDB&quot;</td></tr><tr><td>&quot;CLNDNINCL&quot;</td><td>&quot;String&quot;</td><td>&quot;For included Variant : ClinVar&#x27;s preferred disease name for the concept specified by disease identifiers in CLNDISDB&quot;</td></tr><tr><td>&quot;CLNDISDB&quot;</td><td>&quot;String&quot;</td><td>&quot;Tag-value pairs of disease database name and identifier submitted for germline classifications, e.g. OMIM:NNNNNN&quot;</td></tr><tr><td>&quot;CLNDISDBINCL&quot;</td><td>&quot;String&quot;</td><td>&quot;For included Variant: Tag-value pairs of disease database name and identifier for germline classifications, e.g. OMIM:NNNNNN&quot;</td></tr><tr><td>&quot;CLNHGVS&quot;</td><td>&quot;String&quot;</td><td>&quot;Top-level (primary assembly, alt, or patch) HGVS expression.&quot;</td></tr><tr><td>&quot;CLNREVSTAT&quot;</td><td>&quot;String&quot;</td><td>&quot;ClinVar review status of germline classification for the Variation ID&quot;</td></tr><tr><td>&quot;CLNSIG&quot;</td><td>&quot;String&quot;</td><td>&quot;Aggregate germline classification for this single variant; multiple values are separated by a vertical bar&quot;</td></tr><tr><td>&quot;CLNSIGCONF&quot;</td><td>&quot;String&quot;</td><td>&quot;Conflicting germline classification for this single variant; multiple values are separated by a vertical bar&quot;</td></tr><tr><td>&quot;CLNSIGINCL&quot;</td><td>&quot;String&quot;</td><td>&quot;Germline classification for a haplotype or genotype that includes this variant. Reported as pairs of VariationID:classification; multiple values are separated by a vertical bar&quot;</td></tr><tr><td>&quot;CLNSIGSCV&quot;</td><td>&quot;String&quot;</td><td>&quot;SCV accession numbers for the submissions that contribute to the aggregate germline classification in ClinVar; multiple values are separated by a vertical bar&quot;</td></tr><tr><td>&quot;CLNVC&quot;</td><td>&quot;String&quot;</td><td>&quot;Variant type&quot;</td></tr><tr><td>&quot;CLNVCSO&quot;</td><td>&quot;String&quot;</td><td>&quot;Sequence Ontology id for variant type&quot;</td></tr><tr><td>&quot;CLNVI&quot;</td><td>&quot;String&quot;</td><td>&quot;the variant&#x27;s clinical sources reported as tag-value pairs of database and variant identifier&quot;</td></tr><tr><td>&quot;DBVARID&quot;</td><td>&quot;String&quot;</td><td>&quot;nsv accessions from dbVar for the variant&quot;</td></tr><tr><td>&quot;GENEINFO&quot;</td><td>&quot;String&quot;</td><td>&quot;Gene(s) for the variant reported as gene symbol:gene id. The gene symbol and id are delimited by a colon (:) and each pair is delimited by a vertical bar (|)&quot;</td></tr><tr><td>&quot;MC&quot;</td><td>&quot;String&quot;</td><td>&quot;comma separated list of molecular consequence in the form of Sequence Ontology ID|molecular_consequence&quot;</td></tr><tr><td>&quot;ONCDN&quot;</td><td>&quot;String&quot;</td><td>&quot;ClinVar&#x27;s preferred disease name for the concept specified by disease identifiers in ONCDISDB&quot;</td></tr><tr><td>&quot;ONCDNINCL&quot;</td><td>&quot;String&quot;</td><td>&quot;For included variant: ClinVar&#x27;s preferred disease name for the concept specified by disease identifiers in ONCDISDBINCL&quot;</td></tr><tr><td>&quot;ONCDISDB&quot;</td><td>&quot;String&quot;</td><td>&quot;Tag-value pairs of disease database name and identifier submitted for oncogenicity classifications, e.g. MedGen:NNNNNN&quot;</td></tr><tr><td>&quot;ONCDISDBINCL&quot;</td><td>&quot;String&quot;</td><td>&quot;For included variant: Tag-value pairs of disease database name and identifier for oncogenicity classifications, e.g. OMIM:NNNNNN&quot;</td></tr><tr><td>&quot;ONC&quot;</td><td>&quot;String&quot;</td><td>&quot;Aggregate oncogenicity classification for this single variant; multiple values are separated by a vertical bar&quot;</td></tr><tr><td>&quot;ONCINCL&quot;</td><td>&quot;String&quot;</td><td>&quot;Oncogenicity classification for a haplotype or genotype that includes this variant. Reported as pairs of VariationID:classification; multiple values are separated by a vertical bar&quot;</td></tr><tr><td>&quot;ONCREVSTAT&quot;</td><td>&quot;String&quot;</td><td>&quot;ClinVar review status of oncogenicity classification for the Variation ID&quot;</td></tr><tr><td>&quot;ONCSCV&quot;</td><td>&quot;String&quot;</td><td>&quot;SCV accession numbers for the submissions that contribute to the aggregate oncogenicity classification in ClinVar; multiple values are separated by a vertical bar&quot;</td></tr><tr><td>&quot;ONCCONF&quot;</td><td>&quot;String&quot;</td><td>&quot;Conflicting oncogenicity classification for this single variant; multiple values are separated by a vertical bar&quot;</td></tr><tr><td>&quot;ORIGIN&quot;</td><td>&quot;String&quot;</td><td>&quot;Allele origin. One or more of the following values may be added: 0 - unknown; 1 - germline; 2 - somatic; 4 - inherited; 8 - paternal; 16 - maternal; 32 - de-novo; 64 - biparental; 128 - uniparental; 256 - not-tested; 512 - tested-inconclusive; 1073741824 - other&quot;</td></tr><tr><td>&quot;RS&quot;</td><td>&quot;String&quot;</td><td>&quot;dbSNP ID (i.e. rs number)&quot;</td></tr><tr><td>&quot;SCIDN&quot;</td><td>&quot;String&quot;</td><td>&quot;ClinVar&#x27;s preferred disease name for the concept specified by disease identifiers in SCIDISDB&quot;</td></tr><tr><td>&quot;SCIDNINCL&quot;</td><td>&quot;String&quot;</td><td>&quot;For included variant: ClinVar&#x27;s preferred disease name for the concept specified by disease identifiers in SCIDISDBINCL&quot;</td></tr><tr><td>&quot;SCIDISDB&quot;</td><td>&quot;String&quot;</td><td>&quot;Tag-value pairs of disease database name and identifier submitted for somatic clinial impact classifications, e.g. MedGen:NNNNNN&quot;</td></tr><tr><td>&quot;SCIDISDBINCL&quot;</td><td>&quot;String&quot;</td><td>&quot;For included variant: Tag-value pairs of disease database name and identifier for somatic clinical impact classifications, e.g. OMIM:NNNNNN&quot;</td></tr><tr><td>&quot;SCIREVSTAT&quot;</td><td>&quot;String&quot;</td><td>&quot;ClinVar review status of somatic clinical impact for the Variation ID&quot;</td></tr><tr><td>&quot;SCI&quot;</td><td>&quot;String&quot;</td><td>&quot;Aggregate somatic clinical impact for this single variant; multiple values are separated by a vertical bar&quot;</td></tr><tr><td>&quot;SCIINCL&quot;</td><td>&quot;String&quot;</td><td>&quot;Somatic clinical impact classification for a haplotype or genotype that includes this variant. Reported as pairs of VariationID:classification; multiple values are separated by a vertical bar&quot;</td></tr><tr><td>&quot;SCISCV&quot;</td><td>&quot;String&quot;</td><td>&quot;SCV accession numbers for the submissions that contribute to the aggregate somatic clinical impact in ClinVar; multiple values are separated by a vertical bar&quot;</td></tr></tbody></table></div>"
      ],
      "text/plain": [
       "shape: (39, 3)\n",
       "┌──────────────┬─────────┬────────────────────────────────────────────────────────────────────────────────────────────────────────────────────────────────────────────────────────────────────────────────────────────────────────────────────────────────────────────────────────────────────────┐\n",
       "│ name         ┆ type    ┆ description                                                                                                                                                                                                                                                            │\n",
       "│ ---          ┆ ---     ┆ ---                                                                                                                                                                                                                                                                    │\n",
       "│ str          ┆ str     ┆ str                                                                                                                                                                                                                                                                    │\n",
       "╞══════════════╪═════════╪════════════════════════════════════════════════════════════════════════════════════════════════════════════════════════════════════════════════════════════════════════════════════════════════════════════════════════════════════════════════════════════════════════╡\n",
       "│ AF_ESP       ┆ Float   ┆ allele frequencies from GO-ESP                                                                                                                                                                                                                                         │\n",
       "│ AF_EXAC      ┆ Float   ┆ allele frequencies from ExAC                                                                                                                                                                                                                                           │\n",
       "│ AF_TGP       ┆ Float   ┆ allele frequencies from TGP                                                                                                                                                                                                                                            │\n",
       "│ ALLELEID     ┆ Integer ┆ the ClinVar Allele ID                                                                                                                                                                                                                                                  │\n",
       "│ CLNDN        ┆ String  ┆ ClinVar's preferred disease name for the concept specified by disease identifiers in CLNDISDB                                                                                                                                                                          │\n",
       "│ CLNDNINCL    ┆ String  ┆ For included Variant : ClinVar's preferred disease name for the concept specified by disease identifiers in CLNDISDB                                                                                                                                                   │\n",
       "│ CLNDISDB     ┆ String  ┆ Tag-value pairs of disease database name and identifier submitted for germline classifications, e.g. OMIM:NNNNNN                                                                                                                                                       │\n",
       "│ CLNDISDBINCL ┆ String  ┆ For included Variant: Tag-value pairs of disease database name and identifier for germline classifications, e.g. OMIM:NNNNNN                                                                                                                                           │\n",
       "│ CLNHGVS      ┆ String  ┆ Top-level (primary assembly, alt, or patch) HGVS expression.                                                                                                                                                                                                           │\n",
       "│ CLNREVSTAT   ┆ String  ┆ ClinVar review status of germline classification for the Variation ID                                                                                                                                                                                                  │\n",
       "│ CLNSIG       ┆ String  ┆ Aggregate germline classification for this single variant; multiple values are separated by a vertical bar                                                                                                                                                             │\n",
       "│ CLNSIGCONF   ┆ String  ┆ Conflicting germline classification for this single variant; multiple values are separated by a vertical bar                                                                                                                                                           │\n",
       "│ CLNSIGINCL   ┆ String  ┆ Germline classification for a haplotype or genotype that includes this variant. Reported as pairs of VariationID:classification; multiple values are separated by a vertical bar                                                                                       │\n",
       "│ CLNSIGSCV    ┆ String  ┆ SCV accession numbers for the submissions that contribute to the aggregate germline classification in ClinVar; multiple values are separated by a vertical bar                                                                                                         │\n",
       "│ CLNVC        ┆ String  ┆ Variant type                                                                                                                                                                                                                                                           │\n",
       "│ CLNVCSO      ┆ String  ┆ Sequence Ontology id for variant type                                                                                                                                                                                                                                  │\n",
       "│ CLNVI        ┆ String  ┆ the variant's clinical sources reported as tag-value pairs of database and variant identifier                                                                                                                                                                          │\n",
       "│ DBVARID      ┆ String  ┆ nsv accessions from dbVar for the variant                                                                                                                                                                                                                              │\n",
       "│ GENEINFO     ┆ String  ┆ Gene(s) for the variant reported as gene symbol:gene id. The gene symbol and id are delimited by a colon (:) and each pair is delimited by a vertical bar (|)                                                                                                          │\n",
       "│ MC           ┆ String  ┆ comma separated list of molecular consequence in the form of Sequence Ontology ID|molecular_consequence                                                                                                                                                                │\n",
       "│ ONCDN        ┆ String  ┆ ClinVar's preferred disease name for the concept specified by disease identifiers in ONCDISDB                                                                                                                                                                          │\n",
       "│ ONCDNINCL    ┆ String  ┆ For included variant: ClinVar's preferred disease name for the concept specified by disease identifiers in ONCDISDBINCL                                                                                                                                                │\n",
       "│ ONCDISDB     ┆ String  ┆ Tag-value pairs of disease database name and identifier submitted for oncogenicity classifications, e.g. MedGen:NNNNNN                                                                                                                                                 │\n",
       "│ ONCDISDBINCL ┆ String  ┆ For included variant: Tag-value pairs of disease database name and identifier for oncogenicity classifications, e.g. OMIM:NNNNNN                                                                                                                                       │\n",
       "│ ONC          ┆ String  ┆ Aggregate oncogenicity classification for this single variant; multiple values are separated by a vertical bar                                                                                                                                                         │\n",
       "│ ONCINCL      ┆ String  ┆ Oncogenicity classification for a haplotype or genotype that includes this variant. Reported as pairs of VariationID:classification; multiple values are separated by a vertical bar                                                                                   │\n",
       "│ ONCREVSTAT   ┆ String  ┆ ClinVar review status of oncogenicity classification for the Variation ID                                                                                                                                                                                              │\n",
       "│ ONCSCV       ┆ String  ┆ SCV accession numbers for the submissions that contribute to the aggregate oncogenicity classification in ClinVar; multiple values are separated by a vertical bar                                                                                                     │\n",
       "│ ONCCONF      ┆ String  ┆ Conflicting oncogenicity classification for this single variant; multiple values are separated by a vertical bar                                                                                                                                                       │\n",
       "│ ORIGIN       ┆ String  ┆ Allele origin. One or more of the following values may be added: 0 - unknown; 1 - germline; 2 - somatic; 4 - inherited; 8 - paternal; 16 - maternal; 32 - de-novo; 64 - biparental; 128 - uniparental; 256 - not-tested; 512 - tested-inconclusive; 1073741824 - other │\n",
       "│ RS           ┆ String  ┆ dbSNP ID (i.e. rs number)                                                                                                                                                                                                                                              │\n",
       "│ SCIDN        ┆ String  ┆ ClinVar's preferred disease name for the concept specified by disease identifiers in SCIDISDB                                                                                                                                                                          │\n",
       "│ SCIDNINCL    ┆ String  ┆ For included variant: ClinVar's preferred disease name for the concept specified by disease identifiers in SCIDISDBINCL                                                                                                                                                │\n",
       "│ SCIDISDB     ┆ String  ┆ Tag-value pairs of disease database name and identifier submitted for somatic clinial impact classifications, e.g. MedGen:NNNNNN                                                                                                                                       │\n",
       "│ SCIDISDBINCL ┆ String  ┆ For included variant: Tag-value pairs of disease database name and identifier for somatic clinical impact classifications, e.g. OMIM:NNNNNN                                                                                                                            │\n",
       "│ SCIREVSTAT   ┆ String  ┆ ClinVar review status of somatic clinical impact for the Variation ID                                                                                                                                                                                                  │\n",
       "│ SCI          ┆ String  ┆ Aggregate somatic clinical impact for this single variant; multiple values are separated by a vertical bar                                                                                                                                                             │\n",
       "│ SCIINCL      ┆ String  ┆ Somatic clinical impact classification for a haplotype or genotype that includes this variant. Reported as pairs of VariationID:classification; multiple values are separated by a vertical bar                                                                        │\n",
       "│ SCISCV       ┆ String  ┆ SCV accession numbers for the submissions that contribute to the aggregate somatic clinical impact in ClinVar; multiple values are separated by a vertical bar                                                                                                         │\n",
       "└──────────────┴─────────┴────────────────────────────────────────────────────────────────────────────────────────────────────────────────────────────────────────────────────────────────────────────────────────────────────────────────────────────────────────────────────────────────────────┘"
      ]
     },
     "execution_count": 17,
     "metadata": {},
     "output_type": "execute_result"
    }
   ],
   "source": [
    "pb.describe_vcf(str(clinvar_result.vcf))"
   ]
  },
  {
   "cell_type": "code",
   "execution_count": 10,
   "id": "f14edd09",
   "metadata": {},
   "outputs": [
    {
     "data": {
      "text/html": [
       "<div><style>\n",
       ".dataframe > thead > tr,\n",
       ".dataframe > tbody > tr {\n",
       "  text-align: right;\n",
       "  white-space: pre-wrap;\n",
       "}\n",
       "</style>\n",
       "<small>shape: (1, 8)</small><table border=\"1\" class=\"dataframe\"><thead><tr><th>chrom</th><th>start</th><th>end</th><th>id</th><th>ref</th><th>alt</th><th>qual</th><th>filter</th></tr><tr><td>u32</td><td>u32</td><td>u32</td><td>u32</td><td>u32</td><td>u32</td><td>u32</td><td>u32</td></tr></thead><tbody><tr><td>3678878</td><td>3678878</td><td>3678878</td><td>3678878</td><td>3678878</td><td>3678878</td><td>0</td><td>3678878</td></tr></tbody></table></div>"
      ],
      "text/plain": [
       "shape: (1, 8)\n",
       "┌─────────┬─────────┬─────────┬─────────┬─────────┬─────────┬──────┬─────────┐\n",
       "│ chrom   ┆ start   ┆ end     ┆ id      ┆ ref     ┆ alt     ┆ qual ┆ filter  │\n",
       "│ ---     ┆ ---     ┆ ---     ┆ ---     ┆ ---     ┆ ---     ┆ ---  ┆ ---     │\n",
       "│ u32     ┆ u32     ┆ u32     ┆ u32     ┆ u32     ┆ u32     ┆ u32  ┆ u32     │\n",
       "╞═════════╪═════════╪═════════╪═════════╪═════════╪═════════╪══════╪═════════╡\n",
       "│ 3678878 ┆ 3678878 ┆ 3678878 ┆ 3678878 ┆ 3678878 ┆ 3678878 ┆ 0    ┆ 3678878 │\n",
       "└─────────┴─────────┴─────────┴─────────┴─────────┴─────────┴──────┴─────────┘"
      ]
     },
     "execution_count": 10,
     "metadata": {},
     "output_type": "execute_result"
    }
   ],
   "source": [
    "clinvar_lazy.count().collect()"
   ]
  },
  {
   "cell_type": "code",
   "execution_count": null,
   "id": "e8807594",
   "metadata": {},
   "outputs": [
    {
     "ename": "AttributeError",
     "evalue": "module 'genobear' has no attribute 'get_info_fields'",
     "output_type": "error",
     "traceback": [
      "\u001b[31m---------------------------------------------------------------------------\u001b[39m",
      "\u001b[31mAttributeError\u001b[39m                            Traceback (most recent call last)",
      "\u001b[36mCell\u001b[39m\u001b[36m \u001b[39m\u001b[32mIn[30]\u001b[39m\u001b[32m, line 1\u001b[39m\n\u001b[32m----> \u001b[39m\u001b[32m1\u001b[39m \u001b[43mgb\u001b[49m\u001b[43m.\u001b[49m\u001b[43mget_info_fields\u001b[49m(\u001b[38;5;28mstr\u001b[39m(clinvar_vcf))\n",
      "\u001b[31mAttributeError\u001b[39m: module 'genobear' has no attribute 'get_info_fields'"
     ]
    }
   ],
   "source": [
    "# Get ClinVar INFO fields\n",
    "from genobear import get_info_fields\n",
    "get_info_fields(str(clinvar_result.vcf))"
   ]
  },
  {
   "cell_type": "code",
   "execution_count": null,
   "id": "613a423e",
   "metadata": {},
   "outputs": [
    {
     "ename": "AttributeError",
     "evalue": "module 'genobear' has no attribute 'get_info_fields'",
     "output_type": "error",
     "traceback": [
      "\u001b[31m---------------------------------------------------------------------------\u001b[39m\n",
      "\u001b[31mAttributeError\u001b[39m                            Traceback (most recent call last)\n",
      "\u001b[36mCell\u001b[39m\u001b[36m \u001b[39m\u001b[32mIn[30]\u001b[39m\u001b[32m, line 1\u001b[39m\n",
      "\u001b[32m----> \u001b[39m\u001b[32m1\u001b[39m \u001b[43mgb\u001b[49m\u001b[43m.\u001b[49m\u001b[43mget_info_fields\u001b[49m(\u001b[38;5;28mstr\u001b[39m(clinvar_vcf))\n",
      "\n",
      "\u001b[31mAttributeError\u001b[39m: module 'genobear' has no attribute 'get_info_fields'"
     ]
    }
   ],
   "source": [
    "# Show some ClinVar data with important INFO fields\n",
    "from genobear.io import read_vcf_file\n",
    "\n",
    "clinvar_with_info = read_vcf_file(\n",
    "    clinvar_result.vcf,\n",
    "    streaming=True,\n",
    "    info_fields=[\"CLNSIG\", \"CLNDN\", \"CLNHGVS\", \"CLNVC\", \"CLNREVSTAT\"]\n",
    ")\n",
    "\n",
    "print(\"ClinVar columns:\", clinvar_with_info.collect_schema().names())\n",
    "clinvar_with_info.head(10).collect()"
   ]
  },
  {
   "cell_type": "code",
   "execution_count": null,
   "id": "10362de9",
   "metadata": {},
   "outputs": [
    {
     "ename": "AttributeError",
     "evalue": "module 'genobear' has no attribute 'get_info_fields'",
     "output_type": "error",
     "traceback": [
      "\u001b[31m---------------------------------------------------------------------------\u001b[39m\n",
      "\u001b[31mAttributeError\u001b[39m                            Traceback (most recent call last)\n",
      "\u001b[36mCell\u001b[39m\u001b[36m \u001b[39m\u001b[32mIn[30]\u001b[39m\u001b[32m, line 1\u001b[39m\n",
      "\u001b[32m----> \u001b[39m\u001b[32m1\u001b[39m \u001b[43mgb\u001b[49m\u001b[43m.\u001b[49m\u001b[43mget_info_fields\u001b[49m(\u001b[38;5;28mstr\u001b[39m(clinvar_vcf))\n",
      "\n",
      "\u001b[31mAttributeError\u001b[39m: module 'genobear' has no attribute 'get_info_fields'"
     ]
    }
   ],
   "source": [
    "# Count variants by clinical significance\n",
    "clinvar_with_info.group_by(\"CLNSIG\").agg(\n",
    "    pl.count().alias(\"variant_count\")\n",
    ").sort(\"variant_count\", descending=True).collect()"
   ]
  },
  {
   "cell_type": "code",
   "execution_count": null,
   "id": "53088cc6",
   "metadata": {},
   "outputs": [
    {
     "data": {
      "text/html": [
       "<div><style>\n",
       ".dataframe > thead > tr,\n",
       ".dataframe > tbody > tr {\n",
       "  text-align: right;\n",
       "  white-space: pre-wrap;\n",
       "}\n",
       "</style>\n",
       "<small>shape: (5, 47)</small><table border=\"1\" class=\"dataframe\"><thead><tr><th>chrom</th><th>start</th><th>end</th><th>id</th><th>ref</th><th>alt</th><th>qual</th><th>filter</th><th>af_esp</th><th>af_exac</th><th>af_tgp</th><th>alleleid</th><th>clndn</th><th>clndnincl</th><th>clndisdb</th><th>clndisdbincl</th><th>clnhgvs</th><th>clnrevstat</th><th>clnsig</th><th>clnsigconf</th><th>clnsigincl</th><th>clnsigscv</th><th>clnvc</th><th>clnvcso</th><th>clnvi</th><th>dbvarid</th><th>geneinfo</th><th>mc</th><th>oncdn</th><th>oncdnincl</th><th>oncdisdb</th><th>oncdisdbincl</th><th>onc</th><th>oncincl</th><th>oncrevstat</th><th>oncscv</th><th>oncconf</th><th>origin</th><th>rs</th><th>scidn</th><th>scidnincl</th><th>scidisdb</th><th>scidisdbincl</th><th>scirevstat</th><th>sci</th><th>sciincl</th><th>sciscv</th></tr><tr><td>str</td><td>u32</td><td>u32</td><td>str</td><td>str</td><td>str</td><td>f64</td><td>str</td><td>f32</td><td>f32</td><td>f32</td><td>i32</td><td>list[str]</td><td>list[str]</td><td>list[str]</td><td>list[str]</td><td>list[str]</td><td>list[str]</td><td>list[str]</td><td>list[str]</td><td>list[str]</td><td>list[str]</td><td>str</td><td>str</td><td>list[str]</td><td>list[str]</td><td>str</td><td>list[str]</td><td>list[str]</td><td>list[str]</td><td>list[str]</td><td>list[str]</td><td>list[str]</td><td>list[str]</td><td>list[str]</td><td>list[str]</td><td>list[str]</td><td>list[str]</td><td>list[str]</td><td>list[str]</td><td>list[str]</td><td>list[str]</td><td>list[str]</td><td>list[str]</td><td>list[str]</td><td>list[str]</td><td>list[str]</td></tr></thead><tbody><tr><td>&quot;1&quot;</td><td>66926</td><td>66927</td><td>&quot;3385321&quot;</td><td>&quot;AG&quot;</td><td>&quot;A&quot;</td><td>0.0</td><td>&quot;&quot;</td><td>null</td><td>null</td><td>null</td><td>3544463</td><td>[&quot;Retinitis_pigmentosa&quot;]</td><td>null</td><td>[&quot;Human_Phenotype_Ontology:HP:0000547&quot;, &quot;MONDO:MONDO:0019200&quot;, … &quot;Orphanet:791&quot;]</td><td>null</td><td>[&quot;NC_000001.11:g.66927del&quot;]</td><td>[&quot;criteria_provided&quot;, &quot;_single_submitter&quot;]</td><td>[&quot;Uncertain_significance&quot;]</td><td>null</td><td>null</td><td>[&quot;SCV005419006&quot;]</td><td>&quot;Deletion&quot;</td><td>&quot;SO:0000159&quot;</td><td>null</td><td>null</td><td>&quot;OR4F5:79501&quot;</td><td>[&quot;SO:0001627|intron_variant&quot;]</td><td>null</td><td>null</td><td>null</td><td>null</td><td>null</td><td>null</td><td>null</td><td>null</td><td>null</td><td>[&quot;0&quot;]</td><td>null</td><td>null</td><td>null</td><td>null</td><td>null</td><td>null</td><td>null</td><td>null</td><td>null</td></tr><tr><td>&quot;1&quot;</td><td>69134</td><td>69134</td><td>&quot;2205837&quot;</td><td>&quot;A&quot;</td><td>&quot;G&quot;</td><td>0.0</td><td>&quot;&quot;</td><td>null</td><td>null</td><td>null</td><td>2193183</td><td>[&quot;not_specified&quot;]</td><td>null</td><td>[&quot;MedGen:CN169374&quot;]</td><td>null</td><td>[&quot;NC_000001.11:g.69134A&gt;G&quot;]</td><td>[&quot;criteria_provided&quot;, &quot;_single_submitter&quot;]</td><td>[&quot;Likely_benign&quot;]</td><td>null</td><td>null</td><td>[&quot;SCV003526545&quot;]</td><td>&quot;single_nucleotide_variant&quot;</td><td>&quot;SO:0001483&quot;</td><td>[&quot;ClinGen:CA502008&quot;]</td><td>null</td><td>&quot;OR4F5:79501&quot;</td><td>[&quot;SO:0001583|missense_variant&quot;]</td><td>null</td><td>null</td><td>null</td><td>null</td><td>null</td><td>null</td><td>null</td><td>null</td><td>null</td><td>[&quot;1&quot;]</td><td>[&quot;781394307&quot;]</td><td>null</td><td>null</td><td>null</td><td>null</td><td>null</td><td>null</td><td>null</td><td>null</td></tr><tr><td>&quot;1&quot;</td><td>69308</td><td>69308</td><td>&quot;3925305&quot;</td><td>&quot;A&quot;</td><td>&quot;G&quot;</td><td>0.0</td><td>&quot;&quot;</td><td>null</td><td>null</td><td>null</td><td>4039319</td><td>[&quot;not_specified&quot;]</td><td>null</td><td>[&quot;MedGen:CN169374&quot;]</td><td>null</td><td>[&quot;NC_000001.11:g.69308A&gt;G&quot;]</td><td>[&quot;criteria_provided&quot;, &quot;_single_submitter&quot;]</td><td>[&quot;Uncertain_significance&quot;]</td><td>null</td><td>null</td><td>[&quot;SCV006120601&quot;]</td><td>&quot;single_nucleotide_variant&quot;</td><td>&quot;SO:0001483&quot;</td><td>null</td><td>null</td><td>&quot;OR4F5:79501&quot;</td><td>[&quot;SO:0001583|missense_variant&quot;]</td><td>null</td><td>null</td><td>null</td><td>null</td><td>null</td><td>null</td><td>null</td><td>null</td><td>null</td><td>[&quot;1&quot;]</td><td>null</td><td>null</td><td>null</td><td>null</td><td>null</td><td>null</td><td>null</td><td>null</td><td>null</td></tr><tr><td>&quot;1&quot;</td><td>69314</td><td>69314</td><td>&quot;3205580&quot;</td><td>&quot;T&quot;</td><td>&quot;G&quot;</td><td>0.0</td><td>&quot;&quot;</td><td>null</td><td>null</td><td>null</td><td>3374047</td><td>[&quot;not_specified&quot;]</td><td>null</td><td>[&quot;MedGen:CN169374&quot;]</td><td>null</td><td>[&quot;NC_000001.11:g.69314T&gt;G&quot;]</td><td>[&quot;criteria_provided&quot;, &quot;_single_submitter&quot;]</td><td>[&quot;Uncertain_significance&quot;]</td><td>null</td><td>null</td><td>[&quot;SCV004995495&quot;]</td><td>&quot;single_nucleotide_variant&quot;</td><td>&quot;SO:0001483&quot;</td><td>[&quot;ClinGen:CA338197388&quot;]</td><td>null</td><td>&quot;OR4F5:79501&quot;</td><td>[&quot;SO:0001583|missense_variant&quot;]</td><td>null</td><td>null</td><td>null</td><td>null</td><td>null</td><td>null</td><td>null</td><td>null</td><td>null</td><td>[&quot;1&quot;]</td><td>[&quot;2521653848&quot;]</td><td>null</td><td>null</td><td>null</td><td>null</td><td>null</td><td>null</td><td>null</td><td>null</td></tr><tr><td>&quot;1&quot;</td><td>69404</td><td>69404</td><td>&quot;3925306&quot;</td><td>&quot;T&quot;</td><td>&quot;C&quot;</td><td>0.0</td><td>&quot;&quot;</td><td>null</td><td>null</td><td>null</td><td>4039320</td><td>[&quot;not_specified&quot;]</td><td>null</td><td>[&quot;MedGen:CN169374&quot;]</td><td>null</td><td>[&quot;NC_000001.11:g.69404T&gt;C&quot;]</td><td>[&quot;criteria_provided&quot;, &quot;_single_submitter&quot;]</td><td>[&quot;Uncertain_significance&quot;]</td><td>null</td><td>null</td><td>[&quot;SCV006120602&quot;]</td><td>&quot;single_nucleotide_variant&quot;</td><td>&quot;SO:0001483&quot;</td><td>null</td><td>null</td><td>&quot;OR4F5:79501&quot;</td><td>[&quot;SO:0001583|missense_variant&quot;]</td><td>null</td><td>null</td><td>null</td><td>null</td><td>null</td><td>null</td><td>null</td><td>null</td><td>null</td><td>[&quot;1&quot;]</td><td>null</td><td>null</td><td>null</td><td>null</td><td>null</td><td>null</td><td>null</td><td>null</td><td>null</td></tr></tbody></table></div>"
      ],
      "text/plain": [
       "shape: (5, 47)\n",
       "┌───────┬───────┬───────┬─────────┬─────┬─────┬──────┬────────┬────────┬─────────┬────────┬──────────┬──────────────────────────┬───────────┬──────────────────────────────────────────────────────────────────────────────────┬──────────────┬─────────────────────────────┬────────────────────────────────────────────┬────────────────────────────┬────────────┬────────────┬──────────────────┬───────────────────────────┬────────────┬─────────────────────────┬───────────┬─────────────┬─────────────────────────────────┬───────────┬───────────┬───────────┬──────────────┬───────────┬───────────┬────────────┬───────────┬───────────┬───────────┬────────────────┬───────────┬───────────┬───────────┬──────────────┬────────────┬───────────┬───────────┬───────────┐\n",
       "│ chrom ┆ start ┆ end   ┆ id      ┆ ref ┆ alt ┆ qual ┆ filter ┆ af_esp ┆ af_exac ┆ af_tgp ┆ alleleid ┆ clndn                    ┆ clndnincl ┆ clndisdb                                                                         ┆ clndisdbincl ┆ clnhgvs                     ┆ clnrevstat                                 ┆ clnsig                     ┆ clnsigconf ┆ clnsigincl ┆ clnsigscv        ┆ clnvc                     ┆ clnvcso    ┆ clnvi                   ┆ dbvarid   ┆ geneinfo    ┆ mc                              ┆ oncdn     ┆ oncdnincl ┆ oncdisdb  ┆ oncdisdbincl ┆ onc       ┆ oncincl   ┆ oncrevstat ┆ oncscv    ┆ oncconf   ┆ origin    ┆ rs             ┆ scidn     ┆ scidnincl ┆ scidisdb  ┆ scidisdbincl ┆ scirevstat ┆ sci       ┆ sciincl   ┆ sciscv    │\n",
       "│ ---   ┆ ---   ┆ ---   ┆ ---     ┆ --- ┆ --- ┆ ---  ┆ ---    ┆ ---    ┆ ---     ┆ ---    ┆ ---      ┆ ---                      ┆ ---       ┆ ---                                                                              ┆ ---          ┆ ---                         ┆ ---                                        ┆ ---                        ┆ ---        ┆ ---        ┆ ---              ┆ ---                       ┆ ---        ┆ ---                     ┆ ---       ┆ ---         ┆ ---                             ┆ ---       ┆ ---       ┆ ---       ┆ ---          ┆ ---       ┆ ---       ┆ ---        ┆ ---       ┆ ---       ┆ ---       ┆ ---            ┆ ---       ┆ ---       ┆ ---       ┆ ---          ┆ ---        ┆ ---       ┆ ---       ┆ ---       │\n",
       "│ str   ┆ u32   ┆ u32   ┆ str     ┆ str ┆ str ┆ f64  ┆ str    ┆ f32    ┆ f32     ┆ f32    ┆ i32      ┆ list[str]                ┆ list[str] ┆ list[str]                                                                        ┆ list[str]    ┆ list[str]                   ┆ list[str]                                  ┆ list[str]                  ┆ list[str]  ┆ list[str]  ┆ list[str]        ┆ str                       ┆ str        ┆ list[str]               ┆ list[str] ┆ str         ┆ list[str]                       ┆ list[str] ┆ list[str] ┆ list[str] ┆ list[str]    ┆ list[str] ┆ list[str] ┆ list[str]  ┆ list[str] ┆ list[str] ┆ list[str] ┆ list[str]      ┆ list[str] ┆ list[str] ┆ list[str] ┆ list[str]    ┆ list[str]  ┆ list[str] ┆ list[str] ┆ list[str] │\n",
       "╞═══════╪═══════╪═══════╪═════════╪═════╪═════╪══════╪════════╪════════╪═════════╪════════╪══════════╪══════════════════════════╪═══════════╪══════════════════════════════════════════════════════════════════════════════════╪══════════════╪═════════════════════════════╪════════════════════════════════════════════╪════════════════════════════╪════════════╪════════════╪══════════════════╪═══════════════════════════╪════════════╪═════════════════════════╪═══════════╪═════════════╪═════════════════════════════════╪═══════════╪═══════════╪═══════════╪══════════════╪═══════════╪═══════════╪════════════╪═══════════╪═══════════╪═══════════╪════════════════╪═══════════╪═══════════╪═══════════╪══════════════╪════════════╪═══════════╪═══════════╪═══════════╡\n",
       "│ 1     ┆ 66926 ┆ 66927 ┆ 3385321 ┆ AG  ┆ A   ┆ 0.0  ┆        ┆ null   ┆ null    ┆ null   ┆ 3544463  ┆ [\"Retinitis_pigmentosa\"] ┆ null      ┆ [\"Human_Phenotype_Ontology:HP:0000547\", \"MONDO:MONDO:0019200\", … \"Orphanet:791\"] ┆ null         ┆ [\"NC_000001.11:g.66927del\"] ┆ [\"criteria_provided\", \"_single_submitter\"] ┆ [\"Uncertain_significance\"] ┆ null       ┆ null       ┆ [\"SCV005419006\"] ┆ Deletion                  ┆ SO:0000159 ┆ null                    ┆ null      ┆ OR4F5:79501 ┆ [\"SO:0001627|intron_variant\"]   ┆ null      ┆ null      ┆ null      ┆ null         ┆ null      ┆ null      ┆ null       ┆ null      ┆ null      ┆ [\"0\"]     ┆ null           ┆ null      ┆ null      ┆ null      ┆ null         ┆ null       ┆ null      ┆ null      ┆ null      │\n",
       "│ 1     ┆ 69134 ┆ 69134 ┆ 2205837 ┆ A   ┆ G   ┆ 0.0  ┆        ┆ null   ┆ null    ┆ null   ┆ 2193183  ┆ [\"not_specified\"]        ┆ null      ┆ [\"MedGen:CN169374\"]                                                              ┆ null         ┆ [\"NC_000001.11:g.69134A>G\"] ┆ [\"criteria_provided\", \"_single_submitter\"] ┆ [\"Likely_benign\"]          ┆ null       ┆ null       ┆ [\"SCV003526545\"] ┆ single_nucleotide_variant ┆ SO:0001483 ┆ [\"ClinGen:CA502008\"]    ┆ null      ┆ OR4F5:79501 ┆ [\"SO:0001583|missense_variant\"] ┆ null      ┆ null      ┆ null      ┆ null         ┆ null      ┆ null      ┆ null       ┆ null      ┆ null      ┆ [\"1\"]     ┆ [\"781394307\"]  ┆ null      ┆ null      ┆ null      ┆ null         ┆ null       ┆ null      ┆ null      ┆ null      │\n",
       "│ 1     ┆ 69308 ┆ 69308 ┆ 3925305 ┆ A   ┆ G   ┆ 0.0  ┆        ┆ null   ┆ null    ┆ null   ┆ 4039319  ┆ [\"not_specified\"]        ┆ null      ┆ [\"MedGen:CN169374\"]                                                              ┆ null         ┆ [\"NC_000001.11:g.69308A>G\"] ┆ [\"criteria_provided\", \"_single_submitter\"] ┆ [\"Uncertain_significance\"] ┆ null       ┆ null       ┆ [\"SCV006120601\"] ┆ single_nucleotide_variant ┆ SO:0001483 ┆ null                    ┆ null      ┆ OR4F5:79501 ┆ [\"SO:0001583|missense_variant\"] ┆ null      ┆ null      ┆ null      ┆ null         ┆ null      ┆ null      ┆ null       ┆ null      ┆ null      ┆ [\"1\"]     ┆ null           ┆ null      ┆ null      ┆ null      ┆ null         ┆ null       ┆ null      ┆ null      ┆ null      │\n",
       "│ 1     ┆ 69314 ┆ 69314 ┆ 3205580 ┆ T   ┆ G   ┆ 0.0  ┆        ┆ null   ┆ null    ┆ null   ┆ 3374047  ┆ [\"not_specified\"]        ┆ null      ┆ [\"MedGen:CN169374\"]                                                              ┆ null         ┆ [\"NC_000001.11:g.69314T>G\"] ┆ [\"criteria_provided\", \"_single_submitter\"] ┆ [\"Uncertain_significance\"] ┆ null       ┆ null       ┆ [\"SCV004995495\"] ┆ single_nucleotide_variant ┆ SO:0001483 ┆ [\"ClinGen:CA338197388\"] ┆ null      ┆ OR4F5:79501 ┆ [\"SO:0001583|missense_variant\"] ┆ null      ┆ null      ┆ null      ┆ null         ┆ null      ┆ null      ┆ null       ┆ null      ┆ null      ┆ [\"1\"]     ┆ [\"2521653848\"] ┆ null      ┆ null      ┆ null      ┆ null         ┆ null       ┆ null      ┆ null      ┆ null      │\n",
       "│ 1     ┆ 69404 ┆ 69404 ┆ 3925306 ┆ T   ┆ C   ┆ 0.0  ┆        ┆ null   ┆ null    ┆ null   ┆ 4039320  ┆ [\"not_specified\"]        ┆ null      ┆ [\"MedGen:CN169374\"]                                                              ┆ null         ┆ [\"NC_000001.11:g.69404T>C\"] ┆ [\"criteria_provided\", \"_single_submitter\"] ┆ [\"Uncertain_significance\"] ┆ null       ┆ null       ┆ [\"SCV006120602\"] ┆ single_nucleotide_variant ┆ SO:0001483 ┆ null                    ┆ null      ┆ OR4F5:79501 ┆ [\"SO:0001583|missense_variant\"] ┆ null      ┆ null      ┆ null      ┆ null         ┆ null      ┆ null      ┆ null       ┆ null      ┆ null      ┆ [\"1\"]     ┆ null           ┆ null      ┆ null      ┆ null      ┆ null         ┆ null       ┆ null      ┆ null      ┆ null      │\n",
       "└───────┴───────┴───────┴─────────┴─────┴─────┴──────┴────────┴────────┴─────────┴────────┴──────────┴──────────────────────────┴───────────┴──────────────────────────────────────────────────────────────────────────────────┴──────────────┴─────────────────────────────┴────────────────────────────────────────────┴────────────────────────────┴────────────┴────────────┴──────────────────┴───────────────────────────┴────────────┴─────────────────────────┴───────────┴─────────────┴─────────────────────────────────┴───────────┴───────────┴───────────┴──────────────┴───────────┴───────────┴────────────┴───────────┴───────────┴───────────┴────────────────┴───────────┴───────────┴───────────┴──────────────┴────────────┴───────────┴───────────┴───────────┘"
      ]
     },
     "execution_count": 6,
     "metadata": {},
     "output_type": "execute_result"
    }
   ],
   "source": [
    "# Use the ClinVar data for further analysis\n",
    "# This replaces the old manual file loading approach\n",
    "print(f\"Total ClinVar variants: {clinvar_lazy.count().collect()}\")\n",
    "print(f\"ClinVar VCF file: {clinvar_result.vcf}\")\n",
    "print(f\"ClinVar parquet file: {clinvar_result.parquet}\")\n",
    "\n",
    "# Show a sample of the data\n",
    "clinvar_lazy.head().collect()"
   ]
  },
  {
   "cell_type": "markdown",
   "id": "200c4981",
   "metadata": {},
   "source": [
    "Load Genomic Sample\n",
    "==================="
   ]
  },
  {
   "cell_type": "code",
   "execution_count": null,
   "id": "a1ddb1dc",
   "metadata": {},
   "outputs": [],
   "source": [
    "from genobear.io import read_vcf_file\n",
    "from pathlib import Path\n",
    "\n",
    "data_folder = current_folder / \"data\"\n",
    "test_folder = data_folder / \"tests\"\n",
    "\n",
    "assert test_folder.exists(), f\"Test folder {test_folder} does not exist\"\n"
   ]
  },
  {
   "cell_type": "code",
   "execution_count": null,
   "id": "13fe870b",
   "metadata": {},
   "outputs": [
    {
     "data": {
      "text/html": [
       "<div><style>\n",
       ".dataframe > thead > tr,\n",
       ".dataframe > tbody > tr {\n",
       "  text-align: right;\n",
       "  white-space: pre-wrap;\n",
       "}\n",
       "</style>\n",
       "<small>shape: (5, 8)</small><table border=\"1\" class=\"dataframe\"><thead><tr><th>chrom</th><th>start</th><th>end</th><th>id</th><th>ref</th><th>alt</th><th>qual</th><th>filter</th></tr><tr><td>str</td><td>u32</td><td>u32</td><td>str</td><td>str</td><td>str</td><td>f64</td><td>str</td></tr></thead><tbody><tr><td>&quot;1&quot;</td><td>10009</td><td>10009</td><td>&quot;&quot;</td><td>&quot;A&quot;</td><td>&quot;AC&quot;</td><td>0.0</td><td>&quot;RefCall&quot;</td></tr><tr><td>&quot;1&quot;</td><td>10015</td><td>10015</td><td>&quot;&quot;</td><td>&quot;A&quot;</td><td>&quot;G&quot;</td><td>0.0</td><td>&quot;RefCall&quot;</td></tr><tr><td>&quot;1&quot;</td><td>10021</td><td>10021</td><td>&quot;&quot;</td><td>&quot;A&quot;</td><td>&quot;G&quot;</td><td>0.0</td><td>&quot;RefCall&quot;</td></tr><tr><td>&quot;1&quot;</td><td>10027</td><td>10027</td><td>&quot;&quot;</td><td>&quot;A&quot;</td><td>&quot;G&quot;</td><td>0.0</td><td>&quot;RefCall&quot;</td></tr><tr><td>&quot;1&quot;</td><td>10033</td><td>10033</td><td>&quot;&quot;</td><td>&quot;A&quot;</td><td>&quot;G&quot;</td><td>0.0</td><td>&quot;RefCall&quot;</td></tr></tbody></table></div>"
      ],
      "text/plain": [
       "shape: (5, 8)\n",
       "┌───────┬───────┬───────┬─────┬─────┬─────┬──────┬─────────┐\n",
       "│ chrom ┆ start ┆ end   ┆ id  ┆ ref ┆ alt ┆ qual ┆ filter  │\n",
       "│ ---   ┆ ---   ┆ ---   ┆ --- ┆ --- ┆ --- ┆ ---  ┆ ---     │\n",
       "│ str   ┆ u32   ┆ u32   ┆ str ┆ str ┆ str ┆ f64  ┆ str     │\n",
       "╞═══════╪═══════╪═══════╪═════╪═════╪═════╪══════╪═════════╡\n",
       "│ 1     ┆ 10009 ┆ 10009 ┆     ┆ A   ┆ AC  ┆ 0.0  ┆ RefCall │\n",
       "│ 1     ┆ 10015 ┆ 10015 ┆     ┆ A   ┆ G   ┆ 0.0  ┆ RefCall │\n",
       "│ 1     ┆ 10021 ┆ 10021 ┆     ┆ A   ┆ G   ┆ 0.0  ┆ RefCall │\n",
       "│ 1     ┆ 10027 ┆ 10027 ┆     ┆ A   ┆ G   ┆ 0.0  ┆ RefCall │\n",
       "│ 1     ┆ 10033 ┆ 10033 ┆     ┆ A   ┆ G   ┆ 0.0  ┆ RefCall │\n",
       "└───────┴───────┴───────┴─────┴─────┴─────┴──────┴─────────┘"
      ]
     },
     "execution_count": 15,
     "metadata": {},
     "output_type": "execute_result"
    }
   ],
   "source": [
    "sample_vcf = test_folder / \"antonkulaga.vcf\"\n",
    "sample = read_vcf_file(sample_vcf, info_fields=[], streaming=False)\n",
    "sample.head().collect()"
   ]
  },
  {
   "cell_type": "markdown",
   "id": "ae69993c",
   "metadata": {},
   "source": [
    "## Annotation with clinvar"
   ]
  },
  {
   "cell_type": "code",
   "execution_count": null,
   "id": "755d1065",
   "metadata": {},
   "outputs": [
    {
     "name": "stderr",
     "output_type": "stream",
     "text": [
      "/tmp/ipykernel_178433/374950290.py:1: PerformanceWarning: Determining the column names of a LazyFrame requires resolving its schema, which is a potentially expensive operation. Use `LazyFrame.collect_schema().names()` to get the column names without this warning.\n",
      "  sample.columns\n"
     ]
    },
    {
     "data": {
      "text/plain": [
       "['chrom', 'start', 'end', 'id', 'ref', 'alt', 'qual', 'filter']"
      ]
     },
     "execution_count": 23,
     "metadata": {},
     "output_type": "execute_result"
    }
   ],
   "source": [
    "sample.columns"
   ]
  },
  {
   "cell_type": "code",
   "execution_count": null,
   "id": "c91f15c5",
   "metadata": {},
   "outputs": [],
   "source": [
    "sample.join(clinvar_lazy, on=[\"chrom\", \"start\", \"end\"], how=\"left\").collect()"
   ]
  },
  {
   "cell_type": "code",
   "execution_count": null,
   "id": "59cb5d73",
   "metadata": {},
   "outputs": [
    {
     "data": {
      "text/html": [
       "<div><style>\n",
       ".dataframe > thead > tr,\n",
       ".dataframe > tbody > tr {\n",
       "  text-align: right;\n",
       "  white-space: pre-wrap;\n",
       "}\n",
       "</style>\n",
       "<small>shape: (39, 3)</small><table border=\"1\" class=\"dataframe\"><thead><tr><th>name</th><th>type</th><th>description</th></tr><tr><td>str</td><td>str</td><td>str</td></tr></thead><tbody><tr><td>&quot;AF_ESP&quot;</td><td>&quot;Float&quot;</td><td>&quot;allele frequencies from GO-ESP&quot;</td></tr><tr><td>&quot;AF_EXAC&quot;</td><td>&quot;Float&quot;</td><td>&quot;allele frequencies from ExAC&quot;</td></tr><tr><td>&quot;AF_TGP&quot;</td><td>&quot;Float&quot;</td><td>&quot;allele frequencies from TGP&quot;</td></tr><tr><td>&quot;ALLELEID&quot;</td><td>&quot;Integer&quot;</td><td>&quot;the ClinVar Allele ID&quot;</td></tr><tr><td>&quot;CLNDN&quot;</td><td>&quot;String&quot;</td><td>&quot;ClinVar&#x27;s preferred disease name for the concept specified by disease identifiers in CLNDISDB&quot;</td></tr><tr><td>&quot;CLNDNINCL&quot;</td><td>&quot;String&quot;</td><td>&quot;For included Variant : ClinVar&#x27;s preferred disease name for the concept specified by disease identifiers in CLNDISDB&quot;</td></tr><tr><td>&quot;CLNDISDB&quot;</td><td>&quot;String&quot;</td><td>&quot;Tag-value pairs of disease database name and identifier submitted for germline classifications, e.g. OMIM:NNNNNN&quot;</td></tr><tr><td>&quot;CLNDISDBINCL&quot;</td><td>&quot;String&quot;</td><td>&quot;For included Variant: Tag-value pairs of disease database name and identifier for germline classifications, e.g. OMIM:NNNNNN&quot;</td></tr><tr><td>&quot;CLNHGVS&quot;</td><td>&quot;String&quot;</td><td>&quot;Top-level (primary assembly, alt, or patch) HGVS expression.&quot;</td></tr><tr><td>&quot;CLNREVSTAT&quot;</td><td>&quot;String&quot;</td><td>&quot;ClinVar review status of germline classification for the Variation ID&quot;</td></tr><tr><td>&quot;CLNSIG&quot;</td><td>&quot;String&quot;</td><td>&quot;Aggregate germline classification for this single variant; multiple values are separated by a vertical bar&quot;</td></tr><tr><td>&quot;CLNSIGCONF&quot;</td><td>&quot;String&quot;</td><td>&quot;Conflicting germline classification for this single variant; multiple values are separated by a vertical bar&quot;</td></tr><tr><td>&quot;CLNSIGINCL&quot;</td><td>&quot;String&quot;</td><td>&quot;Germline classification for a haplotype or genotype that includes this variant. Reported as pairs of VariationID:classification; multiple values are separated by a vertical bar&quot;</td></tr><tr><td>&quot;CLNSIGSCV&quot;</td><td>&quot;String&quot;</td><td>&quot;SCV accession numbers for the submissions that contribute to the aggregate germline classification in ClinVar; multiple values are separated by a vertical bar&quot;</td></tr><tr><td>&quot;CLNVC&quot;</td><td>&quot;String&quot;</td><td>&quot;Variant type&quot;</td></tr><tr><td>&quot;CLNVCSO&quot;</td><td>&quot;String&quot;</td><td>&quot;Sequence Ontology id for variant type&quot;</td></tr><tr><td>&quot;CLNVI&quot;</td><td>&quot;String&quot;</td><td>&quot;the variant&#x27;s clinical sources reported as tag-value pairs of database and variant identifier&quot;</td></tr><tr><td>&quot;DBVARID&quot;</td><td>&quot;String&quot;</td><td>&quot;nsv accessions from dbVar for the variant&quot;</td></tr><tr><td>&quot;GENEINFO&quot;</td><td>&quot;String&quot;</td><td>&quot;Gene(s) for the variant reported as gene symbol:gene id. The gene symbol and id are delimited by a colon (:) and each pair is delimited by a vertical bar (|)&quot;</td></tr><tr><td>&quot;MC&quot;</td><td>&quot;String&quot;</td><td>&quot;comma separated list of molecular consequence in the form of Sequence Ontology ID|molecular_consequence&quot;</td></tr><tr><td>&quot;ONCDN&quot;</td><td>&quot;String&quot;</td><td>&quot;ClinVar&#x27;s preferred disease name for the concept specified by disease identifiers in ONCDISDB&quot;</td></tr><tr><td>&quot;ONCDNINCL&quot;</td><td>&quot;String&quot;</td><td>&quot;For included variant: ClinVar&#x27;s preferred disease name for the concept specified by disease identifiers in ONCDISDBINCL&quot;</td></tr><tr><td>&quot;ONCDISDB&quot;</td><td>&quot;String&quot;</td><td>&quot;Tag-value pairs of disease database name and identifier submitted for oncogenicity classifications, e.g. MedGen:NNNNNN&quot;</td></tr><tr><td>&quot;ONCDISDBINCL&quot;</td><td>&quot;String&quot;</td><td>&quot;For included variant: Tag-value pairs of disease database name and identifier for oncogenicity classifications, e.g. OMIM:NNNNNN&quot;</td></tr><tr><td>&quot;ONC&quot;</td><td>&quot;String&quot;</td><td>&quot;Aggregate oncogenicity classification for this single variant; multiple values are separated by a vertical bar&quot;</td></tr><tr><td>&quot;ONCINCL&quot;</td><td>&quot;String&quot;</td><td>&quot;Oncogenicity classification for a haplotype or genotype that includes this variant. Reported as pairs of VariationID:classification; multiple values are separated by a vertical bar&quot;</td></tr><tr><td>&quot;ONCREVSTAT&quot;</td><td>&quot;String&quot;</td><td>&quot;ClinVar review status of oncogenicity classification for the Variation ID&quot;</td></tr><tr><td>&quot;ONCSCV&quot;</td><td>&quot;String&quot;</td><td>&quot;SCV accession numbers for the submissions that contribute to the aggregate oncogenicity classification in ClinVar; multiple values are separated by a vertical bar&quot;</td></tr><tr><td>&quot;ONCCONF&quot;</td><td>&quot;String&quot;</td><td>&quot;Conflicting oncogenicity classification for this single variant; multiple values are separated by a vertical bar&quot;</td></tr><tr><td>&quot;ORIGIN&quot;</td><td>&quot;String&quot;</td><td>&quot;Allele origin. One or more of the following values may be added: 0 - unknown; 1 - germline; 2 - somatic; 4 - inherited; 8 - paternal; 16 - maternal; 32 - de-novo; 64 - biparental; 128 - uniparental; 256 - not-tested; 512 - tested-inconclusive; 1073741824 - other&quot;</td></tr><tr><td>&quot;RS&quot;</td><td>&quot;String&quot;</td><td>&quot;dbSNP ID (i.e. rs number)&quot;</td></tr><tr><td>&quot;SCIDN&quot;</td><td>&quot;String&quot;</td><td>&quot;ClinVar&#x27;s preferred disease name for the concept specified by disease identifiers in SCIDISDB&quot;</td></tr><tr><td>&quot;SCIDNINCL&quot;</td><td>&quot;String&quot;</td><td>&quot;For included variant: ClinVar&#x27;s preferred disease name for the concept specified by disease identifiers in SCIDISDBINCL&quot;</td></tr><tr><td>&quot;SCIDISDB&quot;</td><td>&quot;String&quot;</td><td>&quot;Tag-value pairs of disease database name and identifier submitted for somatic clinial impact classifications, e.g. MedGen:NNNNNN&quot;</td></tr><tr><td>&quot;SCIDISDBINCL&quot;</td><td>&quot;String&quot;</td><td>&quot;For included variant: Tag-value pairs of disease database name and identifier for somatic clinical impact classifications, e.g. OMIM:NNNNNN&quot;</td></tr><tr><td>&quot;SCIREVSTAT&quot;</td><td>&quot;String&quot;</td><td>&quot;ClinVar review status of somatic clinical impact for the Variation ID&quot;</td></tr><tr><td>&quot;SCI&quot;</td><td>&quot;String&quot;</td><td>&quot;Aggregate somatic clinical impact for this single variant; multiple values are separated by a vertical bar&quot;</td></tr><tr><td>&quot;SCIINCL&quot;</td><td>&quot;String&quot;</td><td>&quot;Somatic clinical impact classification for a haplotype or genotype that includes this variant. Reported as pairs of VariationID:classification; multiple values are separated by a vertical bar&quot;</td></tr><tr><td>&quot;SCISCV&quot;</td><td>&quot;String&quot;</td><td>&quot;SCV accession numbers for the submissions that contribute to the aggregate somatic clinical impact in ClinVar; multiple values are separated by a vertical bar&quot;</td></tr></tbody></table></div>"
      ],
      "text/plain": [
       "shape: (39, 3)\n",
       "┌──────────────┬─────────┬────────────────────────────────────────────────────────────────────────────────────────────────────────────────────────────────────────────────────────────────────────────────────────────────────────────────────────────────────────────────────────────────────────┐\n",
       "│ name         ┆ type    ┆ description                                                                                                                                                                                                                                                            │\n",
       "│ ---          ┆ ---     ┆ ---                                                                                                                                                                                                                                                                    │\n",
       "│ str          ┆ str     ┆ str                                                                                                                                                                                                                                                                    │\n",
       "╞══════════════╪═════════╪════════════════════════════════════════════════════════════════════════════════════════════════════════════════════════════════════════════════════════════════════════════════════════════════════════════════════════════════════════════════════════════════════════╡\n",
       "│ AF_ESP       ┆ Float   ┆ allele frequencies from GO-ESP                                                                                                                                                                                                                                         │\n",
       "│ AF_EXAC      ┆ Float   ┆ allele frequencies from ExAC                                                                                                                                                                                                                                           │\n",
       "│ AF_TGP       ┆ Float   ┆ allele frequencies from TGP                                                                                                                                                                                                                                            │\n",
       "│ ALLELEID     ┆ Integer ┆ the ClinVar Allele ID                                                                                                                                                                                                                                                  │\n",
       "│ CLNDN        ┆ String  ┆ ClinVar's preferred disease name for the concept specified by disease identifiers in CLNDISDB                                                                                                                                                                          │\n",
       "│ CLNDNINCL    ┆ String  ┆ For included Variant : ClinVar's preferred disease name for the concept specified by disease identifiers in CLNDISDB                                                                                                                                                   │\n",
       "│ CLNDISDB     ┆ String  ┆ Tag-value pairs of disease database name and identifier submitted for germline classifications, e.g. OMIM:NNNNNN                                                                                                                                                       │\n",
       "│ CLNDISDBINCL ┆ String  ┆ For included Variant: Tag-value pairs of disease database name and identifier for germline classifications, e.g. OMIM:NNNNNN                                                                                                                                           │\n",
       "│ CLNHGVS      ┆ String  ┆ Top-level (primary assembly, alt, or patch) HGVS expression.                                                                                                                                                                                                           │\n",
       "│ CLNREVSTAT   ┆ String  ┆ ClinVar review status of germline classification for the Variation ID                                                                                                                                                                                                  │\n",
       "│ CLNSIG       ┆ String  ┆ Aggregate germline classification for this single variant; multiple values are separated by a vertical bar                                                                                                                                                             │\n",
       "│ CLNSIGCONF   ┆ String  ┆ Conflicting germline classification for this single variant; multiple values are separated by a vertical bar                                                                                                                                                           │\n",
       "│ CLNSIGINCL   ┆ String  ┆ Germline classification for a haplotype or genotype that includes this variant. Reported as pairs of VariationID:classification; multiple values are separated by a vertical bar                                                                                       │\n",
       "│ CLNSIGSCV    ┆ String  ┆ SCV accession numbers for the submissions that contribute to the aggregate germline classification in ClinVar; multiple values are separated by a vertical bar                                                                                                         │\n",
       "│ CLNVC        ┆ String  ┆ Variant type                                                                                                                                                                                                                                                           │\n",
       "│ CLNVCSO      ┆ String  ┆ Sequence Ontology id for variant type                                                                                                                                                                                                                                  │\n",
       "│ CLNVI        ┆ String  ┆ the variant's clinical sources reported as tag-value pairs of database and variant identifier                                                                                                                                                                          │\n",
       "│ DBVARID      ┆ String  ┆ nsv accessions from dbVar for the variant                                                                                                                                                                                                                              │\n",
       "│ GENEINFO     ┆ String  ┆ Gene(s) for the variant reported as gene symbol:gene id. The gene symbol and id are delimited by a colon (:) and each pair is delimited by a vertical bar (|)                                                                                                          │\n",
       "│ MC           ┆ String  ┆ comma separated list of molecular consequence in the form of Sequence Ontology ID|molecular_consequence                                                                                                                                                                │\n",
       "│ ONCDN        ┆ String  ┆ ClinVar's preferred disease name for the concept specified by disease identifiers in ONCDISDB                                                                                                                                                                          │\n",
       "│ ONCDNINCL    ┆ String  ┆ For included variant: ClinVar's preferred disease name for the concept specified by disease identifiers in ONCDISDBINCL                                                                                                                                                │\n",
       "│ ONCDISDB     ┆ String  ┆ Tag-value pairs of disease database name and identifier submitted for oncogenicity classifications, e.g. MedGen:NNNNNN                                                                                                                                                 │\n",
       "│ ONCDISDBINCL ┆ String  ┆ For included variant: Tag-value pairs of disease database name and identifier for oncogenicity classifications, e.g. OMIM:NNNNNN                                                                                                                                       │\n",
       "│ ONC          ┆ String  ┆ Aggregate oncogenicity classification for this single variant; multiple values are separated by a vertical bar                                                                                                                                                         │\n",
       "│ ONCINCL      ┆ String  ┆ Oncogenicity classification for a haplotype or genotype that includes this variant. Reported as pairs of VariationID:classification; multiple values are separated by a vertical bar                                                                                   │\n",
       "│ ONCREVSTAT   ┆ String  ┆ ClinVar review status of oncogenicity classification for the Variation ID                                                                                                                                                                                              │\n",
       "│ ONCSCV       ┆ String  ┆ SCV accession numbers for the submissions that contribute to the aggregate oncogenicity classification in ClinVar; multiple values are separated by a vertical bar                                                                                                     │\n",
       "│ ONCCONF      ┆ String  ┆ Conflicting oncogenicity classification for this single variant; multiple values are separated by a vertical bar                                                                                                                                                       │\n",
       "│ ORIGIN       ┆ String  ┆ Allele origin. One or more of the following values may be added: 0 - unknown; 1 - germline; 2 - somatic; 4 - inherited; 8 - paternal; 16 - maternal; 32 - de-novo; 64 - biparental; 128 - uniparental; 256 - not-tested; 512 - tested-inconclusive; 1073741824 - other │\n",
       "│ RS           ┆ String  ┆ dbSNP ID (i.e. rs number)                                                                                                                                                                                                                                              │\n",
       "│ SCIDN        ┆ String  ┆ ClinVar's preferred disease name for the concept specified by disease identifiers in SCIDISDB                                                                                                                                                                          │\n",
       "│ SCIDNINCL    ┆ String  ┆ For included variant: ClinVar's preferred disease name for the concept specified by disease identifiers in SCIDISDBINCL                                                                                                                                                │\n",
       "│ SCIDISDB     ┆ String  ┆ Tag-value pairs of disease database name and identifier submitted for somatic clinial impact classifications, e.g. MedGen:NNNNNN                                                                                                                                       │\n",
       "│ SCIDISDBINCL ┆ String  ┆ For included variant: Tag-value pairs of disease database name and identifier for somatic clinical impact classifications, e.g. OMIM:NNNNNN                                                                                                                            │\n",
       "│ SCIREVSTAT   ┆ String  ┆ ClinVar review status of somatic clinical impact for the Variation ID                                                                                                                                                                                                  │\n",
       "│ SCI          ┆ String  ┆ Aggregate somatic clinical impact for this single variant; multiple values are separated by a vertical bar                                                                                                                                                             │\n",
       "│ SCIINCL      ┆ String  ┆ Somatic clinical impact classification for a haplotype or genotype that includes this variant. Reported as pairs of VariationID:classification; multiple values are separated by a vertical bar                                                                        │\n",
       "│ SCISCV       ┆ String  ┆ SCV accession numbers for the submissions that contribute to the aggregate somatic clinical impact in ClinVar; multiple values are separated by a vertical bar                                                                                                         │\n",
       "└──────────────┴─────────┴────────────────────────────────────────────────────────────────────────────────────────────────────────────────────────────────────────────────────────────────────────────────────────────────────────────────────────────────────────────────────────────────────────┘"
      ]
     },
     "execution_count": 21,
     "metadata": {},
     "output_type": "execute_result"
    }
   ],
   "source": [
    "pb.describe_vcf(str(clinvar_vcf))"
   ]
  },
  {
   "cell_type": "code",
   "execution_count": null,
   "id": "ba4df349",
   "metadata": {},
   "outputs": [
    {
     "ename": "NameError",
     "evalue": "name 'sample_small_vcf' is not defined",
     "output_type": "error",
     "traceback": [
      "\u001b[31m---------------------------------------------------------------------------\u001b[39m",
      "\u001b[31mNameError\u001b[39m                                 Traceback (most recent call last)",
      "\u001b[36mCell\u001b[39m\u001b[36m \u001b[39m\u001b[32mIn[22]\u001b[39m\u001b[32m, line 2\u001b[39m\n\u001b[32m      1\u001b[39m \u001b[38;5;66;03m# Test the function with both regular and gzipped VCF files\u001b[39;00m\n\u001b[32m----> \u001b[39m\u001b[32m2\u001b[39m sample_small = read_vcf_file(\u001b[43msample_small_vcf\u001b[49m)\n",
      "\u001b[31mNameError\u001b[39m: name 'sample_small_vcf' is not defined"
     ]
    }
   ],
   "source": [
    "# Test the function with both regular and gzipped VCF files\n",
    "sample_small = read_vcf_file(sample_small_vcf)"
   ]
  },
  {
   "cell_type": "code",
   "execution_count": null,
   "id": "3355d0cf",
   "metadata": {},
   "outputs": [
    {
     "name": "stdout",
     "output_type": "stream",
     "text": [
      "test\n",
      "\tlongevity_snps_1000genom.vcf.gz\n",
      "\tantonkulaga.vcf\n",
      "\tantku_small.vcf\n",
      "\tlongevity_snps_1000genom.vcf\n"
     ]
    }
   ],
   "source": [
    "data_folder = Path(\"../data\").absolute().resolve()\n",
    "test_folder = data_folder / \"test\"\n",
    "\n",
    "files.tprint(test_folder)\n"
   ]
  },
  {
   "cell_type": "markdown",
   "id": "fa5fb41a",
   "metadata": {},
   "source": [
    "## Samples\n",
    "\n",
    "Loading samples"
   ]
  },
  {
   "cell_type": "code",
   "execution_count": null,
   "id": "0892fb40",
   "metadata": {},
   "outputs": [
    {
     "data": {
      "text/html": [
       "<div><style>\n",
       ".dataframe > thead > tr,\n",
       ".dataframe > tbody > tr {\n",
       "  text-align: right;\n",
       "  white-space: pre-wrap;\n",
       "}\n",
       "</style>\n",
       "<small>shape: (5, 8)</small><table border=\"1\" class=\"dataframe\"><thead><tr><th>chrom</th><th>start</th><th>end</th><th>id</th><th>ref</th><th>alt</th><th>qual</th><th>filter</th></tr><tr><td>str</td><td>u32</td><td>u32</td><td>str</td><td>str</td><td>str</td><td>f64</td><td>str</td></tr></thead><tbody><tr><td>&quot;1&quot;</td><td>10009</td><td>10009</td><td>&quot;&quot;</td><td>&quot;A&quot;</td><td>&quot;AC&quot;</td><td>0.0</td><td>&quot;RefCall&quot;</td></tr><tr><td>&quot;1&quot;</td><td>10015</td><td>10015</td><td>&quot;&quot;</td><td>&quot;A&quot;</td><td>&quot;G&quot;</td><td>0.0</td><td>&quot;RefCall&quot;</td></tr><tr><td>&quot;1&quot;</td><td>10021</td><td>10021</td><td>&quot;&quot;</td><td>&quot;A&quot;</td><td>&quot;G&quot;</td><td>0.0</td><td>&quot;RefCall&quot;</td></tr><tr><td>&quot;1&quot;</td><td>10027</td><td>10027</td><td>&quot;&quot;</td><td>&quot;A&quot;</td><td>&quot;G&quot;</td><td>0.0</td><td>&quot;RefCall&quot;</td></tr><tr><td>&quot;1&quot;</td><td>10033</td><td>10033</td><td>&quot;&quot;</td><td>&quot;A&quot;</td><td>&quot;G&quot;</td><td>0.0</td><td>&quot;RefCall&quot;</td></tr></tbody></table></div>"
      ],
      "text/plain": [
       "shape: (5, 8)\n",
       "┌───────┬───────┬───────┬─────┬─────┬─────┬──────┬─────────┐\n",
       "│ chrom ┆ start ┆ end   ┆ id  ┆ ref ┆ alt ┆ qual ┆ filter  │\n",
       "│ ---   ┆ ---   ┆ ---   ┆ --- ┆ --- ┆ --- ┆ ---  ┆ ---     │\n",
       "│ str   ┆ u32   ┆ u32   ┆ str ┆ str ┆ str ┆ f64  ┆ str     │\n",
       "╞═══════╪═══════╪═══════╪═════╪═════╪═════╪══════╪═════════╡\n",
       "│ 1     ┆ 10009 ┆ 10009 ┆     ┆ A   ┆ AC  ┆ 0.0  ┆ RefCall │\n",
       "│ 1     ┆ 10015 ┆ 10015 ┆     ┆ A   ┆ G   ┆ 0.0  ┆ RefCall │\n",
       "│ 1     ┆ 10021 ┆ 10021 ┆     ┆ A   ┆ G   ┆ 0.0  ┆ RefCall │\n",
       "│ 1     ┆ 10027 ┆ 10027 ┆     ┆ A   ┆ G   ┆ 0.0  ┆ RefCall │\n",
       "│ 1     ┆ 10033 ┆ 10033 ┆     ┆ A   ┆ G   ┆ 0.0  ┆ RefCall │\n",
       "└───────┴───────┴───────┴─────┴─────┴─────┴──────┴─────────┘"
      ]
     },
     "execution_count": 72,
     "metadata": {},
     "output_type": "execute_result"
    }
   ],
   "source": [
    "sample_antku = pb.scan_vcf(str(test_folder / \"antku_small.vcf\"))\n",
    "sample_antonkulaga = pb.scan_vcf(str(test_folder / \"antonkulaga.vcf\"))\n",
    "sample_antku.head().collect()"
   ]
  },
  {
   "cell_type": "code",
   "execution_count": null,
   "id": "dc32b365",
   "metadata": {},
   "outputs": [
    {
     "name": "stderr",
     "output_type": "stream",
     "text": [
      "793rows [00:00, 750300.72rows/s]\n"
     ]
    },
    {
     "data": {
      "text/html": [
       "<div><style>\n",
       ".dataframe > thead > tr,\n",
       ".dataframe > tbody > tr {\n",
       "  text-align: right;\n",
       "  white-space: pre-wrap;\n",
       "}\n",
       "</style>\n",
       "<small>shape: (1, 8)</small><table border=\"1\" class=\"dataframe\"><thead><tr><th>chrom</th><th>start</th><th>end</th><th>id</th><th>ref</th><th>alt</th><th>qual</th><th>filter</th></tr><tr><td>u32</td><td>u32</td><td>u32</td><td>u32</td><td>u32</td><td>u32</td><td>u32</td><td>u32</td></tr></thead><tbody><tr><td>793</td><td>793</td><td>793</td><td>793</td><td>793</td><td>793</td><td>793</td><td>793</td></tr></tbody></table></div>"
      ],
      "text/plain": [
       "shape: (1, 8)\n",
       "┌───────┬───────┬─────┬─────┬─────┬─────┬──────┬────────┐\n",
       "│ chrom ┆ start ┆ end ┆ id  ┆ ref ┆ alt ┆ qual ┆ filter │\n",
       "│ ---   ┆ ---   ┆ --- ┆ --- ┆ --- ┆ --- ┆ ---  ┆ ---    │\n",
       "│ u32   ┆ u32   ┆ u32 ┆ u32 ┆ u32 ┆ u32 ┆ u32  ┆ u32    │\n",
       "╞═══════╪═══════╪═════╪═════╪═════╪═════╪══════╪════════╡\n",
       "│ 793   ┆ 793   ┆ 793 ┆ 793 ┆ 793 ┆ 793 ┆ 793  ┆ 793    │\n",
       "└───────┴───────┴─────┴─────┴─────┴─────┴──────┴────────┘"
      ]
     },
     "execution_count": 75,
     "metadata": {},
     "output_type": "execute_result"
    }
   ],
   "source": [
    "sample_antku.count().collect()"
   ]
  },
  {
   "cell_type": "code",
   "execution_count": null,
   "id": "d4358e0f",
   "metadata": {},
   "outputs": [
    {
     "name": "stderr",
     "output_type": "stream",
     "text": [
      "6079744rows [00:04, 1414880.55rows/s]\n"
     ]
    },
    {
     "data": {
      "text/html": [
       "<div><style>\n",
       ".dataframe > thead > tr,\n",
       ".dataframe > tbody > tr {\n",
       "  text-align: right;\n",
       "  white-space: pre-wrap;\n",
       "}\n",
       "</style>\n",
       "<small>shape: (1, 8)</small><table border=\"1\" class=\"dataframe\"><thead><tr><th>chrom</th><th>start</th><th>end</th><th>id</th><th>ref</th><th>alt</th><th>qual</th><th>filter</th></tr><tr><td>u32</td><td>u32</td><td>u32</td><td>u32</td><td>u32</td><td>u32</td><td>u32</td><td>u32</td></tr></thead><tbody><tr><td>6079744</td><td>6079744</td><td>6079744</td><td>6079744</td><td>6079744</td><td>6079744</td><td>6079744</td><td>6079744</td></tr></tbody></table></div>"
      ],
      "text/plain": [
       "shape: (1, 8)\n",
       "┌─────────┬─────────┬─────────┬─────────┬─────────┬─────────┬─────────┬─────────┐\n",
       "│ chrom   ┆ start   ┆ end     ┆ id      ┆ ref     ┆ alt     ┆ qual    ┆ filter  │\n",
       "│ ---     ┆ ---     ┆ ---     ┆ ---     ┆ ---     ┆ ---     ┆ ---     ┆ ---     │\n",
       "│ u32     ┆ u32     ┆ u32     ┆ u32     ┆ u32     ┆ u32     ┆ u32     ┆ u32     │\n",
       "╞═════════╪═════════╪═════════╪═════════╪═════════╪═════════╪═════════╪═════════╡\n",
       "│ 6079744 ┆ 6079744 ┆ 6079744 ┆ 6079744 ┆ 6079744 ┆ 6079744 ┆ 6079744 ┆ 6079744 │\n",
       "└─────────┴─────────┴─────────┴─────────┴─────────┴─────────┴─────────┴─────────┘"
      ]
     },
     "execution_count": 76,
     "metadata": {},
     "output_type": "execute_result"
    }
   ],
   "source": [
    "sample_antonkulaga.count().collect()"
   ]
  },
  {
   "cell_type": "code",
   "execution_count": null,
   "id": "de4f0f71",
   "metadata": {},
   "outputs": [],
   "source": [
    "# Let's examine the ALT column structure first\n",
    "# Look at some data to understand the pipe-separated ALT values\n",
    "sample_data = sample_antku.head(50).collect()\n",
    "print(\"Sample data columns:\", sample_data.columns)\n",
    "print(\"\\nFirst few rows:\")\n",
    "print(sample_data.select([\"chrom\", \"pos\", \"ref\", \"alt\"]).head(10))\n",
    "\n",
    "# Check for pipe-separated ALT alleles\n",
    "alt_with_pipes = sample_data.filter(pl.col(\"alt\").str.contains(r\"\\|\")).select(\"alt\")\n",
    "print(f\"\\nALT values with pipes: {alt_with_pipes.height}\")\n",
    "if alt_with_pipes.height > 0:\n",
    "    print(\"Examples:\")\n",
    "    print(alt_with_pipes.head(5))\n"
   ]
  },
  {
   "cell_type": "code",
   "execution_count": null,
   "id": "7dd3c60d",
   "metadata": {},
   "outputs": [],
   "source": [
    "# Polars code to flatmap pipe-separated ALT alleles into separate rows\n",
    "import polars as pl\n",
    "\n",
    "def flatmap_alt_alleles(df: pl.LazyFrame, alt_column: str = \"alt\", separator: str = \"|\") -> pl.LazyFrame:\n",
    "    \"\"\"\n",
    "    Flatmap pipe-separated ALT alleles into separate rows.\n",
    "    \n",
    "    Args:\n",
    "        df: Input LazyFrame with pipe-separated ALT alleles\n",
    "        alt_column: Name of the ALT column (default: \"alt\")\n",
    "        separator: Separator used in ALT field (default: \"|\")\n",
    "    \n",
    "    Returns:\n",
    "        LazyFrame with each ALT allele in a separate row\n",
    "    \"\"\"\n",
    "    return (\n",
    "        df\n",
    "        .with_columns(\n",
    "            # Split the ALT column on the separator\n",
    "            pl.col(alt_column).str.split(separator).alias(f\"{alt_column}_split\")\n",
    "        )\n",
    "        .explode(f\"{alt_column}_split\")  # Explode to create separate rows\n",
    "        .drop(alt_column)  # Remove original ALT column\n",
    "        .rename({f\"{alt_column}_split\": alt_column})  # Rename back to original column name\n",
    "        .filter(pl.col(alt_column).str.len() > 0)  # Remove empty strings\n",
    "    )\n",
    "\n",
    "# Example usage with sample data\n",
    "# Let's create a test DataFrame with pipe-separated ALT alleles\n",
    "test_data = pl.DataFrame({\n",
    "    \"chrom\": [\"chr1\", \"chr1\", \"chr2\", \"chr3\"],\n",
    "    \"pos\": [1000, 2000, 3000, 4000],\n",
    "    \"ref\": [\"A\", \"G\", \"T\", \"C\"],\n",
    "    \"alt\": [\"T|C\", \"A\", \"G|A|C\", \"T|G\"],\n",
    "    \"quality\": [30, 25, 40, 35]\n",
    "})\n",
    "\n",
    "print(\"Original data:\")\n",
    "print(test_data)\n",
    "print(\"\\nAfter flatmapping ALT alleles:\")\n",
    "result = flatmap_alt_alleles(test_data.lazy()).collect()\n",
    "print(result)\n"
   ]
  },
  {
   "cell_type": "code",
   "execution_count": null,
   "id": "e383c83b",
   "metadata": {},
   "outputs": [],
   "source": [
    "# Alternative approach: Handle both comma and pipe separators\n",
    "def flatmap_alt_alleles_flexible(df: pl.LazyFrame, alt_column: str = \"alt\") -> pl.LazyFrame:\n",
    "    \"\"\"\n",
    "    Flatmap ALT alleles with flexible separator detection (handles both , and |).\n",
    "    \n",
    "    Args:\n",
    "        df: Input LazyFrame with separated ALT alleles\n",
    "        alt_column: Name of the ALT column (default: \"alt\")\n",
    "    \n",
    "    Returns:\n",
    "        LazyFrame with each ALT allele in a separate row\n",
    "    \"\"\"\n",
    "    return (\n",
    "        df\n",
    "        .with_columns(\n",
    "            # First replace pipes with commas, then split on commas\n",
    "            pl.col(alt_column)\n",
    "            .str.replace_all(r\"\\|\", \",\")\n",
    "            .str.split(\",\")\n",
    "            .alias(f\"{alt_column}_split\")\n",
    "        )\n",
    "        .explode(f\"{alt_column}_split\")\n",
    "        .drop(alt_column)\n",
    "        .rename({f\"{alt_column}_split\": alt_column})\n",
    "        .filter(pl.col(alt_column).str.len() > 0)  # Remove empty strings\n",
    "        .with_columns(\n",
    "            pl.col(alt_column).str.strip_chars()  # Remove any whitespace\n",
    "        )\n",
    "    )\n",
    "\n",
    "# Test with mixed separators\n",
    "mixed_data = pl.DataFrame({\n",
    "    \"chrom\": [\"chr1\", \"chr1\", \"chr2\", \"chr3\", \"chr4\"],\n",
    "    \"pos\": [1000, 2000, 3000, 4000, 5000],\n",
    "    \"ref\": [\"A\", \"G\", \"T\", \"C\", \"A\"],\n",
    "    \"alt\": [\"T|C\", \"A,G\", \"G|A|C\", \"T,G\", \"C\"],\n",
    "    \"quality\": [30, 25, 40, 35, 45]\n",
    "})\n",
    "\n",
    "print(\"Mixed separator data:\")\n",
    "print(mixed_data)\n",
    "print(\"\\nAfter flexible flatmapping:\")\n",
    "flexible_result = flatmap_alt_alleles_flexible(mixed_data.lazy()).collect()\n",
    "print(flexible_result)\n"
   ]
  },
  {
   "cell_type": "code",
   "execution_count": null,
   "id": "68a1cf34",
   "metadata": {},
   "outputs": [],
   "source": [
    "# Advanced version: Preserve original row info and add allele index\n",
    "def flatmap_alt_alleles_with_index(df: pl.LazyFrame, alt_column: str = \"alt\", separator: str = \"|\") -> pl.LazyFrame:\n",
    "    \"\"\"\n",
    "    Flatmap ALT alleles while preserving original row information and adding allele index.\n",
    "    \n",
    "    Args:\n",
    "        df: Input LazyFrame with separated ALT alleles\n",
    "        alt_column: Name of the ALT column (default: \"alt\")\n",
    "        separator: Separator used in ALT field (default: \"|\")\n",
    "    \n",
    "    Returns:\n",
    "        LazyFrame with each ALT allele in a separate row, including original_row_id and allele_index\n",
    "    \"\"\"\n",
    "    return (\n",
    "        df\n",
    "        .with_row_index(\"original_row_id\")  # Add original row ID\n",
    "        .with_columns(\n",
    "            pl.col(alt_column).str.split(separator).alias(f\"{alt_column}_split\")\n",
    "        )\n",
    "        .explode(f\"{alt_column}_split\")\n",
    "        .with_columns(\n",
    "            # Add allele index within each original row\n",
    "            pl.int_range(pl.len()).over(\"original_row_id\").alias(\"allele_index\")\n",
    "        )\n",
    "        .drop(alt_column)\n",
    "        .rename({f\"{alt_column}_split\": alt_column})\n",
    "        .filter(pl.col(alt_column).str.len() > 0)\n",
    "    )\n",
    "\n",
    "# Test with the advanced version\n",
    "print(\"Advanced version with row ID and allele index:\")\n",
    "advanced_result = flatmap_alt_alleles_with_index(test_data.lazy()).collect()\n",
    "print(advanced_result)\n",
    "\n",
    "# Show how many alleles each original row had\n",
    "allele_counts = (\n",
    "    advanced_result\n",
    "    .group_by(\"original_row_id\")\n",
    "    .agg(\n",
    "        pl.col(\"allele_index\").max().alias(\"max_allele_index\"),\n",
    "        pl.col(\"alt\").count().alias(\"allele_count\"),\n",
    "        pl.col(\"alt\").alias(\"alleles\")\n",
    "    )\n",
    "    .sort(\"original_row_id\")\n",
    ")\n",
    "print(\"\\nAllele counts per original row:\")\n",
    "print(allele_counts)\n"
   ]
  },
  {
   "cell_type": "code",
   "execution_count": null,
   "id": "399a18bf",
   "metadata": {},
   "outputs": [],
   "source": [
    "# Practical example: Apply to your actual VCF data\n",
    "def process_vcf_with_alt_splitting(vcf_lazy_frame: pl.LazyFrame) -> pl.LazyFrame:\n",
    "    \"\"\"\n",
    "    Process a VCF LazyFrame to split pipe-separated ALT alleles.\n",
    "    Designed to work with genobear VCF reading functions.\n",
    "    \n",
    "    Args:\n",
    "        vcf_lazy_frame: LazyFrame from VCF file (e.g., from gb.read_vcf_file)\n",
    "    \n",
    "    Returns:\n",
    "        LazyFrame with exploded ALT alleles\n",
    "    \"\"\"\n",
    "    # Check if the DataFrame has the expected VCF columns\n",
    "    schema = vcf_lazy_frame.collect_schema()\n",
    "    alt_col = None\n",
    "    \n",
    "    # Find the ALT column (could be 'alt', 'ALT', etc.)\n",
    "    for col_name in schema.names():\n",
    "        if col_name.lower() == 'alt':\n",
    "            alt_col = col_name\n",
    "            break\n",
    "    \n",
    "    if alt_col is None:\n",
    "        raise ValueError(\"No ALT column found in the VCF data\")\n",
    "    \n",
    "    return flatmap_alt_alleles_flexible(vcf_lazy_frame, alt_column=alt_col)\n",
    "\n",
    "# Example of how to use with your actual data:\n",
    "print(\"Usage examples:\")\n",
    "print(\"1. Basic flatmapping:\")\n",
    "print(\"   result = flatmap_alt_alleles(your_vcf_lazy_frame)\")\n",
    "print()\n",
    "print(\"2. Flexible separator handling (comma and pipe):\")\n",
    "print(\"   result = flatmap_alt_alleles_flexible(your_vcf_lazy_frame)\")\n",
    "print()\n",
    "print(\"3. With row tracking:\")\n",
    "print(\"   result = flatmap_alt_alleles_with_index(your_vcf_lazy_frame)\")\n",
    "print()\n",
    "print(\"4. For VCF data specifically:\")\n",
    "print(\"   result = process_vcf_with_alt_splitting(your_vcf_lazy_frame)\")\n",
    "\n",
    "# Real-world usage pattern:\n",
    "usage_code = '''\n",
    "# Load VCF file\n",
    "vcf_data = gb.read_vcf_file(\"your_file.vcf\")\n",
    "\n",
    "# Split ALT alleles into separate rows\n",
    "split_data = flatmap_alt_alleles_flexible(vcf_data)\n",
    "\n",
    "# Collect results\n",
    "result = split_data.collect()\n",
    "'''\n",
    "\n",
    "print(f\"\\nReal-world usage pattern:\\n{usage_code}\")\n"
   ]
  },
  {
   "cell_type": "markdown",
   "id": "29a525e1",
   "metadata": {},
   "source": []
  }
 ],
 "metadata": {
  "kernelspec": {
   "display_name": ".venv",
   "language": "python",
   "name": "python3"
  },
  "language_info": {
   "codemirror_mode": {
    "name": "ipython",
    "version": 3
   },
   "file_extension": ".py",
   "mimetype": "text/x-python",
   "name": "python",
   "nbconvert_exporter": "python",
   "pygments_lexer": "ipython3",
   "version": "3.13.5"
  }
 },
 "nbformat": 4,
 "nbformat_minor": 5
}

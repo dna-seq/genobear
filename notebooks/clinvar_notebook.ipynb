{
 "cells": [
  {
   "cell_type": "markdown",
   "id": "27fe0aa7",
   "metadata": {},
   "source": [
    "# Clinvar exploration notebook\n",
    "\n"
   ]
  },
  {
   "cell_type": "code",
   "execution_count": 35,
   "id": "9c24ed84",
   "metadata": {},
   "outputs": [],
   "source": [
    "import polars as pl\n",
    "import polars_bio as pb\n",
    "from pathlib import Path\n",
    "from pycomfort import files"
   ]
  },
  {
   "cell_type": "code",
   "execution_count": 32,
   "id": "3ddda65b",
   "metadata": {},
   "outputs": [
    {
     "data": {
      "text/plain": [
       "polars.config.Config"
      ]
     },
     "execution_count": 32,
     "metadata": {},
     "output_type": "execute_result"
    }
   ],
   "source": [
    "# Configure Polars to show more rows and columns\n",
    "pl.Config.set_tbl_rows(-1)  # Show all rows (or use a large number like 1000)\n",
    "pl.Config.set_tbl_cols(-1)  # Show all columns (or use a large number like 50)\n",
    "pl.Config.set_tbl_width_chars(1000)  # Increase table width to prevent column truncation\n",
    "pl.Config.set_fmt_str_lengths(1000)  # Show longer string values without truncation"
   ]
  },
  {
   "cell_type": "code",
   "execution_count": 33,
   "id": "f243b8fd",
   "metadata": {},
   "outputs": [
    {
     "name": "stdout",
     "output_type": "stream",
     "text": [
      "/home/antonkulaga/sources/genobear /home/antonkulaga/genobear\n"
     ]
    }
   ],
   "source": [
    "\n",
    "from pathlib import Path\n",
    "\n",
    "genobear_folder = (Path.home() / \"genobear\").absolute().resolve()\n",
    "current_folder = Path.cwd().absolute().resolve()\n",
    "if current_folder.name == \"notebooks\":\n",
    "    current_folder = current_folder.parent\n",
    "\n",
    "print(current_folder, genobear_folder)"
   ]
  },
  {
   "cell_type": "code",
   "execution_count": 34,
   "id": "f8f21a15",
   "metadata": {},
   "outputs": [],
   "source": [
    "import genobear as gb\n"
   ]
  },
  {
   "cell_type": "markdown",
   "id": "ab275576",
   "metadata": {},
   "source": [
    "Clinvar descriptions\n",
    "===================="
   ]
  },
  {
   "cell_type": "code",
   "execution_count": 28,
   "id": "8ab47599",
   "metadata": {},
   "outputs": [],
   "source": [
    "clinvar_folder= genobear_folder / \"databases\" / \"clinvar\"\n",
    "clinvar_vcf_gz = clinvar_folder / \"hg38\" / \"clinvar.vcf.gz\"\n",
    "clinvar_vcf = clinvar_folder / \"hg38\" / \"clinvar.vcf\"\n",
    "\n",
    "assert clinvar_vcf.exists(), f\"Clinvar VCF file {clinvar_vcf} does not exist\"\n",
    "\n",
    "clinvar_parquet = clinvar_folder / \"clinvar_hg38.parquet\""
   ]
  },
  {
   "cell_type": "code",
   "execution_count": 29,
   "id": "f14edd09",
   "metadata": {},
   "outputs": [
    {
     "data": {
      "text/html": [
       "<div><style>\n",
       ".dataframe > thead > tr,\n",
       ".dataframe > tbody > tr {\n",
       "  text-align: right;\n",
       "  white-space: pre-wrap;\n",
       "}\n",
       "</style>\n",
       "<small>shape: (39, 3)</small><table border=\"1\" class=\"dataframe\"><thead><tr><th>name</th><th>type</th><th>description</th></tr><tr><td>str</td><td>str</td><td>str</td></tr></thead><tbody><tr><td>&quot;AF_ESP&quot;</td><td>&quot;Float&quot;</td><td>&quot;allele frequencies from GO-ESP&quot;</td></tr><tr><td>&quot;AF_EXAC&quot;</td><td>&quot;Float&quot;</td><td>&quot;allele frequencies from ExAC&quot;</td></tr><tr><td>&quot;AF_TGP&quot;</td><td>&quot;Float&quot;</td><td>&quot;allele frequencies from TGP&quot;</td></tr><tr><td>&quot;ALLELEID&quot;</td><td>&quot;Integer&quot;</td><td>&quot;the ClinVar Allele ID&quot;</td></tr><tr><td>&quot;CLNDN&quot;</td><td>&quot;String&quot;</td><td>&quot;ClinVar&#x27;s preferred disease name for the concept specified by disease identifiers in CLNDISDB&quot;</td></tr><tr><td>&quot;CLNDNINCL&quot;</td><td>&quot;String&quot;</td><td>&quot;For included Variant : ClinVar&#x27;s preferred disease name for the concept specified by disease identifiers in CLNDISDB&quot;</td></tr><tr><td>&quot;CLNDISDB&quot;</td><td>&quot;String&quot;</td><td>&quot;Tag-value pairs of disease database name and identifier submitted for germline classifications, e.g. OMIM:NNNNNN&quot;</td></tr><tr><td>&quot;CLNDISDBINCL&quot;</td><td>&quot;String&quot;</td><td>&quot;For included Variant: Tag-value pairs of disease database name and identifier for germline classifications, e.g. OMIM:NNNNNN&quot;</td></tr><tr><td>&quot;CLNHGVS&quot;</td><td>&quot;String&quot;</td><td>&quot;Top-level (primary assembly, alt, or patch) HGVS expression.&quot;</td></tr><tr><td>&quot;CLNREVSTAT&quot;</td><td>&quot;String&quot;</td><td>&quot;ClinVar review status of germline classification for the Variation ID&quot;</td></tr><tr><td>&quot;CLNSIG&quot;</td><td>&quot;String&quot;</td><td>&quot;Aggregate germline classification for this single variant; multiple values are separated by a vertical bar&quot;</td></tr><tr><td>&quot;CLNSIGCONF&quot;</td><td>&quot;String&quot;</td><td>&quot;Conflicting germline classification for this single variant; multiple values are separated by a vertical bar&quot;</td></tr><tr><td>&quot;CLNSIGINCL&quot;</td><td>&quot;String&quot;</td><td>&quot;Germline classification for a haplotype or genotype that includes this variant. Reported as pairs of VariationID:classification; multiple values are separated by a vertical bar&quot;</td></tr><tr><td>&quot;CLNSIGSCV&quot;</td><td>&quot;String&quot;</td><td>&quot;SCV accession numbers for the submissions that contribute to the aggregate germline classification in ClinVar; multiple values are separated by a vertical bar&quot;</td></tr><tr><td>&quot;CLNVC&quot;</td><td>&quot;String&quot;</td><td>&quot;Variant type&quot;</td></tr><tr><td>&quot;CLNVCSO&quot;</td><td>&quot;String&quot;</td><td>&quot;Sequence Ontology id for variant type&quot;</td></tr><tr><td>&quot;CLNVI&quot;</td><td>&quot;String&quot;</td><td>&quot;the variant&#x27;s clinical sources reported as tag-value pairs of database and variant identifier&quot;</td></tr><tr><td>&quot;DBVARID&quot;</td><td>&quot;String&quot;</td><td>&quot;nsv accessions from dbVar for the variant&quot;</td></tr><tr><td>&quot;GENEINFO&quot;</td><td>&quot;String&quot;</td><td>&quot;Gene(s) for the variant reported as gene symbol:gene id. The gene symbol and id are delimited by a colon (:) and each pair is delimited by a vertical bar (|)&quot;</td></tr><tr><td>&quot;MC&quot;</td><td>&quot;String&quot;</td><td>&quot;comma separated list of molecular consequence in the form of Sequence Ontology ID|molecular_consequence&quot;</td></tr><tr><td>&quot;ONCDN&quot;</td><td>&quot;String&quot;</td><td>&quot;ClinVar&#x27;s preferred disease name for the concept specified by disease identifiers in ONCDISDB&quot;</td></tr><tr><td>&quot;ONCDNINCL&quot;</td><td>&quot;String&quot;</td><td>&quot;For included variant: ClinVar&#x27;s preferred disease name for the concept specified by disease identifiers in ONCDISDBINCL&quot;</td></tr><tr><td>&quot;ONCDISDB&quot;</td><td>&quot;String&quot;</td><td>&quot;Tag-value pairs of disease database name and identifier submitted for oncogenicity classifications, e.g. MedGen:NNNNNN&quot;</td></tr><tr><td>&quot;ONCDISDBINCL&quot;</td><td>&quot;String&quot;</td><td>&quot;For included variant: Tag-value pairs of disease database name and identifier for oncogenicity classifications, e.g. OMIM:NNNNNN&quot;</td></tr><tr><td>&quot;ONC&quot;</td><td>&quot;String&quot;</td><td>&quot;Aggregate oncogenicity classification for this single variant; multiple values are separated by a vertical bar&quot;</td></tr><tr><td>&quot;ONCINCL&quot;</td><td>&quot;String&quot;</td><td>&quot;Oncogenicity classification for a haplotype or genotype that includes this variant. Reported as pairs of VariationID:classification; multiple values are separated by a vertical bar&quot;</td></tr><tr><td>&quot;ONCREVSTAT&quot;</td><td>&quot;String&quot;</td><td>&quot;ClinVar review status of oncogenicity classification for the Variation ID&quot;</td></tr><tr><td>&quot;ONCSCV&quot;</td><td>&quot;String&quot;</td><td>&quot;SCV accession numbers for the submissions that contribute to the aggregate oncogenicity classification in ClinVar; multiple values are separated by a vertical bar&quot;</td></tr><tr><td>&quot;ONCCONF&quot;</td><td>&quot;String&quot;</td><td>&quot;Conflicting oncogenicity classification for this single variant; multiple values are separated by a vertical bar&quot;</td></tr><tr><td>&quot;ORIGIN&quot;</td><td>&quot;String&quot;</td><td>&quot;Allele origin. One or more of the following values may be added: 0 - unknown; 1 - germline; 2 - somatic; 4 - inherited; 8 - paternal; 16 - maternal; 32 - de-novo; 64 - biparental; 128 - uniparental; 256 - not-tested; 512 - tested-inconclusive; 1073741824 - other&quot;</td></tr><tr><td>&quot;RS&quot;</td><td>&quot;String&quot;</td><td>&quot;dbSNP ID (i.e. rs number)&quot;</td></tr><tr><td>&quot;SCIDN&quot;</td><td>&quot;String&quot;</td><td>&quot;ClinVar&#x27;s preferred disease name for the concept specified by disease identifiers in SCIDISDB&quot;</td></tr><tr><td>&quot;SCIDNINCL&quot;</td><td>&quot;String&quot;</td><td>&quot;For included variant: ClinVar&#x27;s preferred disease name for the concept specified by disease identifiers in SCIDISDBINCL&quot;</td></tr><tr><td>&quot;SCIDISDB&quot;</td><td>&quot;String&quot;</td><td>&quot;Tag-value pairs of disease database name and identifier submitted for somatic clinial impact classifications, e.g. MedGen:NNNNNN&quot;</td></tr><tr><td>&quot;SCIDISDBINCL&quot;</td><td>&quot;String&quot;</td><td>&quot;For included variant: Tag-value pairs of disease database name and identifier for somatic clinical impact classifications, e.g. OMIM:NNNNNN&quot;</td></tr><tr><td>&quot;SCIREVSTAT&quot;</td><td>&quot;String&quot;</td><td>&quot;ClinVar review status of somatic clinical impact for the Variation ID&quot;</td></tr><tr><td>&quot;SCI&quot;</td><td>&quot;String&quot;</td><td>&quot;Aggregate somatic clinical impact for this single variant; multiple values are separated by a vertical bar&quot;</td></tr><tr><td>&quot;SCIINCL&quot;</td><td>&quot;String&quot;</td><td>&quot;Somatic clinical impact classification for a haplotype or genotype that includes this variant. Reported as pairs of VariationID:classification; multiple values are separated by a vertical bar&quot;</td></tr><tr><td>&quot;SCISCV&quot;</td><td>&quot;String&quot;</td><td>&quot;SCV accession numbers for the submissions that contribute to the aggregate somatic clinical impact in ClinVar; multiple values are separated by a vertical bar&quot;</td></tr></tbody></table></div>"
      ],
      "text/plain": [
       "shape: (39, 3)\n",
       "┌──────────────┬─────────┬────────────────────────────────────────────────────────────────────────────────────────────────────────────────────────────────────────────────────────────────────────────────────────────────────────────────────────────────────────────────────────────────────────┐\n",
       "│ name         ┆ type    ┆ description                                                                                                                                                                                                                                                            │\n",
       "│ ---          ┆ ---     ┆ ---                                                                                                                                                                                                                                                                    │\n",
       "│ str          ┆ str     ┆ str                                                                                                                                                                                                                                                                    │\n",
       "╞══════════════╪═════════╪════════════════════════════════════════════════════════════════════════════════════════════════════════════════════════════════════════════════════════════════════════════════════════════════════════════════════════════════════════════════════════════════════════╡\n",
       "│ AF_ESP       ┆ Float   ┆ allele frequencies from GO-ESP                                                                                                                                                                                                                                         │\n",
       "│ AF_EXAC      ┆ Float   ┆ allele frequencies from ExAC                                                                                                                                                                                                                                           │\n",
       "│ AF_TGP       ┆ Float   ┆ allele frequencies from TGP                                                                                                                                                                                                                                            │\n",
       "│ ALLELEID     ┆ Integer ┆ the ClinVar Allele ID                                                                                                                                                                                                                                                  │\n",
       "│ CLNDN        ┆ String  ┆ ClinVar's preferred disease name for the concept specified by disease identifiers in CLNDISDB                                                                                                                                                                          │\n",
       "│ CLNDNINCL    ┆ String  ┆ For included Variant : ClinVar's preferred disease name for the concept specified by disease identifiers in CLNDISDB                                                                                                                                                   │\n",
       "│ CLNDISDB     ┆ String  ┆ Tag-value pairs of disease database name and identifier submitted for germline classifications, e.g. OMIM:NNNNNN                                                                                                                                                       │\n",
       "│ CLNDISDBINCL ┆ String  ┆ For included Variant: Tag-value pairs of disease database name and identifier for germline classifications, e.g. OMIM:NNNNNN                                                                                                                                           │\n",
       "│ CLNHGVS      ┆ String  ┆ Top-level (primary assembly, alt, or patch) HGVS expression.                                                                                                                                                                                                           │\n",
       "│ CLNREVSTAT   ┆ String  ┆ ClinVar review status of germline classification for the Variation ID                                                                                                                                                                                                  │\n",
       "│ CLNSIG       ┆ String  ┆ Aggregate germline classification for this single variant; multiple values are separated by a vertical bar                                                                                                                                                             │\n",
       "│ CLNSIGCONF   ┆ String  ┆ Conflicting germline classification for this single variant; multiple values are separated by a vertical bar                                                                                                                                                           │\n",
       "│ CLNSIGINCL   ┆ String  ┆ Germline classification for a haplotype or genotype that includes this variant. Reported as pairs of VariationID:classification; multiple values are separated by a vertical bar                                                                                       │\n",
       "│ CLNSIGSCV    ┆ String  ┆ SCV accession numbers for the submissions that contribute to the aggregate germline classification in ClinVar; multiple values are separated by a vertical bar                                                                                                         │\n",
       "│ CLNVC        ┆ String  ┆ Variant type                                                                                                                                                                                                                                                           │\n",
       "│ CLNVCSO      ┆ String  ┆ Sequence Ontology id for variant type                                                                                                                                                                                                                                  │\n",
       "│ CLNVI        ┆ String  ┆ the variant's clinical sources reported as tag-value pairs of database and variant identifier                                                                                                                                                                          │\n",
       "│ DBVARID      ┆ String  ┆ nsv accessions from dbVar for the variant                                                                                                                                                                                                                              │\n",
       "│ GENEINFO     ┆ String  ┆ Gene(s) for the variant reported as gene symbol:gene id. The gene symbol and id are delimited by a colon (:) and each pair is delimited by a vertical bar (|)                                                                                                          │\n",
       "│ MC           ┆ String  ┆ comma separated list of molecular consequence in the form of Sequence Ontology ID|molecular_consequence                                                                                                                                                                │\n",
       "│ ONCDN        ┆ String  ┆ ClinVar's preferred disease name for the concept specified by disease identifiers in ONCDISDB                                                                                                                                                                          │\n",
       "│ ONCDNINCL    ┆ String  ┆ For included variant: ClinVar's preferred disease name for the concept specified by disease identifiers in ONCDISDBINCL                                                                                                                                                │\n",
       "│ ONCDISDB     ┆ String  ┆ Tag-value pairs of disease database name and identifier submitted for oncogenicity classifications, e.g. MedGen:NNNNNN                                                                                                                                                 │\n",
       "│ ONCDISDBINCL ┆ String  ┆ For included variant: Tag-value pairs of disease database name and identifier for oncogenicity classifications, e.g. OMIM:NNNNNN                                                                                                                                       │\n",
       "│ ONC          ┆ String  ┆ Aggregate oncogenicity classification for this single variant; multiple values are separated by a vertical bar                                                                                                                                                         │\n",
       "│ ONCINCL      ┆ String  ┆ Oncogenicity classification for a haplotype or genotype that includes this variant. Reported as pairs of VariationID:classification; multiple values are separated by a vertical bar                                                                                   │\n",
       "│ ONCREVSTAT   ┆ String  ┆ ClinVar review status of oncogenicity classification for the Variation ID                                                                                                                                                                                              │\n",
       "│ ONCSCV       ┆ String  ┆ SCV accession numbers for the submissions that contribute to the aggregate oncogenicity classification in ClinVar; multiple values are separated by a vertical bar                                                                                                     │\n",
       "│ ONCCONF      ┆ String  ┆ Conflicting oncogenicity classification for this single variant; multiple values are separated by a vertical bar                                                                                                                                                       │\n",
       "│ ORIGIN       ┆ String  ┆ Allele origin. One or more of the following values may be added: 0 - unknown; 1 - germline; 2 - somatic; 4 - inherited; 8 - paternal; 16 - maternal; 32 - de-novo; 64 - biparental; 128 - uniparental; 256 - not-tested; 512 - tested-inconclusive; 1073741824 - other │\n",
       "│ RS           ┆ String  ┆ dbSNP ID (i.e. rs number)                                                                                                                                                                                                                                              │\n",
       "│ SCIDN        ┆ String  ┆ ClinVar's preferred disease name for the concept specified by disease identifiers in SCIDISDB                                                                                                                                                                          │\n",
       "│ SCIDNINCL    ┆ String  ┆ For included variant: ClinVar's preferred disease name for the concept specified by disease identifiers in SCIDISDBINCL                                                                                                                                                │\n",
       "│ SCIDISDB     ┆ String  ┆ Tag-value pairs of disease database name and identifier submitted for somatic clinial impact classifications, e.g. MedGen:NNNNNN                                                                                                                                       │\n",
       "│ SCIDISDBINCL ┆ String  ┆ For included variant: Tag-value pairs of disease database name and identifier for somatic clinical impact classifications, e.g. OMIM:NNNNNN                                                                                                                            │\n",
       "│ SCIREVSTAT   ┆ String  ┆ ClinVar review status of somatic clinical impact for the Variation ID                                                                                                                                                                                                  │\n",
       "│ SCI          ┆ String  ┆ Aggregate somatic clinical impact for this single variant; multiple values are separated by a vertical bar                                                                                                                                                             │\n",
       "│ SCIINCL      ┆ String  ┆ Somatic clinical impact classification for a haplotype or genotype that includes this variant. Reported as pairs of VariationID:classification; multiple values are separated by a vertical bar                                                                        │\n",
       "│ SCISCV       ┆ String  ┆ SCV accession numbers for the submissions that contribute to the aggregate somatic clinical impact in ClinVar; multiple values are separated by a vertical bar                                                                                                         │\n",
       "└──────────────┴─────────┴────────────────────────────────────────────────────────────────────────────────────────────────────────────────────────────────────────────────────────────────────────────────────────────────────────────────────────────────────────────────────────────────────────┘"
      ]
     },
     "execution_count": 29,
     "metadata": {},
     "output_type": "execute_result"
    }
   ],
   "source": [
    "pb.describe_vcf(str(clinvar_vcf))"
   ]
  },
  {
   "cell_type": "code",
   "execution_count": 30,
   "id": "e8807594",
   "metadata": {},
   "outputs": [
    {
     "ename": "AttributeError",
     "evalue": "module 'genobear' has no attribute 'get_info_fields'",
     "output_type": "error",
     "traceback": [
      "\u001b[31m---------------------------------------------------------------------------\u001b[39m",
      "\u001b[31mAttributeError\u001b[39m                            Traceback (most recent call last)",
      "\u001b[36mCell\u001b[39m\u001b[36m \u001b[39m\u001b[32mIn[30]\u001b[39m\u001b[32m, line 1\u001b[39m\n\u001b[32m----> \u001b[39m\u001b[32m1\u001b[39m \u001b[43mgb\u001b[49m\u001b[43m.\u001b[49m\u001b[43mget_info_fields\u001b[49m(\u001b[38;5;28mstr\u001b[39m(clinvar_vcf))\n",
      "\u001b[31mAttributeError\u001b[39m: module 'genobear' has no attribute 'get_info_fields'"
     ]
    }
   ],
   "source": [
    "gb.get_info_fields(str(clinvar_vcf))"
   ]
  },
  {
   "cell_type": "code",
   "execution_count": null,
   "id": "613a423e",
   "metadata": {},
   "outputs": [
    {
     "ename": "AttributeError",
     "evalue": "module 'genobear' has no attribute 'get_info_fields'",
     "output_type": "error",
     "traceback": [
      "\u001b[31m---------------------------------------------------------------------------\u001b[39m\n",
      "\u001b[31mAttributeError\u001b[39m                            Traceback (most recent call last)\n",
      "\u001b[36mCell\u001b[39m\u001b[36m \u001b[39m\u001b[32mIn[30]\u001b[39m\u001b[32m, line 1\u001b[39m\n",
      "\u001b[32m----> \u001b[39m\u001b[32m1\u001b[39m \u001b[43mgb\u001b[49m\u001b[43m.\u001b[49m\u001b[43mget_info_fields\u001b[49m(\u001b[38;5;28mstr\u001b[39m(clinvar_vcf))\n",
      "\n",
      "\u001b[31mAttributeError\u001b[39m: module 'genobear' has no attribute 'get_info_fields'"
     ]
    }
   ],
   "source": [
    "gb.get_info_fields(str(clinvar_vcf))"
   ]
  },
  {
   "cell_type": "code",
   "execution_count": null,
   "id": "10362de9",
   "metadata": {},
   "outputs": [
    {
     "ename": "AttributeError",
     "evalue": "module 'genobear' has no attribute 'get_info_fields'",
     "output_type": "error",
     "traceback": [
      "\u001b[31m---------------------------------------------------------------------------\u001b[39m\n",
      "\u001b[31mAttributeError\u001b[39m                            Traceback (most recent call last)\n",
      "\u001b[36mCell\u001b[39m\u001b[36m \u001b[39m\u001b[32mIn[30]\u001b[39m\u001b[32m, line 1\u001b[39m\n",
      "\u001b[32m----> \u001b[39m\u001b[32m1\u001b[39m \u001b[43mgb\u001b[49m\u001b[43m.\u001b[49m\u001b[43mget_info_fields\u001b[49m(\u001b[38;5;28mstr\u001b[39m(clinvar_vcf))\n",
      "\n",
      "\u001b[31mAttributeError\u001b[39m: module 'genobear' has no attribute 'get_info_fields'"
     ]
    }
   ],
   "source": [
    "gb.get_info_fields(str(clinvar_vcf))"
   ]
  },
  {
   "cell_type": "code",
   "execution_count": 6,
   "id": "53088cc6",
   "metadata": {},
   "outputs": [
    {
     "data": {
      "text/html": [
       "<div><style>\n",
       ".dataframe > thead > tr,\n",
       ".dataframe > tbody > tr {\n",
       "  text-align: right;\n",
       "  white-space: pre-wrap;\n",
       "}\n",
       "</style>\n",
       "<small>shape: (5, 47)</small><table border=\"1\" class=\"dataframe\"><thead><tr><th>chrom</th><th>start</th><th>end</th><th>id</th><th>ref</th><th>alt</th><th>qual</th><th>filter</th><th>af_esp</th><th>af_exac</th><th>af_tgp</th><th>alleleid</th><th>clndn</th><th>clndnincl</th><th>clndisdb</th><th>clndisdbincl</th><th>clnhgvs</th><th>clnrevstat</th><th>clnsig</th><th>clnsigconf</th><th>clnsigincl</th><th>clnsigscv</th><th>clnvc</th><th>clnvcso</th><th>clnvi</th><th>dbvarid</th><th>geneinfo</th><th>mc</th><th>oncdn</th><th>oncdnincl</th><th>oncdisdb</th><th>oncdisdbincl</th><th>onc</th><th>oncincl</th><th>oncrevstat</th><th>oncscv</th><th>oncconf</th><th>origin</th><th>rs</th><th>scidn</th><th>scidnincl</th><th>scidisdb</th><th>scidisdbincl</th><th>scirevstat</th><th>sci</th><th>sciincl</th><th>sciscv</th></tr><tr><td>str</td><td>u32</td><td>u32</td><td>str</td><td>str</td><td>str</td><td>f64</td><td>str</td><td>f32</td><td>f32</td><td>f32</td><td>i32</td><td>list[str]</td><td>list[str]</td><td>list[str]</td><td>list[str]</td><td>list[str]</td><td>list[str]</td><td>list[str]</td><td>list[str]</td><td>list[str]</td><td>list[str]</td><td>str</td><td>str</td><td>list[str]</td><td>list[str]</td><td>str</td><td>list[str]</td><td>list[str]</td><td>list[str]</td><td>list[str]</td><td>list[str]</td><td>list[str]</td><td>list[str]</td><td>list[str]</td><td>list[str]</td><td>list[str]</td><td>list[str]</td><td>list[str]</td><td>list[str]</td><td>list[str]</td><td>list[str]</td><td>list[str]</td><td>list[str]</td><td>list[str]</td><td>list[str]</td><td>list[str]</td></tr></thead><tbody><tr><td>&quot;1&quot;</td><td>66926</td><td>66927</td><td>&quot;3385321&quot;</td><td>&quot;AG&quot;</td><td>&quot;A&quot;</td><td>0.0</td><td>&quot;&quot;</td><td>null</td><td>null</td><td>null</td><td>3544463</td><td>[&quot;Retinitis_pigmentosa&quot;]</td><td>null</td><td>[&quot;Human_Phenotype_Ontology:HP:0000547&quot;, &quot;MONDO:MONDO:0019200&quot;, … &quot;Orphanet:791&quot;]</td><td>null</td><td>[&quot;NC_000001.11:g.66927del&quot;]</td><td>[&quot;criteria_provided&quot;, &quot;_single_submitter&quot;]</td><td>[&quot;Uncertain_significance&quot;]</td><td>null</td><td>null</td><td>[&quot;SCV005419006&quot;]</td><td>&quot;Deletion&quot;</td><td>&quot;SO:0000159&quot;</td><td>null</td><td>null</td><td>&quot;OR4F5:79501&quot;</td><td>[&quot;SO:0001627|intron_variant&quot;]</td><td>null</td><td>null</td><td>null</td><td>null</td><td>null</td><td>null</td><td>null</td><td>null</td><td>null</td><td>[&quot;0&quot;]</td><td>null</td><td>null</td><td>null</td><td>null</td><td>null</td><td>null</td><td>null</td><td>null</td><td>null</td></tr><tr><td>&quot;1&quot;</td><td>69134</td><td>69134</td><td>&quot;2205837&quot;</td><td>&quot;A&quot;</td><td>&quot;G&quot;</td><td>0.0</td><td>&quot;&quot;</td><td>null</td><td>null</td><td>null</td><td>2193183</td><td>[&quot;not_specified&quot;]</td><td>null</td><td>[&quot;MedGen:CN169374&quot;]</td><td>null</td><td>[&quot;NC_000001.11:g.69134A&gt;G&quot;]</td><td>[&quot;criteria_provided&quot;, &quot;_single_submitter&quot;]</td><td>[&quot;Likely_benign&quot;]</td><td>null</td><td>null</td><td>[&quot;SCV003526545&quot;]</td><td>&quot;single_nucleotide_variant&quot;</td><td>&quot;SO:0001483&quot;</td><td>[&quot;ClinGen:CA502008&quot;]</td><td>null</td><td>&quot;OR4F5:79501&quot;</td><td>[&quot;SO:0001583|missense_variant&quot;]</td><td>null</td><td>null</td><td>null</td><td>null</td><td>null</td><td>null</td><td>null</td><td>null</td><td>null</td><td>[&quot;1&quot;]</td><td>[&quot;781394307&quot;]</td><td>null</td><td>null</td><td>null</td><td>null</td><td>null</td><td>null</td><td>null</td><td>null</td></tr><tr><td>&quot;1&quot;</td><td>69308</td><td>69308</td><td>&quot;3925305&quot;</td><td>&quot;A&quot;</td><td>&quot;G&quot;</td><td>0.0</td><td>&quot;&quot;</td><td>null</td><td>null</td><td>null</td><td>4039319</td><td>[&quot;not_specified&quot;]</td><td>null</td><td>[&quot;MedGen:CN169374&quot;]</td><td>null</td><td>[&quot;NC_000001.11:g.69308A&gt;G&quot;]</td><td>[&quot;criteria_provided&quot;, &quot;_single_submitter&quot;]</td><td>[&quot;Uncertain_significance&quot;]</td><td>null</td><td>null</td><td>[&quot;SCV006120601&quot;]</td><td>&quot;single_nucleotide_variant&quot;</td><td>&quot;SO:0001483&quot;</td><td>null</td><td>null</td><td>&quot;OR4F5:79501&quot;</td><td>[&quot;SO:0001583|missense_variant&quot;]</td><td>null</td><td>null</td><td>null</td><td>null</td><td>null</td><td>null</td><td>null</td><td>null</td><td>null</td><td>[&quot;1&quot;]</td><td>null</td><td>null</td><td>null</td><td>null</td><td>null</td><td>null</td><td>null</td><td>null</td><td>null</td></tr><tr><td>&quot;1&quot;</td><td>69314</td><td>69314</td><td>&quot;3205580&quot;</td><td>&quot;T&quot;</td><td>&quot;G&quot;</td><td>0.0</td><td>&quot;&quot;</td><td>null</td><td>null</td><td>null</td><td>3374047</td><td>[&quot;not_specified&quot;]</td><td>null</td><td>[&quot;MedGen:CN169374&quot;]</td><td>null</td><td>[&quot;NC_000001.11:g.69314T&gt;G&quot;]</td><td>[&quot;criteria_provided&quot;, &quot;_single_submitter&quot;]</td><td>[&quot;Uncertain_significance&quot;]</td><td>null</td><td>null</td><td>[&quot;SCV004995495&quot;]</td><td>&quot;single_nucleotide_variant&quot;</td><td>&quot;SO:0001483&quot;</td><td>[&quot;ClinGen:CA338197388&quot;]</td><td>null</td><td>&quot;OR4F5:79501&quot;</td><td>[&quot;SO:0001583|missense_variant&quot;]</td><td>null</td><td>null</td><td>null</td><td>null</td><td>null</td><td>null</td><td>null</td><td>null</td><td>null</td><td>[&quot;1&quot;]</td><td>[&quot;2521653848&quot;]</td><td>null</td><td>null</td><td>null</td><td>null</td><td>null</td><td>null</td><td>null</td><td>null</td></tr><tr><td>&quot;1&quot;</td><td>69404</td><td>69404</td><td>&quot;3925306&quot;</td><td>&quot;T&quot;</td><td>&quot;C&quot;</td><td>0.0</td><td>&quot;&quot;</td><td>null</td><td>null</td><td>null</td><td>4039320</td><td>[&quot;not_specified&quot;]</td><td>null</td><td>[&quot;MedGen:CN169374&quot;]</td><td>null</td><td>[&quot;NC_000001.11:g.69404T&gt;C&quot;]</td><td>[&quot;criteria_provided&quot;, &quot;_single_submitter&quot;]</td><td>[&quot;Uncertain_significance&quot;]</td><td>null</td><td>null</td><td>[&quot;SCV006120602&quot;]</td><td>&quot;single_nucleotide_variant&quot;</td><td>&quot;SO:0001483&quot;</td><td>null</td><td>null</td><td>&quot;OR4F5:79501&quot;</td><td>[&quot;SO:0001583|missense_variant&quot;]</td><td>null</td><td>null</td><td>null</td><td>null</td><td>null</td><td>null</td><td>null</td><td>null</td><td>null</td><td>[&quot;1&quot;]</td><td>null</td><td>null</td><td>null</td><td>null</td><td>null</td><td>null</td><td>null</td><td>null</td><td>null</td></tr></tbody></table></div>"
      ],
      "text/plain": [
       "shape: (5, 47)\n",
       "┌───────┬───────┬───────┬─────────┬─────┬─────┬──────┬────────┬────────┬─────────┬────────┬──────────┬──────────────────────────┬───────────┬──────────────────────────────────────────────────────────────────────────────────┬──────────────┬─────────────────────────────┬────────────────────────────────────────────┬────────────────────────────┬────────────┬────────────┬──────────────────┬───────────────────────────┬────────────┬─────────────────────────┬───────────┬─────────────┬─────────────────────────────────┬───────────┬───────────┬───────────┬──────────────┬───────────┬───────────┬────────────┬───────────┬───────────┬───────────┬────────────────┬───────────┬───────────┬───────────┬──────────────┬────────────┬───────────┬───────────┬───────────┐\n",
       "│ chrom ┆ start ┆ end   ┆ id      ┆ ref ┆ alt ┆ qual ┆ filter ┆ af_esp ┆ af_exac ┆ af_tgp ┆ alleleid ┆ clndn                    ┆ clndnincl ┆ clndisdb                                                                         ┆ clndisdbincl ┆ clnhgvs                     ┆ clnrevstat                                 ┆ clnsig                     ┆ clnsigconf ┆ clnsigincl ┆ clnsigscv        ┆ clnvc                     ┆ clnvcso    ┆ clnvi                   ┆ dbvarid   ┆ geneinfo    ┆ mc                              ┆ oncdn     ┆ oncdnincl ┆ oncdisdb  ┆ oncdisdbincl ┆ onc       ┆ oncincl   ┆ oncrevstat ┆ oncscv    ┆ oncconf   ┆ origin    ┆ rs             ┆ scidn     ┆ scidnincl ┆ scidisdb  ┆ scidisdbincl ┆ scirevstat ┆ sci       ┆ sciincl   ┆ sciscv    │\n",
       "│ ---   ┆ ---   ┆ ---   ┆ ---     ┆ --- ┆ --- ┆ ---  ┆ ---    ┆ ---    ┆ ---     ┆ ---    ┆ ---      ┆ ---                      ┆ ---       ┆ ---                                                                              ┆ ---          ┆ ---                         ┆ ---                                        ┆ ---                        ┆ ---        ┆ ---        ┆ ---              ┆ ---                       ┆ ---        ┆ ---                     ┆ ---       ┆ ---         ┆ ---                             ┆ ---       ┆ ---       ┆ ---       ┆ ---          ┆ ---       ┆ ---       ┆ ---        ┆ ---       ┆ ---       ┆ ---       ┆ ---            ┆ ---       ┆ ---       ┆ ---       ┆ ---          ┆ ---        ┆ ---       ┆ ---       ┆ ---       │\n",
       "│ str   ┆ u32   ┆ u32   ┆ str     ┆ str ┆ str ┆ f64  ┆ str    ┆ f32    ┆ f32     ┆ f32    ┆ i32      ┆ list[str]                ┆ list[str] ┆ list[str]                                                                        ┆ list[str]    ┆ list[str]                   ┆ list[str]                                  ┆ list[str]                  ┆ list[str]  ┆ list[str]  ┆ list[str]        ┆ str                       ┆ str        ┆ list[str]               ┆ list[str] ┆ str         ┆ list[str]                       ┆ list[str] ┆ list[str] ┆ list[str] ┆ list[str]    ┆ list[str] ┆ list[str] ┆ list[str]  ┆ list[str] ┆ list[str] ┆ list[str] ┆ list[str]      ┆ list[str] ┆ list[str] ┆ list[str] ┆ list[str]    ┆ list[str]  ┆ list[str] ┆ list[str] ┆ list[str] │\n",
       "╞═══════╪═══════╪═══════╪═════════╪═════╪═════╪══════╪════════╪════════╪═════════╪════════╪══════════╪══════════════════════════╪═══════════╪══════════════════════════════════════════════════════════════════════════════════╪══════════════╪═════════════════════════════╪════════════════════════════════════════════╪════════════════════════════╪════════════╪════════════╪══════════════════╪═══════════════════════════╪════════════╪═════════════════════════╪═══════════╪═════════════╪═════════════════════════════════╪═══════════╪═══════════╪═══════════╪══════════════╪═══════════╪═══════════╪════════════╪═══════════╪═══════════╪═══════════╪════════════════╪═══════════╪═══════════╪═══════════╪══════════════╪════════════╪═══════════╪═══════════╪═══════════╡\n",
       "│ 1     ┆ 66926 ┆ 66927 ┆ 3385321 ┆ AG  ┆ A   ┆ 0.0  ┆        ┆ null   ┆ null    ┆ null   ┆ 3544463  ┆ [\"Retinitis_pigmentosa\"] ┆ null      ┆ [\"Human_Phenotype_Ontology:HP:0000547\", \"MONDO:MONDO:0019200\", … \"Orphanet:791\"] ┆ null         ┆ [\"NC_000001.11:g.66927del\"] ┆ [\"criteria_provided\", \"_single_submitter\"] ┆ [\"Uncertain_significance\"] ┆ null       ┆ null       ┆ [\"SCV005419006\"] ┆ Deletion                  ┆ SO:0000159 ┆ null                    ┆ null      ┆ OR4F5:79501 ┆ [\"SO:0001627|intron_variant\"]   ┆ null      ┆ null      ┆ null      ┆ null         ┆ null      ┆ null      ┆ null       ┆ null      ┆ null      ┆ [\"0\"]     ┆ null           ┆ null      ┆ null      ┆ null      ┆ null         ┆ null       ┆ null      ┆ null      ┆ null      │\n",
       "│ 1     ┆ 69134 ┆ 69134 ┆ 2205837 ┆ A   ┆ G   ┆ 0.0  ┆        ┆ null   ┆ null    ┆ null   ┆ 2193183  ┆ [\"not_specified\"]        ┆ null      ┆ [\"MedGen:CN169374\"]                                                              ┆ null         ┆ [\"NC_000001.11:g.69134A>G\"] ┆ [\"criteria_provided\", \"_single_submitter\"] ┆ [\"Likely_benign\"]          ┆ null       ┆ null       ┆ [\"SCV003526545\"] ┆ single_nucleotide_variant ┆ SO:0001483 ┆ [\"ClinGen:CA502008\"]    ┆ null      ┆ OR4F5:79501 ┆ [\"SO:0001583|missense_variant\"] ┆ null      ┆ null      ┆ null      ┆ null         ┆ null      ┆ null      ┆ null       ┆ null      ┆ null      ┆ [\"1\"]     ┆ [\"781394307\"]  ┆ null      ┆ null      ┆ null      ┆ null         ┆ null       ┆ null      ┆ null      ┆ null      │\n",
       "│ 1     ┆ 69308 ┆ 69308 ┆ 3925305 ┆ A   ┆ G   ┆ 0.0  ┆        ┆ null   ┆ null    ┆ null   ┆ 4039319  ┆ [\"not_specified\"]        ┆ null      ┆ [\"MedGen:CN169374\"]                                                              ┆ null         ┆ [\"NC_000001.11:g.69308A>G\"] ┆ [\"criteria_provided\", \"_single_submitter\"] ┆ [\"Uncertain_significance\"] ┆ null       ┆ null       ┆ [\"SCV006120601\"] ┆ single_nucleotide_variant ┆ SO:0001483 ┆ null                    ┆ null      ┆ OR4F5:79501 ┆ [\"SO:0001583|missense_variant\"] ┆ null      ┆ null      ┆ null      ┆ null         ┆ null      ┆ null      ┆ null       ┆ null      ┆ null      ┆ [\"1\"]     ┆ null           ┆ null      ┆ null      ┆ null      ┆ null         ┆ null       ┆ null      ┆ null      ┆ null      │\n",
       "│ 1     ┆ 69314 ┆ 69314 ┆ 3205580 ┆ T   ┆ G   ┆ 0.0  ┆        ┆ null   ┆ null    ┆ null   ┆ 3374047  ┆ [\"not_specified\"]        ┆ null      ┆ [\"MedGen:CN169374\"]                                                              ┆ null         ┆ [\"NC_000001.11:g.69314T>G\"] ┆ [\"criteria_provided\", \"_single_submitter\"] ┆ [\"Uncertain_significance\"] ┆ null       ┆ null       ┆ [\"SCV004995495\"] ┆ single_nucleotide_variant ┆ SO:0001483 ┆ [\"ClinGen:CA338197388\"] ┆ null      ┆ OR4F5:79501 ┆ [\"SO:0001583|missense_variant\"] ┆ null      ┆ null      ┆ null      ┆ null         ┆ null      ┆ null      ┆ null       ┆ null      ┆ null      ┆ [\"1\"]     ┆ [\"2521653848\"] ┆ null      ┆ null      ┆ null      ┆ null         ┆ null       ┆ null      ┆ null      ┆ null      │\n",
       "│ 1     ┆ 69404 ┆ 69404 ┆ 3925306 ┆ T   ┆ C   ┆ 0.0  ┆        ┆ null   ┆ null    ┆ null   ┆ 4039320  ┆ [\"not_specified\"]        ┆ null      ┆ [\"MedGen:CN169374\"]                                                              ┆ null         ┆ [\"NC_000001.11:g.69404T>C\"] ┆ [\"criteria_provided\", \"_single_submitter\"] ┆ [\"Uncertain_significance\"] ┆ null       ┆ null       ┆ [\"SCV006120602\"] ┆ single_nucleotide_variant ┆ SO:0001483 ┆ null                    ┆ null      ┆ OR4F5:79501 ┆ [\"SO:0001583|missense_variant\"] ┆ null      ┆ null      ┆ null      ┆ null         ┆ null      ┆ null      ┆ null       ┆ null      ┆ null      ┆ [\"1\"]     ┆ null           ┆ null      ┆ null      ┆ null      ┆ null         ┆ null       ┆ null      ┆ null      ┆ null      │\n",
       "└───────┴───────┴───────┴─────────┴─────┴─────┴──────┴────────┴────────┴─────────┴────────┴──────────┴──────────────────────────┴───────────┴──────────────────────────────────────────────────────────────────────────────────┴──────────────┴─────────────────────────────┴────────────────────────────────────────────┴────────────────────────────┴────────────┴────────────┴──────────────────┴───────────────────────────┴────────────┴─────────────────────────┴───────────┴─────────────┴─────────────────────────────────┴───────────┴───────────┴───────────┴──────────────┴───────────┴───────────┴────────────┴───────────┴───────────┴───────────┴────────────────┴───────────┴───────────┴───────────┴──────────────┴────────────┴───────────┴───────────┴───────────┘"
      ]
     },
     "execution_count": 6,
     "metadata": {},
     "output_type": "execute_result"
    }
   ],
   "source": [
    "from genobear.io import read_vcf_file\n",
    "vcf = clinvar_folder / \"hg38\" / \"clinvar.vcf\"\n",
    "clinvar = read_vcf_file(vcf, to_parquet=False, streaming=False)\n",
    "clinvar.head().collect()"
   ]
  },
  {
   "cell_type": "markdown",
   "id": "200c4981",
   "metadata": {},
   "source": [
    "Load Genomic Sample\n",
    "==================="
   ]
  },
  {
   "cell_type": "code",
   "execution_count": null,
   "id": "a1ddb1dc",
   "metadata": {},
   "outputs": [],
   "source": [
    "from genobear.io import read_vcf_file\n",
    "from pathlib import Path\n",
    "\n",
    "data_folder = current_folder / \"data\"\n",
    "test_folder = data_folder / \"tests\"\n",
    "\n",
    "assert test_folder.exists(), f\"Test folder {test_folder} does not exist\"\n"
   ]
  },
  {
   "cell_type": "code",
   "execution_count": 15,
   "id": "13fe870b",
   "metadata": {},
   "outputs": [
    {
     "data": {
      "text/html": [
       "<div><style>\n",
       ".dataframe > thead > tr,\n",
       ".dataframe > tbody > tr {\n",
       "  text-align: right;\n",
       "  white-space: pre-wrap;\n",
       "}\n",
       "</style>\n",
       "<small>shape: (5, 8)</small><table border=\"1\" class=\"dataframe\"><thead><tr><th>chrom</th><th>start</th><th>end</th><th>id</th><th>ref</th><th>alt</th><th>qual</th><th>filter</th></tr><tr><td>str</td><td>u32</td><td>u32</td><td>str</td><td>str</td><td>str</td><td>f64</td><td>str</td></tr></thead><tbody><tr><td>&quot;1&quot;</td><td>10009</td><td>10009</td><td>&quot;&quot;</td><td>&quot;A&quot;</td><td>&quot;AC&quot;</td><td>0.0</td><td>&quot;RefCall&quot;</td></tr><tr><td>&quot;1&quot;</td><td>10015</td><td>10015</td><td>&quot;&quot;</td><td>&quot;A&quot;</td><td>&quot;G&quot;</td><td>0.0</td><td>&quot;RefCall&quot;</td></tr><tr><td>&quot;1&quot;</td><td>10021</td><td>10021</td><td>&quot;&quot;</td><td>&quot;A&quot;</td><td>&quot;G&quot;</td><td>0.0</td><td>&quot;RefCall&quot;</td></tr><tr><td>&quot;1&quot;</td><td>10027</td><td>10027</td><td>&quot;&quot;</td><td>&quot;A&quot;</td><td>&quot;G&quot;</td><td>0.0</td><td>&quot;RefCall&quot;</td></tr><tr><td>&quot;1&quot;</td><td>10033</td><td>10033</td><td>&quot;&quot;</td><td>&quot;A&quot;</td><td>&quot;G&quot;</td><td>0.0</td><td>&quot;RefCall&quot;</td></tr></tbody></table></div>"
      ],
      "text/plain": [
       "shape: (5, 8)\n",
       "┌───────┬───────┬───────┬─────┬─────┬─────┬──────┬─────────┐\n",
       "│ chrom ┆ start ┆ end   ┆ id  ┆ ref ┆ alt ┆ qual ┆ filter  │\n",
       "│ ---   ┆ ---   ┆ ---   ┆ --- ┆ --- ┆ --- ┆ ---  ┆ ---     │\n",
       "│ str   ┆ u32   ┆ u32   ┆ str ┆ str ┆ str ┆ f64  ┆ str     │\n",
       "╞═══════╪═══════╪═══════╪═════╪═════╪═════╪══════╪═════════╡\n",
       "│ 1     ┆ 10009 ┆ 10009 ┆     ┆ A   ┆ AC  ┆ 0.0  ┆ RefCall │\n",
       "│ 1     ┆ 10015 ┆ 10015 ┆     ┆ A   ┆ G   ┆ 0.0  ┆ RefCall │\n",
       "│ 1     ┆ 10021 ┆ 10021 ┆     ┆ A   ┆ G   ┆ 0.0  ┆ RefCall │\n",
       "│ 1     ┆ 10027 ┆ 10027 ┆     ┆ A   ┆ G   ┆ 0.0  ┆ RefCall │\n",
       "│ 1     ┆ 10033 ┆ 10033 ┆     ┆ A   ┆ G   ┆ 0.0  ┆ RefCall │\n",
       "└───────┴───────┴───────┴─────┴─────┴─────┴──────┴─────────┘"
      ]
     },
     "execution_count": 15,
     "metadata": {},
     "output_type": "execute_result"
    }
   ],
   "source": [
    "sample_vcf = test_folder / \"antonkulaga.vcf\"\n",
    "sample = read_vcf_file(sample_vcf, info_fields=[], streaming=False)\n",
    "sample.head().collect()"
   ]
  },
  {
   "cell_type": "markdown",
   "id": "ae69993c",
   "metadata": {},
   "source": [
    "## Annotation with clinvar"
   ]
  },
  {
   "cell_type": "code",
   "execution_count": 23,
   "id": "755d1065",
   "metadata": {},
   "outputs": [
    {
     "name": "stderr",
     "output_type": "stream",
     "text": [
      "/tmp/ipykernel_178433/374950290.py:1: PerformanceWarning: Determining the column names of a LazyFrame requires resolving its schema, which is a potentially expensive operation. Use `LazyFrame.collect_schema().names()` to get the column names without this warning.\n",
      "  sample.columns\n"
     ]
    },
    {
     "data": {
      "text/plain": [
       "['chrom', 'start', 'end', 'id', 'ref', 'alt', 'qual', 'filter']"
      ]
     },
     "execution_count": 23,
     "metadata": {},
     "output_type": "execute_result"
    }
   ],
   "source": [
    "sample.columns"
   ]
  },
  {
   "cell_type": "code",
   "execution_count": null,
   "id": "c91f15c5",
   "metadata": {},
   "outputs": [],
   "source": [
    "sample.join(clinvar, on=[\"chrom\", \"start\", \"end\"], how=\"left\").collect()"
   ]
  },
  {
   "cell_type": "code",
   "execution_count": 21,
   "id": "59cb5d73",
   "metadata": {},
   "outputs": [
    {
     "data": {
      "text/html": [
       "<div><style>\n",
       ".dataframe > thead > tr,\n",
       ".dataframe > tbody > tr {\n",
       "  text-align: right;\n",
       "  white-space: pre-wrap;\n",
       "}\n",
       "</style>\n",
       "<small>shape: (39, 3)</small><table border=\"1\" class=\"dataframe\"><thead><tr><th>name</th><th>type</th><th>description</th></tr><tr><td>str</td><td>str</td><td>str</td></tr></thead><tbody><tr><td>&quot;AF_ESP&quot;</td><td>&quot;Float&quot;</td><td>&quot;allele frequencies from GO-ESP&quot;</td></tr><tr><td>&quot;AF_EXAC&quot;</td><td>&quot;Float&quot;</td><td>&quot;allele frequencies from ExAC&quot;</td></tr><tr><td>&quot;AF_TGP&quot;</td><td>&quot;Float&quot;</td><td>&quot;allele frequencies from TGP&quot;</td></tr><tr><td>&quot;ALLELEID&quot;</td><td>&quot;Integer&quot;</td><td>&quot;the ClinVar Allele ID&quot;</td></tr><tr><td>&quot;CLNDN&quot;</td><td>&quot;String&quot;</td><td>&quot;ClinVar&#x27;s preferred disease name for the concept specified by disease identifiers in CLNDISDB&quot;</td></tr><tr><td>&quot;CLNDNINCL&quot;</td><td>&quot;String&quot;</td><td>&quot;For included Variant : ClinVar&#x27;s preferred disease name for the concept specified by disease identifiers in CLNDISDB&quot;</td></tr><tr><td>&quot;CLNDISDB&quot;</td><td>&quot;String&quot;</td><td>&quot;Tag-value pairs of disease database name and identifier submitted for germline classifications, e.g. OMIM:NNNNNN&quot;</td></tr><tr><td>&quot;CLNDISDBINCL&quot;</td><td>&quot;String&quot;</td><td>&quot;For included Variant: Tag-value pairs of disease database name and identifier for germline classifications, e.g. OMIM:NNNNNN&quot;</td></tr><tr><td>&quot;CLNHGVS&quot;</td><td>&quot;String&quot;</td><td>&quot;Top-level (primary assembly, alt, or patch) HGVS expression.&quot;</td></tr><tr><td>&quot;CLNREVSTAT&quot;</td><td>&quot;String&quot;</td><td>&quot;ClinVar review status of germline classification for the Variation ID&quot;</td></tr><tr><td>&quot;CLNSIG&quot;</td><td>&quot;String&quot;</td><td>&quot;Aggregate germline classification for this single variant; multiple values are separated by a vertical bar&quot;</td></tr><tr><td>&quot;CLNSIGCONF&quot;</td><td>&quot;String&quot;</td><td>&quot;Conflicting germline classification for this single variant; multiple values are separated by a vertical bar&quot;</td></tr><tr><td>&quot;CLNSIGINCL&quot;</td><td>&quot;String&quot;</td><td>&quot;Germline classification for a haplotype or genotype that includes this variant. Reported as pairs of VariationID:classification; multiple values are separated by a vertical bar&quot;</td></tr><tr><td>&quot;CLNSIGSCV&quot;</td><td>&quot;String&quot;</td><td>&quot;SCV accession numbers for the submissions that contribute to the aggregate germline classification in ClinVar; multiple values are separated by a vertical bar&quot;</td></tr><tr><td>&quot;CLNVC&quot;</td><td>&quot;String&quot;</td><td>&quot;Variant type&quot;</td></tr><tr><td>&quot;CLNVCSO&quot;</td><td>&quot;String&quot;</td><td>&quot;Sequence Ontology id for variant type&quot;</td></tr><tr><td>&quot;CLNVI&quot;</td><td>&quot;String&quot;</td><td>&quot;the variant&#x27;s clinical sources reported as tag-value pairs of database and variant identifier&quot;</td></tr><tr><td>&quot;DBVARID&quot;</td><td>&quot;String&quot;</td><td>&quot;nsv accessions from dbVar for the variant&quot;</td></tr><tr><td>&quot;GENEINFO&quot;</td><td>&quot;String&quot;</td><td>&quot;Gene(s) for the variant reported as gene symbol:gene id. The gene symbol and id are delimited by a colon (:) and each pair is delimited by a vertical bar (|)&quot;</td></tr><tr><td>&quot;MC&quot;</td><td>&quot;String&quot;</td><td>&quot;comma separated list of molecular consequence in the form of Sequence Ontology ID|molecular_consequence&quot;</td></tr><tr><td>&quot;ONCDN&quot;</td><td>&quot;String&quot;</td><td>&quot;ClinVar&#x27;s preferred disease name for the concept specified by disease identifiers in ONCDISDB&quot;</td></tr><tr><td>&quot;ONCDNINCL&quot;</td><td>&quot;String&quot;</td><td>&quot;For included variant: ClinVar&#x27;s preferred disease name for the concept specified by disease identifiers in ONCDISDBINCL&quot;</td></tr><tr><td>&quot;ONCDISDB&quot;</td><td>&quot;String&quot;</td><td>&quot;Tag-value pairs of disease database name and identifier submitted for oncogenicity classifications, e.g. MedGen:NNNNNN&quot;</td></tr><tr><td>&quot;ONCDISDBINCL&quot;</td><td>&quot;String&quot;</td><td>&quot;For included variant: Tag-value pairs of disease database name and identifier for oncogenicity classifications, e.g. OMIM:NNNNNN&quot;</td></tr><tr><td>&quot;ONC&quot;</td><td>&quot;String&quot;</td><td>&quot;Aggregate oncogenicity classification for this single variant; multiple values are separated by a vertical bar&quot;</td></tr><tr><td>&quot;ONCINCL&quot;</td><td>&quot;String&quot;</td><td>&quot;Oncogenicity classification for a haplotype or genotype that includes this variant. Reported as pairs of VariationID:classification; multiple values are separated by a vertical bar&quot;</td></tr><tr><td>&quot;ONCREVSTAT&quot;</td><td>&quot;String&quot;</td><td>&quot;ClinVar review status of oncogenicity classification for the Variation ID&quot;</td></tr><tr><td>&quot;ONCSCV&quot;</td><td>&quot;String&quot;</td><td>&quot;SCV accession numbers for the submissions that contribute to the aggregate oncogenicity classification in ClinVar; multiple values are separated by a vertical bar&quot;</td></tr><tr><td>&quot;ONCCONF&quot;</td><td>&quot;String&quot;</td><td>&quot;Conflicting oncogenicity classification for this single variant; multiple values are separated by a vertical bar&quot;</td></tr><tr><td>&quot;ORIGIN&quot;</td><td>&quot;String&quot;</td><td>&quot;Allele origin. One or more of the following values may be added: 0 - unknown; 1 - germline; 2 - somatic; 4 - inherited; 8 - paternal; 16 - maternal; 32 - de-novo; 64 - biparental; 128 - uniparental; 256 - not-tested; 512 - tested-inconclusive; 1073741824 - other&quot;</td></tr><tr><td>&quot;RS&quot;</td><td>&quot;String&quot;</td><td>&quot;dbSNP ID (i.e. rs number)&quot;</td></tr><tr><td>&quot;SCIDN&quot;</td><td>&quot;String&quot;</td><td>&quot;ClinVar&#x27;s preferred disease name for the concept specified by disease identifiers in SCIDISDB&quot;</td></tr><tr><td>&quot;SCIDNINCL&quot;</td><td>&quot;String&quot;</td><td>&quot;For included variant: ClinVar&#x27;s preferred disease name for the concept specified by disease identifiers in SCIDISDBINCL&quot;</td></tr><tr><td>&quot;SCIDISDB&quot;</td><td>&quot;String&quot;</td><td>&quot;Tag-value pairs of disease database name and identifier submitted for somatic clinial impact classifications, e.g. MedGen:NNNNNN&quot;</td></tr><tr><td>&quot;SCIDISDBINCL&quot;</td><td>&quot;String&quot;</td><td>&quot;For included variant: Tag-value pairs of disease database name and identifier for somatic clinical impact classifications, e.g. OMIM:NNNNNN&quot;</td></tr><tr><td>&quot;SCIREVSTAT&quot;</td><td>&quot;String&quot;</td><td>&quot;ClinVar review status of somatic clinical impact for the Variation ID&quot;</td></tr><tr><td>&quot;SCI&quot;</td><td>&quot;String&quot;</td><td>&quot;Aggregate somatic clinical impact for this single variant; multiple values are separated by a vertical bar&quot;</td></tr><tr><td>&quot;SCIINCL&quot;</td><td>&quot;String&quot;</td><td>&quot;Somatic clinical impact classification for a haplotype or genotype that includes this variant. Reported as pairs of VariationID:classification; multiple values are separated by a vertical bar&quot;</td></tr><tr><td>&quot;SCISCV&quot;</td><td>&quot;String&quot;</td><td>&quot;SCV accession numbers for the submissions that contribute to the aggregate somatic clinical impact in ClinVar; multiple values are separated by a vertical bar&quot;</td></tr></tbody></table></div>"
      ],
      "text/plain": [
       "shape: (39, 3)\n",
       "┌──────────────┬─────────┬────────────────────────────────────────────────────────────────────────────────────────────────────────────────────────────────────────────────────────────────────────────────────────────────────────────────────────────────────────────────────────────────────────┐\n",
       "│ name         ┆ type    ┆ description                                                                                                                                                                                                                                                            │\n",
       "│ ---          ┆ ---     ┆ ---                                                                                                                                                                                                                                                                    │\n",
       "│ str          ┆ str     ┆ str                                                                                                                                                                                                                                                                    │\n",
       "╞══════════════╪═════════╪════════════════════════════════════════════════════════════════════════════════════════════════════════════════════════════════════════════════════════════════════════════════════════════════════════════════════════════════════════════════════════════════════════╡\n",
       "│ AF_ESP       ┆ Float   ┆ allele frequencies from GO-ESP                                                                                                                                                                                                                                         │\n",
       "│ AF_EXAC      ┆ Float   ┆ allele frequencies from ExAC                                                                                                                                                                                                                                           │\n",
       "│ AF_TGP       ┆ Float   ┆ allele frequencies from TGP                                                                                                                                                                                                                                            │\n",
       "│ ALLELEID     ┆ Integer ┆ the ClinVar Allele ID                                                                                                                                                                                                                                                  │\n",
       "│ CLNDN        ┆ String  ┆ ClinVar's preferred disease name for the concept specified by disease identifiers in CLNDISDB                                                                                                                                                                          │\n",
       "│ CLNDNINCL    ┆ String  ┆ For included Variant : ClinVar's preferred disease name for the concept specified by disease identifiers in CLNDISDB                                                                                                                                                   │\n",
       "│ CLNDISDB     ┆ String  ┆ Tag-value pairs of disease database name and identifier submitted for germline classifications, e.g. OMIM:NNNNNN                                                                                                                                                       │\n",
       "│ CLNDISDBINCL ┆ String  ┆ For included Variant: Tag-value pairs of disease database name and identifier for germline classifications, e.g. OMIM:NNNNNN                                                                                                                                           │\n",
       "│ CLNHGVS      ┆ String  ┆ Top-level (primary assembly, alt, or patch) HGVS expression.                                                                                                                                                                                                           │\n",
       "│ CLNREVSTAT   ┆ String  ┆ ClinVar review status of germline classification for the Variation ID                                                                                                                                                                                                  │\n",
       "│ CLNSIG       ┆ String  ┆ Aggregate germline classification for this single variant; multiple values are separated by a vertical bar                                                                                                                                                             │\n",
       "│ CLNSIGCONF   ┆ String  ┆ Conflicting germline classification for this single variant; multiple values are separated by a vertical bar                                                                                                                                                           │\n",
       "│ CLNSIGINCL   ┆ String  ┆ Germline classification for a haplotype or genotype that includes this variant. Reported as pairs of VariationID:classification; multiple values are separated by a vertical bar                                                                                       │\n",
       "│ CLNSIGSCV    ┆ String  ┆ SCV accession numbers for the submissions that contribute to the aggregate germline classification in ClinVar; multiple values are separated by a vertical bar                                                                                                         │\n",
       "│ CLNVC        ┆ String  ┆ Variant type                                                                                                                                                                                                                                                           │\n",
       "│ CLNVCSO      ┆ String  ┆ Sequence Ontology id for variant type                                                                                                                                                                                                                                  │\n",
       "│ CLNVI        ┆ String  ┆ the variant's clinical sources reported as tag-value pairs of database and variant identifier                                                                                                                                                                          │\n",
       "│ DBVARID      ┆ String  ┆ nsv accessions from dbVar for the variant                                                                                                                                                                                                                              │\n",
       "│ GENEINFO     ┆ String  ┆ Gene(s) for the variant reported as gene symbol:gene id. The gene symbol and id are delimited by a colon (:) and each pair is delimited by a vertical bar (|)                                                                                                          │\n",
       "│ MC           ┆ String  ┆ comma separated list of molecular consequence in the form of Sequence Ontology ID|molecular_consequence                                                                                                                                                                │\n",
       "│ ONCDN        ┆ String  ┆ ClinVar's preferred disease name for the concept specified by disease identifiers in ONCDISDB                                                                                                                                                                          │\n",
       "│ ONCDNINCL    ┆ String  ┆ For included variant: ClinVar's preferred disease name for the concept specified by disease identifiers in ONCDISDBINCL                                                                                                                                                │\n",
       "│ ONCDISDB     ┆ String  ┆ Tag-value pairs of disease database name and identifier submitted for oncogenicity classifications, e.g. MedGen:NNNNNN                                                                                                                                                 │\n",
       "│ ONCDISDBINCL ┆ String  ┆ For included variant: Tag-value pairs of disease database name and identifier for oncogenicity classifications, e.g. OMIM:NNNNNN                                                                                                                                       │\n",
       "│ ONC          ┆ String  ┆ Aggregate oncogenicity classification for this single variant; multiple values are separated by a vertical bar                                                                                                                                                         │\n",
       "│ ONCINCL      ┆ String  ┆ Oncogenicity classification for a haplotype or genotype that includes this variant. Reported as pairs of VariationID:classification; multiple values are separated by a vertical bar                                                                                   │\n",
       "│ ONCREVSTAT   ┆ String  ┆ ClinVar review status of oncogenicity classification for the Variation ID                                                                                                                                                                                              │\n",
       "│ ONCSCV       ┆ String  ┆ SCV accession numbers for the submissions that contribute to the aggregate oncogenicity classification in ClinVar; multiple values are separated by a vertical bar                                                                                                     │\n",
       "│ ONCCONF      ┆ String  ┆ Conflicting oncogenicity classification for this single variant; multiple values are separated by a vertical bar                                                                                                                                                       │\n",
       "│ ORIGIN       ┆ String  ┆ Allele origin. One or more of the following values may be added: 0 - unknown; 1 - germline; 2 - somatic; 4 - inherited; 8 - paternal; 16 - maternal; 32 - de-novo; 64 - biparental; 128 - uniparental; 256 - not-tested; 512 - tested-inconclusive; 1073741824 - other │\n",
       "│ RS           ┆ String  ┆ dbSNP ID (i.e. rs number)                                                                                                                                                                                                                                              │\n",
       "│ SCIDN        ┆ String  ┆ ClinVar's preferred disease name for the concept specified by disease identifiers in SCIDISDB                                                                                                                                                                          │\n",
       "│ SCIDNINCL    ┆ String  ┆ For included variant: ClinVar's preferred disease name for the concept specified by disease identifiers in SCIDISDBINCL                                                                                                                                                │\n",
       "│ SCIDISDB     ┆ String  ┆ Tag-value pairs of disease database name and identifier submitted for somatic clinial impact classifications, e.g. MedGen:NNNNNN                                                                                                                                       │\n",
       "│ SCIDISDBINCL ┆ String  ┆ For included variant: Tag-value pairs of disease database name and identifier for somatic clinical impact classifications, e.g. OMIM:NNNNNN                                                                                                                            │\n",
       "│ SCIREVSTAT   ┆ String  ┆ ClinVar review status of somatic clinical impact for the Variation ID                                                                                                                                                                                                  │\n",
       "│ SCI          ┆ String  ┆ Aggregate somatic clinical impact for this single variant; multiple values are separated by a vertical bar                                                                                                                                                             │\n",
       "│ SCIINCL      ┆ String  ┆ Somatic clinical impact classification for a haplotype or genotype that includes this variant. Reported as pairs of VariationID:classification; multiple values are separated by a vertical bar                                                                        │\n",
       "│ SCISCV       ┆ String  ┆ SCV accession numbers for the submissions that contribute to the aggregate somatic clinical impact in ClinVar; multiple values are separated by a vertical bar                                                                                                         │\n",
       "└──────────────┴─────────┴────────────────────────────────────────────────────────────────────────────────────────────────────────────────────────────────────────────────────────────────────────────────────────────────────────────────────────────────────────────────────────────────────────┘"
      ]
     },
     "execution_count": 21,
     "metadata": {},
     "output_type": "execute_result"
    }
   ],
   "source": [
    "pb.describe_vcf(str(clinvar_vcf))"
   ]
  },
  {
   "cell_type": "code",
   "execution_count": 22,
   "id": "ba4df349",
   "metadata": {},
   "outputs": [
    {
     "ename": "NameError",
     "evalue": "name 'sample_small_vcf' is not defined",
     "output_type": "error",
     "traceback": [
      "\u001b[31m---------------------------------------------------------------------------\u001b[39m",
      "\u001b[31mNameError\u001b[39m                                 Traceback (most recent call last)",
      "\u001b[36mCell\u001b[39m\u001b[36m \u001b[39m\u001b[32mIn[22]\u001b[39m\u001b[32m, line 2\u001b[39m\n\u001b[32m      1\u001b[39m \u001b[38;5;66;03m# Test the function with both regular and gzipped VCF files\u001b[39;00m\n\u001b[32m----> \u001b[39m\u001b[32m2\u001b[39m sample_small = read_vcf_file(\u001b[43msample_small_vcf\u001b[49m)\n",
      "\u001b[31mNameError\u001b[39m: name 'sample_small_vcf' is not defined"
     ]
    }
   ],
   "source": [
    "# Test the function with both regular and gzipped VCF files\n",
    "sample_small = read_vcf_file(sample_small_vcf)"
   ]
  },
  {
   "cell_type": "code",
   "execution_count": null,
   "id": "3355d0cf",
   "metadata": {},
   "outputs": [
    {
     "name": "stdout",
     "output_type": "stream",
     "text": [
      "test\n",
      "\tlongevity_snps_1000genom.vcf.gz\n",
      "\tantonkulaga.vcf\n",
      "\tantku_small.vcf\n",
      "\tlongevity_snps_1000genom.vcf\n"
     ]
    }
   ],
   "source": [
    "data_folder = Path(\"../data\").absolute().resolve()\n",
    "test_folder = data_folder / \"test\"\n",
    "\n",
    "files.tprint(test_folder)\n"
   ]
  },
  {
   "cell_type": "markdown",
   "id": "fa5fb41a",
   "metadata": {},
   "source": [
    "## Samples\n",
    "\n",
    "Loading samples"
   ]
  },
  {
   "cell_type": "code",
   "execution_count": null,
   "id": "0892fb40",
   "metadata": {},
   "outputs": [
    {
     "data": {
      "text/html": [
       "<div><style>\n",
       ".dataframe > thead > tr,\n",
       ".dataframe > tbody > tr {\n",
       "  text-align: right;\n",
       "  white-space: pre-wrap;\n",
       "}\n",
       "</style>\n",
       "<small>shape: (5, 8)</small><table border=\"1\" class=\"dataframe\"><thead><tr><th>chrom</th><th>start</th><th>end</th><th>id</th><th>ref</th><th>alt</th><th>qual</th><th>filter</th></tr><tr><td>str</td><td>u32</td><td>u32</td><td>str</td><td>str</td><td>str</td><td>f64</td><td>str</td></tr></thead><tbody><tr><td>&quot;1&quot;</td><td>10009</td><td>10009</td><td>&quot;&quot;</td><td>&quot;A&quot;</td><td>&quot;AC&quot;</td><td>0.0</td><td>&quot;RefCall&quot;</td></tr><tr><td>&quot;1&quot;</td><td>10015</td><td>10015</td><td>&quot;&quot;</td><td>&quot;A&quot;</td><td>&quot;G&quot;</td><td>0.0</td><td>&quot;RefCall&quot;</td></tr><tr><td>&quot;1&quot;</td><td>10021</td><td>10021</td><td>&quot;&quot;</td><td>&quot;A&quot;</td><td>&quot;G&quot;</td><td>0.0</td><td>&quot;RefCall&quot;</td></tr><tr><td>&quot;1&quot;</td><td>10027</td><td>10027</td><td>&quot;&quot;</td><td>&quot;A&quot;</td><td>&quot;G&quot;</td><td>0.0</td><td>&quot;RefCall&quot;</td></tr><tr><td>&quot;1&quot;</td><td>10033</td><td>10033</td><td>&quot;&quot;</td><td>&quot;A&quot;</td><td>&quot;G&quot;</td><td>0.0</td><td>&quot;RefCall&quot;</td></tr></tbody></table></div>"
      ],
      "text/plain": [
       "shape: (5, 8)\n",
       "┌───────┬───────┬───────┬─────┬─────┬─────┬──────┬─────────┐\n",
       "│ chrom ┆ start ┆ end   ┆ id  ┆ ref ┆ alt ┆ qual ┆ filter  │\n",
       "│ ---   ┆ ---   ┆ ---   ┆ --- ┆ --- ┆ --- ┆ ---  ┆ ---     │\n",
       "│ str   ┆ u32   ┆ u32   ┆ str ┆ str ┆ str ┆ f64  ┆ str     │\n",
       "╞═══════╪═══════╪═══════╪═════╪═════╪═════╪══════╪═════════╡\n",
       "│ 1     ┆ 10009 ┆ 10009 ┆     ┆ A   ┆ AC  ┆ 0.0  ┆ RefCall │\n",
       "│ 1     ┆ 10015 ┆ 10015 ┆     ┆ A   ┆ G   ┆ 0.0  ┆ RefCall │\n",
       "│ 1     ┆ 10021 ┆ 10021 ┆     ┆ A   ┆ G   ┆ 0.0  ┆ RefCall │\n",
       "│ 1     ┆ 10027 ┆ 10027 ┆     ┆ A   ┆ G   ┆ 0.0  ┆ RefCall │\n",
       "│ 1     ┆ 10033 ┆ 10033 ┆     ┆ A   ┆ G   ┆ 0.0  ┆ RefCall │\n",
       "└───────┴───────┴───────┴─────┴─────┴─────┴──────┴─────────┘"
      ]
     },
     "execution_count": 72,
     "metadata": {},
     "output_type": "execute_result"
    }
   ],
   "source": [
    "sample_antku = pb.read_vcf(str(test_folder / \"antku_small.vcf\"))\n",
    "sample_antonkulaga = pb.read_vcf(str(test_folder / \"antonkulaga.vcf\"))\n",
    "sample_antku.head().collect()"
   ]
  },
  {
   "cell_type": "code",
   "execution_count": null,
   "id": "dc32b365",
   "metadata": {},
   "outputs": [
    {
     "name": "stderr",
     "output_type": "stream",
     "text": [
      "793rows [00:00, 750300.72rows/s]\n"
     ]
    },
    {
     "data": {
      "text/html": [
       "<div><style>\n",
       ".dataframe > thead > tr,\n",
       ".dataframe > tbody > tr {\n",
       "  text-align: right;\n",
       "  white-space: pre-wrap;\n",
       "}\n",
       "</style>\n",
       "<small>shape: (1, 8)</small><table border=\"1\" class=\"dataframe\"><thead><tr><th>chrom</th><th>start</th><th>end</th><th>id</th><th>ref</th><th>alt</th><th>qual</th><th>filter</th></tr><tr><td>u32</td><td>u32</td><td>u32</td><td>u32</td><td>u32</td><td>u32</td><td>u32</td><td>u32</td></tr></thead><tbody><tr><td>793</td><td>793</td><td>793</td><td>793</td><td>793</td><td>793</td><td>793</td><td>793</td></tr></tbody></table></div>"
      ],
      "text/plain": [
       "shape: (1, 8)\n",
       "┌───────┬───────┬─────┬─────┬─────┬─────┬──────┬────────┐\n",
       "│ chrom ┆ start ┆ end ┆ id  ┆ ref ┆ alt ┆ qual ┆ filter │\n",
       "│ ---   ┆ ---   ┆ --- ┆ --- ┆ --- ┆ --- ┆ ---  ┆ ---    │\n",
       "│ u32   ┆ u32   ┆ u32 ┆ u32 ┆ u32 ┆ u32 ┆ u32  ┆ u32    │\n",
       "╞═══════╪═══════╪═════╪═════╪═════╪═════╪══════╪════════╡\n",
       "│ 793   ┆ 793   ┆ 793 ┆ 793 ┆ 793 ┆ 793 ┆ 793  ┆ 793    │\n",
       "└───────┴───────┴─────┴─────┴─────┴─────┴──────┴────────┘"
      ]
     },
     "execution_count": 75,
     "metadata": {},
     "output_type": "execute_result"
    }
   ],
   "source": [
    "sample_antku.count().collect()"
   ]
  },
  {
   "cell_type": "code",
   "execution_count": null,
   "id": "d4358e0f",
   "metadata": {},
   "outputs": [
    {
     "name": "stderr",
     "output_type": "stream",
     "text": [
      "6079744rows [00:04, 1414880.55rows/s]\n"
     ]
    },
    {
     "data": {
      "text/html": [
       "<div><style>\n",
       ".dataframe > thead > tr,\n",
       ".dataframe > tbody > tr {\n",
       "  text-align: right;\n",
       "  white-space: pre-wrap;\n",
       "}\n",
       "</style>\n",
       "<small>shape: (1, 8)</small><table border=\"1\" class=\"dataframe\"><thead><tr><th>chrom</th><th>start</th><th>end</th><th>id</th><th>ref</th><th>alt</th><th>qual</th><th>filter</th></tr><tr><td>u32</td><td>u32</td><td>u32</td><td>u32</td><td>u32</td><td>u32</td><td>u32</td><td>u32</td></tr></thead><tbody><tr><td>6079744</td><td>6079744</td><td>6079744</td><td>6079744</td><td>6079744</td><td>6079744</td><td>6079744</td><td>6079744</td></tr></tbody></table></div>"
      ],
      "text/plain": [
       "shape: (1, 8)\n",
       "┌─────────┬─────────┬─────────┬─────────┬─────────┬─────────┬─────────┬─────────┐\n",
       "│ chrom   ┆ start   ┆ end     ┆ id      ┆ ref     ┆ alt     ┆ qual    ┆ filter  │\n",
       "│ ---     ┆ ---     ┆ ---     ┆ ---     ┆ ---     ┆ ---     ┆ ---     ┆ ---     │\n",
       "│ u32     ┆ u32     ┆ u32     ┆ u32     ┆ u32     ┆ u32     ┆ u32     ┆ u32     │\n",
       "╞═════════╪═════════╪═════════╪═════════╪═════════╪═════════╪═════════╪═════════╡\n",
       "│ 6079744 ┆ 6079744 ┆ 6079744 ┆ 6079744 ┆ 6079744 ┆ 6079744 ┆ 6079744 ┆ 6079744 │\n",
       "└─────────┴─────────┴─────────┴─────────┴─────────┴─────────┴─────────┴─────────┘"
      ]
     },
     "execution_count": 76,
     "metadata": {},
     "output_type": "execute_result"
    }
   ],
   "source": [
    "sample_antonkulaga.count().collect()"
   ]
  },
  {
   "cell_type": "markdown",
   "id": "29a525e1",
   "metadata": {},
   "source": []
  }
 ],
 "metadata": {
  "kernelspec": {
   "display_name": ".venv",
   "language": "python",
   "name": "python3"
  },
  "language_info": {
   "codemirror_mode": {
    "name": "ipython",
    "version": 3
   },
   "file_extension": ".py",
   "mimetype": "text/x-python",
   "name": "python",
   "nbconvert_exporter": "python",
   "pygments_lexer": "ipython3",
   "version": "3.13.5"
  }
 },
 "nbformat": 4,
 "nbformat_minor": 5
}
